{
  "nbformat": 4,
  "nbformat_minor": 0,
  "metadata": {
    "colab": {
      "name": "POS_tagging_for_w2v.ipynb",
      "provenance": [],
      "collapsed_sections": []
    },
    "kernelspec": {
      "name": "python3",
      "display_name": "Python 3"
    },
    "language_info": {
      "name": "python"
    }
  },
  "cells": [
    {
      "cell_type": "code",
      "metadata": {
        "id": "CY7qb29iVEKQ"
      },
      "source": [
        "!wget https://www.dropbox.com/s/mwpt967ncsjp42a/diaries_revolution_labeled_ver1.csv?dl=0 -O diaries.csv "
      ],
      "execution_count": null,
      "outputs": []
    },
    {
      "cell_type": "code",
      "metadata": {
        "id": "OhRivbEfVIx6"
      },
      "source": [
        "import pandas as pd \n",
        "import numpy as np"
      ],
      "execution_count": null,
      "outputs": []
    },
    {
      "cell_type": "code",
      "metadata": {
        "colab": {
          "base_uri": "https://localhost:8080/",
          "height": 197
        },
        "id": "Hks1n_gbVFOw",
        "outputId": "494306fc-46db-4055-8bc3-2374a0928b70"
      },
      "source": [
        "df = pd.read_csv('diaries.csv')\n",
        "df.head()"
      ],
      "execution_count": null,
      "outputs": [
        {
          "output_type": "execute_result",
          "data": {
            "text/html": [
              "<div>\n",
              "<style scoped>\n",
              "    .dataframe tbody tr th:only-of-type {\n",
              "        vertical-align: middle;\n",
              "    }\n",
              "\n",
              "    .dataframe tbody tr th {\n",
              "        vertical-align: top;\n",
              "    }\n",
              "\n",
              "    .dataframe thead th {\n",
              "        text-align: right;\n",
              "    }\n",
              "</style>\n",
              "<table border=\"1\" class=\"dataframe\">\n",
              "  <thead>\n",
              "    <tr style=\"text-align: right;\">\n",
              "      <th></th>\n",
              "      <th>Author</th>\n",
              "      <th>Date</th>\n",
              "      <th>Text</th>\n",
              "      <th>Позитив</th>\n",
              "      <th>Негатив</th>\n",
              "      <th>Беспокойство</th>\n",
              "      <th>Гнев</th>\n",
              "      <th>Грусть</th>\n",
              "      <th>Уверенность</th>\n",
              "      <th>Согласие</th>\n",
              "    </tr>\n",
              "  </thead>\n",
              "  <tbody>\n",
              "    <tr>\n",
              "      <th>0</th>\n",
              "      <td>Михаил Богословский</td>\n",
              "      <td>1916-11-01</td>\n",
              "      <td>Был в факультетском заседании, на котором Груш...</td>\n",
              "      <td>0.0</td>\n",
              "      <td>1.0</td>\n",
              "      <td>0.0</td>\n",
              "      <td>1.0</td>\n",
              "      <td>1.0</td>\n",
              "      <td>1.0</td>\n",
              "      <td>1.0</td>\n",
              "    </tr>\n",
              "    <tr>\n",
              "      <th>1</th>\n",
              "      <td>Лев Троцкий</td>\n",
              "      <td>1916-11-01</td>\n",
              "      <td>Утром со шпиком ходил на почту. После того пос...</td>\n",
              "      <td>1.0</td>\n",
              "      <td>1.0</td>\n",
              "      <td>1.0</td>\n",
              "      <td>0.0</td>\n",
              "      <td>1.0</td>\n",
              "      <td>1.0</td>\n",
              "      <td>1.0</td>\n",
              "    </tr>\n",
              "    <tr>\n",
              "      <th>2</th>\n",
              "      <td>Анатолий Савенко</td>\n",
              "      <td>1916-11-01</td>\n",
              "      <td>Как жаль, что страна не узнает речи Милюкова. ...</td>\n",
              "      <td>0.0</td>\n",
              "      <td>1.0</td>\n",
              "      <td>1.0</td>\n",
              "      <td>0.0</td>\n",
              "      <td>1.0</td>\n",
              "      <td>0.0</td>\n",
              "      <td>0.0</td>\n",
              "    </tr>\n",
              "    <tr>\n",
              "      <th>3</th>\n",
              "      <td>Великий князь Николай Михайлович</td>\n",
              "      <td>1916-11-01</td>\n",
              "      <td>Я долго колебался открыть тебе истину, но посл...</td>\n",
              "      <td>1.0</td>\n",
              "      <td>1.0</td>\n",
              "      <td>0.0</td>\n",
              "      <td>1.0</td>\n",
              "      <td>0.0</td>\n",
              "      <td>1.0</td>\n",
              "      <td>0.0</td>\n",
              "    </tr>\n",
              "    <tr>\n",
              "      <th>4</th>\n",
              "      <td>Императрица Александра Федоровна</td>\n",
              "      <td>1916-11-01</td>\n",
              "      <td>Мой любимый, дорогой! Я очень огорчена тем, чт...</td>\n",
              "      <td>1.0</td>\n",
              "      <td>1.0</td>\n",
              "      <td>1.0</td>\n",
              "      <td>0.0</td>\n",
              "      <td>1.0</td>\n",
              "      <td>1.0</td>\n",
              "      <td>1.0</td>\n",
              "    </tr>\n",
              "  </tbody>\n",
              "</table>\n",
              "</div>"
            ],
            "text/plain": [
              "                             Author        Date  ... Уверенность  Согласие\n",
              "0               Михаил Богословский  1916-11-01  ...         1.0       1.0\n",
              "1                       Лев Троцкий  1916-11-01  ...         1.0       1.0\n",
              "2                  Анатолий Савенко  1916-11-01  ...         0.0       0.0\n",
              "3  Великий князь Николай Михайлович  1916-11-01  ...         1.0       0.0\n",
              "4  Императрица Александра Федоровна  1916-11-01  ...         1.0       1.0\n",
              "\n",
              "[5 rows x 10 columns]"
            ]
          },
          "metadata": {
            "tags": []
          },
          "execution_count": 3
        }
      ]
    },
    {
      "cell_type": "code",
      "metadata": {
        "colab": {
          "base_uri": "https://localhost:8080/"
        },
        "id": "Wl93k_-hVLYA",
        "outputId": "ca29ea6d-fff2-4413-c5f2-57325e9b921c"
      },
      "source": [
        "corpus = df['Text'].values\n",
        "corpus"
      ],
      "execution_count": null,
      "outputs": [
        {
          "output_type": "execute_result",
          "data": {
            "text/plain": [
              "array(['Был в факультетском заседании, на котором Грушка предложил от имени факультета войти в Совет о возведении английского посла Бьюкенена в почетные члены Университета. Я не возражал, конечно, но мне это предложение было не по душе. Оно все же — порыв, а с англичанами, холодными, чопорными и расчетливыми, порывы недопустимы. Это не с французами.',\n",
              "       'Утром со шпиком ходил на почту. После того посетили префекта. «Друг» оказался низкорослой сумрачной фигурой, южным флегматиком, из тех, про кого трудно сказать: облобызает или укусит. При мне ему принесли набор воровских инструментов, только что отобранных. Он любезно мне показал добычу, как бы свидетельствуя этим, что, по глубокому его мнению, у меня с подобными инструментами не может быть ничего общего. Тем не менее, он объявил мне, что я завтра же должен уезжать в одну из американских республик.В какую именно? Я ответил, что намерен ехать в Нью-Йорк. Префект как будто согласился, но, собственно говоря, лишь в принципе, так как по его словам выходило, что я должен ехать сейчас, inmediatamente, — а парохода в Нью-Йорк нет до 30-го. В качестве переводчика при этом объяснении служил толстый, точно наливной, немец, совсем лысый, несмотря на молодое лицо. Тот посоветовал мне sich mit den Realitaten abzufinden (считаться с реальностями) и как-то при этом ко мне принюхивался (высланный из Франции «пацифист»!).',\n",
              "       'Как жаль, что страна не узнает речи Милюкова. Одно скажу: после нее не стыдно за Думу, и теперь никто — ни современники, ни история — не скажут, что Дума молчала, постыдно молчала и потворствовала глупости.',\n",
              "       ...,\n",
              "       'Лай колоколов над Русью грозный —Это плачут стены Кремля.Ныне на пики звездныеВздыбливаю тебя, земля!Протянусь до незримого города,Млечный прокушу покров.Даже богу я выщиплю бородуОскалом моих зубов. Ухвачу его за гриву белуюИ скажу ему голосом вьюг:Я иным тебя, господи, сделаю,Чтобы зрел мой словесный луг!Проклинаю я дыхание КитежаИ все лощины его дорог.Я хочу, чтоб на бездонном вытяжеМы воздвигли себе чертог.Языком вылижу на иконах яЛики мучеников и святых.Обещаю вам град Инонию,Где живет божество живых.Плачь и рыдай, Московия!Новый пришел Индикоплов.Все молитвы в твоем часослове яПроклюю моим клювом слов.Уведу твой народ от упования,Дам ему веру и мощь,Чтобы плугом он в зори ранниеРаспахивал с солнцем нощь.Чтобы поле его словесноеВыращало ульями злак,Чтобы зерна под крышей небесноюОзлащали, как пчелы, мрак.',\n",
              "       'Исполнительный комитет Советов рабочих и крестьянских депутатов поручил мне открыть заседание Учредительного собрания. Центральный исполнительный комитет Советов рабочих, солдатских и крестьянских депутатов… выражает надежду на полное признание Учредительным собранием всех декретов и постановлений Совета Народных Комиссаров. Октябрьская революция зажгла пожар социалистической революции не только в России, но и во всех странах. Мы не сомневаемся, что искры нашего пожара разлетятся по всему миру, и недалек тот день, когда трудящиеся классы всех стран восстанут против своих эксплоататоров так же, как в Октябре восстал российский рабочий класс и следом за ним российское крестьянство.  ',\n",
              "       'С большим волнением мы ждали приближающуюся дату открытия Учредительного собрания. В восемь вечера мы выяснили, частично через охранника, частично из вечерних газет, которые он принес, что Учредительное собрание открылось. Церемония открытия, выборы президента, первые речи, буйство толпы на галерке и тихое, как бы с оглядкой, поведение депутатов, поставленных в ужасные условия — все это мы и ожидали. Я был немало изумлен, прочитав в той же газете речь, которую собирался произнести на первом заседании.Она была весьма подробно изложена, и только те, кто был осведомлен о моем аресте, знали, что на самом деле моего выступления не было вовсе. Утренние газеты печатались заранее, и в них не могла попасть информация, что днем реальная ситуация вокруг Учредительного собрания была крайне критической. Тысячи людей вышли утром на улицы приветствовать его, но их встретили пулеметами большевики, убив и ранив много народа. Улицы, как мы узнали позже, были усеяны телами тех, кого настигли пули. Таков был прием, оказанный большевиками Учредительному собранию России и невооруженным горожанам, которые вышли на улицы, чтобы своими глазами увидеть осуществление заветной мечты российского народа. Узнав эти ужасные новости, мы пришли к выводу, что разгон Учредительного собрания и арест депутатов неминуемо произойдет в ближайшие несколько часов.'],\n",
              "      dtype=object)"
            ]
          },
          "metadata": {
            "tags": []
          },
          "execution_count": 4
        }
      ]
    },
    {
      "cell_type": "code",
      "metadata": {
        "id": "hIniuZJDRIVj"
      },
      "source": [
        "!pip install deeppavlov"
      ],
      "execution_count": null,
      "outputs": []
    },
    {
      "cell_type": "code",
      "metadata": {
        "id": "0xhhAWvgR0N0"
      },
      "source": [
        "!python -m deeppavlov install morpho_ru_syntagrus_pymorphy"
      ],
      "execution_count": null,
      "outputs": []
    },
    {
      "cell_type": "code",
      "metadata": {
        "id": "k6F3YH3uRPIA"
      },
      "source": [
        "from deeppavlov import build_model, configs\n",
        "model = build_model(configs.morpho_tagger.UD2_0.morpho_ru_syntagrus_pymorphy, download=True)"
      ],
      "execution_count": null,
      "outputs": []
    },
    {
      "cell_type": "code",
      "metadata": {
        "id": "zctbhlg4XFPp"
      },
      "source": [
        "from tqdm import tqdm"
      ],
      "execution_count": null,
      "outputs": []
    },
    {
      "cell_type": "code",
      "metadata": {
        "id": "DzXiA-E9gZb2"
      },
      "source": [
        "texts_tagged = []\n",
        "\n",
        "# sentences = [['Я', 'шел', 'дом']]\n",
        "for parse in model.batched_call(corpus, batch_size=16):\n",
        "    text = []\n",
        "    i = 0\n",
        "    for word in parse.split('\\n'): \n",
        "        tag_tokens = word.split('\\t')\n",
        "        if len(tag_tokens) == 1: \n",
        "            continue \n",
        "        text.append(tag_tokens[1] + '_' + tag_tokens[2])\n",
        "\n",
        "    texts_tagged.append(' '.join(text))"
      ],
      "execution_count": null,
      "outputs": []
    },
    {
      "cell_type": "code",
      "metadata": {
        "colab": {
          "base_uri": "https://localhost:8080/"
        },
        "id": "MSVzFoACSPYk",
        "outputId": "770adee6-7cd3-4ac9-e2f2-007fbf7235be"
      },
      "source": [
        "texts_tagged"
      ],
      "execution_count": null,
      "outputs": [
        {
          "output_type": "execute_result",
          "data": {
            "text/plain": [
              "['Был_AUX в_ADP факультетском_ADJ заседании_NOUN ,_PUNCT на_ADP котором_PRON Грушка_PROPN предложил_VERB от_ADP имени_NOUN факультета_NOUN войти_VERB в_ADP Совет_PROPN о_ADP возведении_NOUN английского_ADJ посла_NOUN Бьюкенена_PROPN в_ADP почетные_ADJ члены_NOUN Университета_PROPN ._PUNCT Я_PRON не_PART возражал_VERB ,_PUNCT конечно_ADV ,_PUNCT но_CCONJ мне_PRON это_DET предложение_NOUN было_AUX не_PART по_ADP душе_NOUN ._PUNCT Оно_PRON все_PART же_PART —_PUNCT порыв_NOUN ,_PUNCT а_CCONJ с_ADP англичанами_NOUN ,_PUNCT холодными_ADJ ,_PUNCT чопорными_ADJ и_CCONJ расчетливыми_ADJ ,_PUNCT порывы_NOUN недопустимы_ADJ ._PUNCT Это_PRON не_PART с_ADP французами_NOUN ._PUNCT',\n",
              " 'Утром_NOUN со_ADP шпиком_NOUN ходил_VERB на_ADP почту_NOUN ._PUNCT После_ADP того_PRON посетили_VERB префекта_NOUN ._PUNCT «_PUNCT Друг_PROPN »_PUNCT оказался_VERB низкорослой_ADJ сумрачной_ADJ фигурой_NOUN ,_PUNCT южным_ADJ флегматиком_NOUN ,_PUNCT из_ADP тех_DET ,_PUNCT про_ADP кого_PRON трудно_ADJ сказать_VERB :_PUNCT облобызает_VERB или_CCONJ укусит_VERB ._PUNCT При_ADP мне_PRON ему_PRON принесли_VERB набор_NOUN воровских_ADJ инструментов_NOUN ,_PUNCT только_PART что_SCONJ отобранных_VERB ._PUNCT Он_PRON любезно_ADV мне_PRON показал_VERB добычу_NOUN ,_PUNCT как_ADV бы_PART свидетельствуя_VERB этим_PRON ,_PUNCT что_SCONJ ,_PUNCT по_ADP глубокому_ADJ его_PRON мнению_NOUN ,_PUNCT у_ADP меня_PRON с_ADP подобными_ADJ инструментами_NOUN не_PART может_VERB быть_AUX ничего_PRON общего_ADJ ._PUNCT Тем_PRON не_PART менее_ADV ,_PUNCT он_PRON объявил_VERB мне_PRON ,_PUNCT что_SCONJ я_PRON завтра_ADV же_PART должен_ADJ уезжать_VERB в_ADP одну_NUM из_ADP американских_ADJ республик.В_NOUN какую_DET именно_PART ?_PUNCT Я_PRON ответил_VERB ,_PUNCT что_SCONJ намерен_ADJ ехать_VERB в_ADP Нью-Йорк_PROPN ._PUNCT Префект_PROPN как_ADV будто_PART согласился_VERB ,_PUNCT но_CCONJ ,_PUNCT собственно_ADV говоря_VERB ,_PUNCT лишь_PART в_ADP принципе_NOUN ,_PUNCT так_ADV как_SCONJ по_ADP его_PRON словам_NOUN выходило_VERB ,_PUNCT что_SCONJ я_PRON должен_ADJ ехать_VERB сейчас_ADV ,_PUNCT inmediatamente_X ,_PUNCT —_PUNCT а_CCONJ парохода_NOUN в_ADP Нью-Йорк_PROPN нет_VERB до_ADP 30-го_ADJ ._PUNCT В_ADP качестве_NOUN переводчика_NOUN при_ADP этом_DET объяснении_NOUN служил_VERB толстый_ADJ ,_PUNCT точно_ADV наливной_ADJ ,_PUNCT немец_NOUN ,_PUNCT совсем_ADV лысый_ADJ ,_PUNCT несмотря_ADV на_ADP молодое_ADJ лицо_NOUN ._PUNCT Тот_DET посоветовал_VERB мне_PRON sich_X mit_X den_X Realitaten_PROPN abzufinden_X (_PUNCT считаться_VERB с_ADP реальностями_NOUN )_PUNCT и_CCONJ как-то_ADV при_ADP этом_PRON ко_ADP мне_PRON принюхивался_VERB (_PUNCT высланный_VERB из_ADP Франции_PROPN «_PUNCT пацифист_NOUN »_PUNCT !_PUNCT )_PUNCT ._PUNCT',\n",
              " 'Как_SCONJ жаль_ADV ,_PUNCT что_SCONJ страна_NOUN не_PART узнает_VERB речи_NOUN Милюкова_PROPN ._PUNCT Одно_NUM скажу_VERB :_PUNCT после_ADP нее_PRON не_PART стыдно_ADV за_ADP Думу_PROPN ,_PUNCT и_CCONJ теперь_ADV никто_PRON —_PUNCT ни_CCONJ современники_NOUN ,_PUNCT ни_CCONJ история_NOUN —_PUNCT не_PART скажут_VERB ,_PUNCT что_SCONJ Дума_PROPN молчала_VERB ,_PUNCT постыдно_ADV молчала_VERB и_CCONJ потворствовала_VERB глупости_NOUN ._PUNCT']"
            ]
          },
          "metadata": {
            "tags": []
          },
          "execution_count": 11
        }
      ]
    },
    {
      "cell_type": "code",
      "metadata": {
        "id": "NcfPtUFOd5iy"
      },
      "source": [
        "import re \n",
        "import nltk \n",
        "import pymorphy2\n",
        "from nltk.corpus import stopwords "
      ],
      "execution_count": null,
      "outputs": []
    },
    {
      "cell_type": "code",
      "metadata": {
        "colab": {
          "base_uri": "https://localhost:8080/"
        },
        "id": "yZei05eBhbZh",
        "outputId": "44fad7d3-727c-48c4-b18d-5ef58fa6961d"
      },
      "source": [
        "nltk.download('stopwords')"
      ],
      "execution_count": null,
      "outputs": [
        {
          "output_type": "stream",
          "text": [
            "[nltk_data] Downloading package stopwords to /root/nltk_data...\n",
            "[nltk_data]   Package stopwords is already up-to-date!\n"
          ],
          "name": "stderr"
        },
        {
          "output_type": "execute_result",
          "data": {
            "text/plain": [
              "True"
            ]
          },
          "metadata": {
            "tags": []
          },
          "execution_count": 13
        }
      ]
    },
    {
      "cell_type": "code",
      "metadata": {
        "id": "5XVzdBhQhYu4"
      },
      "source": [
        "morph = pymorphy2.MorphAnalyzer()"
      ],
      "execution_count": null,
      "outputs": []
    },
    {
      "cell_type": "code",
      "metadata": {
        "id": "i4EBFuNvXw0H"
      },
      "source": [
        "alnum_regex = re.compile(\"[А-Яа-я]+_[A-Za-z]+\")\n",
        "\n",
        "def find_words(text, regex = alnum_regex):\n",
        "    tokens = regex.findall(text.lower())\n",
        "    ans = []\n",
        "    for w in tokens: \n",
        "        word, tag = w.split('_')\n",
        "        if  word == 'не' or word.isalpha() and len(word) > 3: \n",
        "            ans.append(word + '_' + tag)\n",
        "    return ' '.join(ans)\n",
        "\n",
        "stopwords_set = set(stopwords.words('russian'))\n",
        "stopwords_set.add('всё')\n",
        "stopwords_set.add('это')\n",
        "stopwords_set.add('мочь')\n",
        "stopwords_set.add('очень')\n",
        "\n",
        "def lemmatize(words, lemmer = morph, stopwords = stopwords_set):\n",
        "    lemmas = []\n",
        "    ans = []\n",
        "    for w in words.split(): \n",
        "        word, tag = w.split('_')\n",
        "        lemma = lemmer.parse(word)[0].normal_form\n",
        "        if lemma == 'не' or lemma not in stopwords and lemma.isalpha(): \n",
        "            ans.append(lemma + '_' + tag.upper())\n",
        "\n",
        "    return ans\n",
        "\n",
        "def preprocess(text):\n",
        "    return lemmatize(find_words(text))"
      ],
      "execution_count": null,
      "outputs": []
    },
    {
      "cell_type": "code",
      "metadata": {
        "colab": {
          "base_uri": "https://localhost:8080/",
          "height": 102
        },
        "id": "7w7GnqIk_AXF",
        "outputId": "7029cc7f-b420-4091-9b4b-9b206d9acc63"
      },
      "source": [
        "texts_tagged[0]"
      ],
      "execution_count": null,
      "outputs": [
        {
          "output_type": "execute_result",
          "data": {
            "application/vnd.google.colaboratory.intrinsic+json": {
              "type": "string"
            },
            "text/plain": [
              "'Был_AUX в_ADP факультетском_ADJ заседании_NOUN ,_PUNCT на_ADP котором_PRON Грушка_PROPN предложил_VERB от_ADP имени_NOUN факультета_NOUN войти_VERB в_ADP Совет_PROPN о_ADP возведении_NOUN английского_ADJ посла_NOUN Бьюкенена_PROPN в_ADP почетные_ADJ члены_NOUN Университета_PROPN ._PUNCT Я_PRON не_PART возражал_VERB ,_PUNCT конечно_ADV ,_PUNCT но_CCONJ мне_PRON это_DET предложение_NOUN было_AUX не_PART по_ADP душе_NOUN ._PUNCT Оно_PRON все_PART же_PART —_PUNCT порыв_NOUN ,_PUNCT а_CCONJ с_ADP англичанами_NOUN ,_PUNCT холодными_ADJ ,_PUNCT чопорными_ADJ и_CCONJ расчетливыми_ADJ ,_PUNCT порывы_NOUN недопустимы_ADJ ._PUNCT Это_PRON не_PART с_ADP французами_NOUN ._PUNCT'"
            ]
          },
          "metadata": {
            "tags": []
          },
          "execution_count": 19
        }
      ]
    },
    {
      "cell_type": "code",
      "metadata": {
        "id": "xsTNjPcnhg5H"
      },
      "source": [
        "corpus = list(map(lambda x: preprocess(x), texts_tagged))"
      ],
      "execution_count": null,
      "outputs": []
    },
    {
      "cell_type": "code",
      "metadata": {
        "colab": {
          "base_uri": "https://localhost:8080/",
          "height": 68
        },
        "id": "9Na8Dma_N4dh",
        "outputId": "18b97962-5887-4822-a24d-30ba6f44ecfa"
      },
      "source": [
        "corpus = list(map(lambda x: ' '.join(x), corpus))\n",
        "corpus[199]"
      ],
      "execution_count": null,
      "outputs": [
        {
          "output_type": "execute_result",
          "data": {
            "application/vnd.google.colaboratory.intrinsic+json": {
              "type": "string"
            },
            "text/plain": [
              "'выехать_VERB киев_PROPN могилев_PROPN прежде_ADV командующий_NOUN гвардейский_ADJ корпус_NOUN великий_ADJ князь_NOUN павел_PROPN нанимать_VERB могилев_PROPN вернуться_VERB туда_ADV вместе_ADV свита_VERB девочка_NOUN устроить_VERB квартира_NOUN вагон_NOUN император_NOUN могилев_PROPN приехать_VERB повидаться_VERB императрица_NOUN ребёнок_NOUN'"
            ]
          },
          "metadata": {
            "tags": []
          },
          "execution_count": 40
        }
      ]
    },
    {
      "cell_type": "code",
      "metadata": {
        "id": "IQmGfpeYYKKi"
      },
      "source": [
        "df['Text'] = corpus"
      ],
      "execution_count": null,
      "outputs": []
    },
    {
      "cell_type": "code",
      "metadata": {
        "id": "ALdDQnVWPIqY"
      },
      "source": [
        "!pip uninstall pandas\n",
        "!pip install pandas==1.1.5"
      ],
      "execution_count": null,
      "outputs": []
    },
    {
      "cell_type": "code",
      "metadata": {
        "id": "Qj9VfEnXOfmx"
      },
      "source": [
        "import pandas as pd"
      ],
      "execution_count": null,
      "outputs": []
    },
    {
      "cell_type": "code",
      "metadata": {
        "id": "C-uf_qZcdYuE"
      },
      "source": [
        "df.to_csv('diaries_POS_tagged.csv', index=False)"
      ],
      "execution_count": null,
      "outputs": []
    },
    {
      "cell_type": "code",
      "metadata": {
        "colab": {
          "base_uri": "https://localhost:8080/",
          "height": 17
        },
        "id": "BnCnVyNyOHD-",
        "outputId": "a980a086-8396-4d58-d841-ca6e5f22ebe1"
      },
      "source": [
        "from google.colab import files\n",
        "\n",
        "files.download('diaries_POS_tagged.csv') "
      ],
      "execution_count": null,
      "outputs": [
        {
          "output_type": "display_data",
          "data": {
            "application/javascript": [
              "\n",
              "    async function download(id, filename, size) {\n",
              "      if (!google.colab.kernel.accessAllowed) {\n",
              "        return;\n",
              "      }\n",
              "      const div = document.createElement('div');\n",
              "      const label = document.createElement('label');\n",
              "      label.textContent = `Downloading \"${filename}\": `;\n",
              "      div.appendChild(label);\n",
              "      const progress = document.createElement('progress');\n",
              "      progress.max = size;\n",
              "      div.appendChild(progress);\n",
              "      document.body.appendChild(div);\n",
              "\n",
              "      const buffers = [];\n",
              "      let downloaded = 0;\n",
              "\n",
              "      const channel = await google.colab.kernel.comms.open(id);\n",
              "      // Send a message to notify the kernel that we're ready.\n",
              "      channel.send({})\n",
              "\n",
              "      for await (const message of channel.messages) {\n",
              "        // Send a message to notify the kernel that we're ready.\n",
              "        channel.send({})\n",
              "        if (message.buffers) {\n",
              "          for (const buffer of message.buffers) {\n",
              "            buffers.push(buffer);\n",
              "            downloaded += buffer.byteLength;\n",
              "            progress.value = downloaded;\n",
              "          }\n",
              "        }\n",
              "      }\n",
              "      const blob = new Blob(buffers, {type: 'application/binary'});\n",
              "      const a = document.createElement('a');\n",
              "      a.href = window.URL.createObjectURL(blob);\n",
              "      a.download = filename;\n",
              "      div.appendChild(a);\n",
              "      a.click();\n",
              "      div.remove();\n",
              "    }\n",
              "  "
            ],
            "text/plain": [
              "<IPython.core.display.Javascript object>"
            ]
          },
          "metadata": {
            "tags": []
          }
        },
        {
          "output_type": "display_data",
          "data": {
            "application/javascript": [
              "download(\"download_c56d70c9-6a8e-4259-b634-0063c3d18e14\", \"diaries_POS_tagged.csv\", 11139280)"
            ],
            "text/plain": [
              "<IPython.core.display.Javascript object>"
            ]
          },
          "metadata": {
            "tags": []
          }
        }
      ]
    }
  ]
}