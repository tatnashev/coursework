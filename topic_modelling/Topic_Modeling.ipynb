{
  "nbformat": 4,
  "nbformat_minor": 0,
  "metadata": {
    "colab": {
      "name": "Topic Modeling.ipynb",
      "provenance": [],
      "collapsed_sections": [],
      "toc_visible": true
    },
    "kernelspec": {
      "name": "python3",
      "display_name": "Python 3"
    },
    "language_info": {
      "name": "python"
    }
  },
  "cells": [
    {
      "cell_type": "code",
      "metadata": {
        "colab": {
          "base_uri": "https://localhost:8080/"
        },
        "id": "RdDg9akWs5Ju",
        "outputId": "fd7303fa-d3a3-4c19-bc46-ffa293f3ad67"
      },
      "source": [
        "!wget https://www.dropbox.com/s/u5btb05sts0z0fe/diary_entries_cleaned.csv\n",
        "!wget https://www.dropbox.com/s/0q2pxan7ce7ftjt/diary_entries.csv?dl=0 -O diary_entries.csv"
      ],
      "execution_count": null,
      "outputs": [
        {
          "output_type": "stream",
          "text": [
            "--2021-04-20 15:39:20--  https://www.dropbox.com/s/u5btb05sts0z0fe/diary_entries_cleaned.csv\n",
            "Resolving www.dropbox.com (www.dropbox.com)... 162.125.65.18, 2620:100:6027:18::a27d:4812\n",
            "Connecting to www.dropbox.com (www.dropbox.com)|162.125.65.18|:443... connected.\n",
            "HTTP request sent, awaiting response... 301 Moved Permanently\n",
            "Location: /s/raw/u5btb05sts0z0fe/diary_entries_cleaned.csv [following]\n",
            "--2021-04-20 15:39:21--  https://www.dropbox.com/s/raw/u5btb05sts0z0fe/diary_entries_cleaned.csv\n",
            "Reusing existing connection to www.dropbox.com:443.\n",
            "HTTP request sent, awaiting response... 302 Found\n",
            "Location: https://ucfbb2077a306cc5a4f95d72cb49.dl.dropboxusercontent.com/cd/0/inline/BM8H84823JAwHSC67ygTeyohoAFn0DqIRDXLsuTsvCHcStT_z9dD1xi-Gn9hsx7_9MddTqK8twyUEhZvljbnmu-nM8ylJ8aUeN7WFNQ3jz8LGQ5utGqoafcT_nAYK-0W6o_NgXpIgFu4aa7uxVpE2VLf/file# [following]\n",
            "--2021-04-20 15:39:21--  https://ucfbb2077a306cc5a4f95d72cb49.dl.dropboxusercontent.com/cd/0/inline/BM8H84823JAwHSC67ygTeyohoAFn0DqIRDXLsuTsvCHcStT_z9dD1xi-Gn9hsx7_9MddTqK8twyUEhZvljbnmu-nM8ylJ8aUeN7WFNQ3jz8LGQ5utGqoafcT_nAYK-0W6o_NgXpIgFu4aa7uxVpE2VLf/file\n",
            "Resolving ucfbb2077a306cc5a4f95d72cb49.dl.dropboxusercontent.com (ucfbb2077a306cc5a4f95d72cb49.dl.dropboxusercontent.com)... 162.125.65.15, 2620:100:6027:15::a27d:480f\n",
            "Connecting to ucfbb2077a306cc5a4f95d72cb49.dl.dropboxusercontent.com (ucfbb2077a306cc5a4f95d72cb49.dl.dropboxusercontent.com)|162.125.65.15|:443... connected.\n",
            "HTTP request sent, awaiting response... 200 OK\n",
            "Length: 18990672 (18M) [text/plain]\n",
            "Saving to: ‘diary_entries_cleaned.csv.1’\n",
            "\n",
            "diary_entries_clean 100%[===================>]  18.11M  15.7MB/s    in 1.2s    \n",
            "\n",
            "2021-04-20 15:39:23 (15.7 MB/s) - ‘diary_entries_cleaned.csv.1’ saved [18990672/18990672]\n",
            "\n",
            "--2021-04-20 15:39:23--  https://www.dropbox.com/s/0q2pxan7ce7ftjt/diary_entries.csv?dl=0\n",
            "Resolving www.dropbox.com (www.dropbox.com)... 162.125.65.18, 2620:100:6027:18::a27d:4812\n",
            "Connecting to www.dropbox.com (www.dropbox.com)|162.125.65.18|:443... connected.\n",
            "HTTP request sent, awaiting response... 301 Moved Permanently\n",
            "Location: /s/raw/0q2pxan7ce7ftjt/diary_entries.csv [following]\n",
            "--2021-04-20 15:39:23--  https://www.dropbox.com/s/raw/0q2pxan7ce7ftjt/diary_entries.csv\n",
            "Reusing existing connection to www.dropbox.com:443.\n",
            "HTTP request sent, awaiting response... 302 Found\n",
            "Location: https://ucb2b271c81700d22489b0533084.dl.dropboxusercontent.com/cd/0/inline/BM-Vu7qy0U64rlUF5pPGnsUJCvc_YYhkr3hjiw5Sy6j_kTCxKkm-c37qdyqAIaqwrAt_549H1QdUOR7zqUhnBsf5O4u2gXR4cezekskI7aYhZRbSHxxgJdH-VZNTYpIFf_-b6LkYf0i4iA0P8i8Jg4ij/file# [following]\n",
            "--2021-04-20 15:39:24--  https://ucb2b271c81700d22489b0533084.dl.dropboxusercontent.com/cd/0/inline/BM-Vu7qy0U64rlUF5pPGnsUJCvc_YYhkr3hjiw5Sy6j_kTCxKkm-c37qdyqAIaqwrAt_549H1QdUOR7zqUhnBsf5O4u2gXR4cezekskI7aYhZRbSHxxgJdH-VZNTYpIFf_-b6LkYf0i4iA0P8i8Jg4ij/file\n",
            "Resolving ucb2b271c81700d22489b0533084.dl.dropboxusercontent.com (ucb2b271c81700d22489b0533084.dl.dropboxusercontent.com)... 162.125.65.15, 2620:100:6021:15::a27d:410f\n",
            "Connecting to ucb2b271c81700d22489b0533084.dl.dropboxusercontent.com (ucb2b271c81700d22489b0533084.dl.dropboxusercontent.com)|162.125.65.15|:443... connected.\n",
            "HTTP request sent, awaiting response... 200 OK\n",
            "Length: 15769942 (15M) [text/plain]\n",
            "Saving to: ‘diary_entries.csv’\n",
            "\n",
            "diary_entries.csv   100%[===================>]  15.04M  15.7MB/s    in 1.0s    \n",
            "\n",
            "2021-04-20 15:39:25 (15.7 MB/s) - ‘diary_entries.csv’ saved [15769942/15769942]\n",
            "\n"
          ],
          "name": "stdout"
        }
      ]
    },
    {
      "cell_type": "code",
      "metadata": {
        "id": "1WcLfkEdyAey"
      },
      "source": [
        "import pandas as pd \n",
        "import datetime as dt\n",
        "import numpy as np\n",
        "from tqdm import tqdm"
      ],
      "execution_count": null,
      "outputs": []
    },
    {
      "cell_type": "code",
      "metadata": {
        "id": "cXfop8FnWBXe"
      },
      "source": [
        "df = pd.read_csv('diary_entries.csv')"
      ],
      "execution_count": null,
      "outputs": []
    },
    {
      "cell_type": "code",
      "metadata": {
        "colab": {
          "base_uri": "https://localhost:8080/",
          "height": 407
        },
        "id": "afiPUPQNWZkH",
        "outputId": "12003973-8280-4139-e40c-04fb0cc315e6"
      },
      "source": [
        "# Delete duplicates \n",
        "df = df.drop_duplicates(subset=['Author', 'Text'], keep='first')\n",
        "\n",
        "# Sub 13 days from the dates (difference between calendars)\n",
        "df.loc[:, 'Date'] = pd.to_datetime(df.loc[:, 'Date'])\n",
        "df.loc[:, 'Date'] -= dt.timedelta(days=13)\n",
        "df.loc[:, 'Date'] = df.loc[:, 'Date'].dt.date\n",
        "\n",
        "# Sort by date\n",
        "df = df.sort_values(by='Date')\n",
        "\n",
        "df"
      ],
      "execution_count": null,
      "outputs": [
        {
          "output_type": "execute_result",
          "data": {
            "text/html": [
              "<div>\n",
              "<style scoped>\n",
              "    .dataframe tbody tr th:only-of-type {\n",
              "        vertical-align: middle;\n",
              "    }\n",
              "\n",
              "    .dataframe tbody tr th {\n",
              "        vertical-align: top;\n",
              "    }\n",
              "\n",
              "    .dataframe thead th {\n",
              "        text-align: right;\n",
              "    }\n",
              "</style>\n",
              "<table border=\"1\" class=\"dataframe\">\n",
              "  <thead>\n",
              "    <tr style=\"text-align: right;\">\n",
              "      <th></th>\n",
              "      <th>Author</th>\n",
              "      <th>Date</th>\n",
              "      <th>Text</th>\n",
              "    </tr>\n",
              "  </thead>\n",
              "  <tbody>\n",
              "    <tr>\n",
              "      <th>0</th>\n",
              "      <td>Корней Чуковский</td>\n",
              "      <td>1916-11-01</td>\n",
              "      <td>К первому декабря у нас будет матерьялу на 3–4...</td>\n",
              "    </tr>\n",
              "    <tr>\n",
              "      <th>22</th>\n",
              "      <td>Владимир Ленин</td>\n",
              "      <td>1916-11-01</td>\n",
              "      <td>Мое замечание о возможности превращения и данн...</td>\n",
              "    </tr>\n",
              "    <tr>\n",
              "      <th>23</th>\n",
              "      <td>Бертран Рассел</td>\n",
              "      <td>1916-11-01</td>\n",
              "      <td>С тобой я чувствую себя странным образом прист...</td>\n",
              "    </tr>\n",
              "    <tr>\n",
              "      <th>24</th>\n",
              "      <td>Георгий Шавельский</td>\n",
              "      <td>1916-11-01</td>\n",
              "      <td>Только что присутствовал на заседании новой се...</td>\n",
              "    </tr>\n",
              "    <tr>\n",
              "      <th>25</th>\n",
              "      <td>Василий Розанов</td>\n",
              "      <td>1916-11-01</td>\n",
              "      <td>Развод и, следовательно, предварительная угроз...</td>\n",
              "    </tr>\n",
              "    <tr>\n",
              "      <th>...</th>\n",
              "      <td>...</td>\n",
              "      <td>...</td>\n",
              "      <td>...</td>\n",
              "    </tr>\n",
              "    <tr>\n",
              "      <th>13649</th>\n",
              "      <td>Петроградская газета</td>\n",
              "      <td>1918-01-05</td>\n",
              "      <td>Сегодня в 12 часов дня после бесконечных откла...</td>\n",
              "    </tr>\n",
              "    <tr>\n",
              "      <th>13648</th>\n",
              "      <td>Сергей Есенин</td>\n",
              "      <td>1918-01-05</td>\n",
              "      <td>Лай колоколов над Русью грозный —Это плачут ст...</td>\n",
              "    </tr>\n",
              "    <tr>\n",
              "      <th>13647</th>\n",
              "      <td>Евгений Замятин</td>\n",
              "      <td>1918-01-05</td>\n",
              "      <td>Веселая, жуткая зима, когда все сдвинулось, по...</td>\n",
              "    </tr>\n",
              "    <tr>\n",
              "      <th>13661</th>\n",
              "      <td>Яков Свердлов</td>\n",
              "      <td>1918-01-05</td>\n",
              "      <td>Исполнительный комитет Советов рабочих и крест...</td>\n",
              "    </tr>\n",
              "    <tr>\n",
              "      <th>13674</th>\n",
              "      <td>Питирим Сорокин</td>\n",
              "      <td>1918-01-05</td>\n",
              "      <td>С большим волнением мы ждали приближающуюся да...</td>\n",
              "    </tr>\n",
              "  </tbody>\n",
              "</table>\n",
              "<p>13521 rows × 3 columns</p>\n",
              "</div>"
            ],
            "text/plain": [
              "                     Author  ...                                               Text\n",
              "0          Корней Чуковский  ...  К первому декабря у нас будет матерьялу на 3–4...\n",
              "22           Владимир Ленин  ...  Мое замечание о возможности превращения и данн...\n",
              "23           Бертран Рассел  ...  С тобой я чувствую себя странным образом прист...\n",
              "24       Георгий Шавельский  ...  Только что присутствовал на заседании новой се...\n",
              "25          Василий Розанов  ...  Развод и, следовательно, предварительная угроз...\n",
              "...                     ...  ...                                                ...\n",
              "13649  Петроградская газета  ...  Сегодня в 12 часов дня после бесконечных откла...\n",
              "13648         Сергей Есенин  ...  Лай колоколов над Русью грозный —Это плачут ст...\n",
              "13647       Евгений Замятин  ...  Веселая, жуткая зима, когда все сдвинулось, по...\n",
              "13661         Яков Свердлов  ...  Исполнительный комитет Советов рабочих и крест...\n",
              "13674       Питирим Сорокин  ...  С большим волнением мы ждали приближающуюся да...\n",
              "\n",
              "[13521 rows x 3 columns]"
            ]
          },
          "metadata": {
            "tags": []
          },
          "execution_count": 71
        }
      ]
    },
    {
      "cell_type": "code",
      "metadata": {
        "colab": {
          "base_uri": "https://localhost:8080/"
        },
        "id": "EI82umUcXYXY",
        "outputId": "ab99e763-52e1-4117-e496-275b0c4febc9"
      },
      "source": [
        "df['Text']"
      ],
      "execution_count": null,
      "outputs": [
        {
          "output_type": "execute_result",
          "data": {
            "text/plain": [
              "0        К первому декабря у нас будет матерьялу на 3–4...\n",
              "22       Мое замечание о возможности превращения и данн...\n",
              "23       С тобой я чувствую себя странным образом прист...\n",
              "24       Только что присутствовал на заседании новой се...\n",
              "25       Развод и, следовательно, предварительная угроз...\n",
              "                               ...                        \n",
              "13649    Сегодня в 12 часов дня после бесконечных откла...\n",
              "13648    Лай колоколов над Русью грозный —Это плачут ст...\n",
              "13647    Веселая, жуткая зима, когда все сдвинулось, по...\n",
              "13661    Исполнительный комитет Советов рабочих и крест...\n",
              "13674    С большим волнением мы ждали приближающуюся да...\n",
              "Name: Text, Length: 13521, dtype: object"
            ]
          },
          "metadata": {
            "tags": []
          },
          "execution_count": 72
        }
      ]
    },
    {
      "cell_type": "code",
      "metadata": {
        "colab": {
          "base_uri": "https://localhost:8080/"
        },
        "id": "aFXeAxVXyS6y",
        "outputId": "001f673c-2b3a-492e-bb11-e1855f8f067b"
      },
      "source": [
        "df.shape"
      ],
      "execution_count": null,
      "outputs": [
        {
          "output_type": "execute_result",
          "data": {
            "text/plain": [
              "(13521, 3)"
            ]
          },
          "metadata": {
            "tags": []
          },
          "execution_count": 73
        }
      ]
    },
    {
      "cell_type": "markdown",
      "metadata": {
        "id": "cFWz1B1tziNP"
      },
      "source": [
        "# Препроцессинг текстов"
      ]
    },
    {
      "cell_type": "code",
      "metadata": {
        "id": "NZZDWNv8zQb4"
      },
      "source": [
        "import re \n",
        "from nltk.corpus import stopwords"
      ],
      "execution_count": null,
      "outputs": []
    },
    {
      "cell_type": "code",
      "metadata": {
        "colab": {
          "base_uri": "https://localhost:8080/"
        },
        "id": "eo7bE9zKz4lN",
        "outputId": "df41a385-cdb1-4761-a995-3e7410b7db9a"
      },
      "source": [
        "import nltk \n",
        "nltk.download('stopwords')"
      ],
      "execution_count": null,
      "outputs": [
        {
          "output_type": "stream",
          "text": [
            "[nltk_data] Downloading package stopwords to /root/nltk_data...\n",
            "[nltk_data]   Package stopwords is already up-to-date!\n"
          ],
          "name": "stdout"
        },
        {
          "output_type": "execute_result",
          "data": {
            "text/plain": [
              "True"
            ]
          },
          "metadata": {
            "tags": []
          },
          "execution_count": 75
        }
      ]
    },
    {
      "cell_type": "code",
      "metadata": {
        "colab": {
          "base_uri": "https://localhost:8080/"
        },
        "id": "fkc9oxra0K38",
        "outputId": "d4dcec58-2dae-432b-b7d5-4c033c7ab5ed"
      },
      "source": [
        "!pip install pymorphy2"
      ],
      "execution_count": null,
      "outputs": [
        {
          "output_type": "stream",
          "text": [
            "Requirement already satisfied: pymorphy2 in /usr/local/lib/python3.7/dist-packages (0.9.1)\n",
            "Requirement already satisfied: docopt>=0.6 in /usr/local/lib/python3.7/dist-packages (from pymorphy2) (0.6.2)\n",
            "Requirement already satisfied: pymorphy2-dicts-ru<3.0,>=2.4 in /usr/local/lib/python3.7/dist-packages (from pymorphy2) (2.4.417127.4579844)\n",
            "Requirement already satisfied: dawg-python>=0.7.1 in /usr/local/lib/python3.7/dist-packages (from pymorphy2) (0.7.2)\n"
          ],
          "name": "stdout"
        }
      ]
    },
    {
      "cell_type": "code",
      "metadata": {
        "id": "XALNtDCV0t8i",
        "colab": {
          "base_uri": "https://localhost:8080/"
        },
        "outputId": "f809e8e3-8f2b-4f6b-f93d-a0d15b01c0c9"
      },
      "source": [
        "import pymorphy2 \n",
        "morph = pymorphy2.MorphAnalyzer()"
      ],
      "execution_count": null,
      "outputs": [
        {
          "output_type": "stream",
          "text": [
            "/usr/local/lib/python3.7/dist-packages/pymorphy2/units/base.py:70: DeprecationWarning: inspect.getargspec() is deprecated since Python 3.0, use inspect.signature() or inspect.getfullargspec()\n",
            "  args, varargs, kw, default = inspect.getargspec(cls.__init__)\n"
          ],
          "name": "stderr"
        }
      ]
    },
    {
      "cell_type": "code",
      "metadata": {
        "id": "0ykigHVk08qc",
        "colab": {
          "base_uri": "https://localhost:8080/"
        },
        "outputId": "b0d6480f-f43a-4527-9abb-37b0ca8eb30f"
      },
      "source": [
        "alnum_regex = re.compile('\\w+')\n",
        "\n",
        "def find_words(text, regex = alnum_regex):\n",
        "    tokens = regex.findall(text.lower())\n",
        "    return [w for w in tokens if w.isalpha and len(w) > 3]\n",
        "\n",
        "stopwords_set = set(stopwords.words('russian'))\n",
        "stopwords_set.add('всё')\n",
        "stopwords_set.add('это')\n",
        "stopwords_set.add('мочь')\n",
        "stopwords_set.add('очень')\n",
        "\n",
        "def lemmatize(words, lemmer = morph, stopwords = stopwords_set):\n",
        "    lemmas = [lemmer.parse(w)[0].normal_form for w in words]\n",
        "    return [w for w in lemmas if not w in stopwords and w.isalpha()]\n",
        "\n",
        "def preprocess(text):\n",
        "    return (find_words(text))"
      ],
      "execution_count": null,
      "outputs": [
        {
          "output_type": "stream",
          "text": [
            "<input>:1: DeprecationWarning: invalid escape sequence \\w\n",
            "<input>:1: DeprecationWarning: invalid escape sequence \\w\n",
            "<input>:1: DeprecationWarning: invalid escape sequence \\w\n",
            "<input>:1: DeprecationWarning: invalid escape sequence \\w\n",
            "<input>:1: DeprecationWarning: invalid escape sequence \\w\n",
            "<input>:1: DeprecationWarning: invalid escape sequence \\w\n",
            "<input>:1: DeprecationWarning: invalid escape sequence \\w\n",
            "<input>:1: DeprecationWarning: invalid escape sequence \\w\n",
            "<input>:1: DeprecationWarning: invalid escape sequence \\w\n",
            "<input>:1: DeprecationWarning: invalid escape sequence \\w\n",
            "<input>:1: DeprecationWarning: invalid escape sequence \\w\n",
            "<input>:1: DeprecationWarning: invalid escape sequence \\w\n",
            "<input>:1: DeprecationWarning: invalid escape sequence \\w\n",
            "<input>:1: DeprecationWarning: invalid escape sequence \\w\n",
            "<input>:1: DeprecationWarning: invalid escape sequence \\w\n",
            "<ipython-input-78-b72131a6446a>:1: DeprecationWarning: invalid escape sequence \\w\n",
            "  alnum_regex = re.compile('\\w+')\n"
          ],
          "name": "stderr"
        }
      ]
    },
    {
      "cell_type": "code",
      "metadata": {
        "id": "IkNrvlNw20lU"
      },
      "source": [
        "df_unprocessed = df.copy() "
      ],
      "execution_count": null,
      "outputs": []
    },
    {
      "cell_type": "code",
      "metadata": {
        "colab": {
          "base_uri": "https://localhost:8080/"
        },
        "id": "5foYnCBA2m-f",
        "outputId": "bfb42116-0beb-4c60-f3dc-d867c1c74d69"
      },
      "source": [
        "df['Text'] = df['Text'].apply(lambda x: lemmatize(preprocess(x)))\n",
        "df['Text'] = df['Text'].apply(lambda x: ' '.join(x))\n",
        "print(df['Text'].iloc[0])"
      ],
      "execution_count": null,
      "outputs": [
        {
          "output_type": "stream",
          "text": [
            "первый декабрь матерьял номер детский журнал пригласить марин цветаев ходасевич алексей толстой тэффи макс волошин кустодиевый добужинский бенуа написать большой сорок письмо обшарить весь питер собрать время сотрудник затем зажечь энтузиазм дело вещь невозможный постараться весь нерв журнал выйти прежний бесприютный работать целый\n"
          ],
          "name": "stdout"
        }
      ]
    },
    {
      "cell_type": "code",
      "metadata": {
        "id": "oRP4fI99Ydp3"
      },
      "source": [
        "mask = df['Text'].apply(lambda x: len(x) > 20)\n",
        "df = df[mask]"
      ],
      "execution_count": null,
      "outputs": []
    },
    {
      "cell_type": "code",
      "metadata": {
        "id": "sg6kbvPO7z72"
      },
      "source": [
        "df_unprocessed = df_unprocessed[mask]"
      ],
      "execution_count": null,
      "outputs": []
    },
    {
      "cell_type": "code",
      "metadata": {
        "colab": {
          "base_uri": "https://localhost:8080/"
        },
        "id": "S2MslaT0P1z2",
        "outputId": "1a895b6d-eace-40a8-9507-569c07289bcb"
      },
      "source": [
        "def additional_stop_words(words, stopwords = stopwords_set): \n",
        "    words = words.split()\n",
        "    return ' '.join([w for w in words if w not in stopwords])\n",
        "\n",
        "stopwords_set.add('который')\n",
        "stopwords_set.add('весь') \n",
        "stopwords_set.add('наш') \n",
        "stopwords_set.add('свой') \n",
        "\n",
        "df['Text'] = df['Text'].apply(lambda x: additional_stop_words(x))"
      ],
      "execution_count": null,
      "outputs": [
        {
          "output_type": "stream",
          "text": [
            "/usr/local/lib/python3.7/dist-packages/ipykernel_launcher.py:10: SettingWithCopyWarning: \n",
            "A value is trying to be set on a copy of a slice from a DataFrame.\n",
            "Try using .loc[row_indexer,col_indexer] = value instead\n",
            "\n",
            "See the caveats in the documentation: https://pandas.pydata.org/pandas-docs/stable/user_guide/indexing.html#returning-a-view-versus-a-copy\n",
            "  # Remove the CWD from sys.path while we load stuff.\n"
          ],
          "name": "stderr"
        }
      ]
    },
    {
      "cell_type": "code",
      "metadata": {
        "id": "X9qF8pM_PIrR"
      },
      "source": [
        "df['Text'] = df['Text'].apply(lambda x: additional_stop_words(x))"
      ],
      "execution_count": null,
      "outputs": []
    },
    {
      "cell_type": "markdown",
      "metadata": {
        "id": "po7zVyVvotFW"
      },
      "source": [
        "# mARTM"
      ]
    },
    {
      "cell_type": "code",
      "metadata": {
        "id": "h5kVVxKN2vU2"
      },
      "source": [
        "!apt-get --yes update\n",
        "!apt-get --yes install git make cmake build-essential libboost-all-dev\n",
        "!apt-get --yes install python-numpy python-pandas python-scipy\n",
        "!wget https://bootstrap.pypa.io/get-pip.py\n",
        "!python get-pip.py\n",
        "!pip install protobuf tqdm wheel\n",
        "!git clone --branch=stable https://github.com/bigartm/bigartm.git"
      ],
      "execution_count": null,
      "outputs": []
    },
    {
      "cell_type": "code",
      "metadata": {
        "id": "z9kwSbVujUhY"
      },
      "source": [
        "%cd bigartm"
      ],
      "execution_count": null,
      "outputs": []
    },
    {
      "cell_type": "code",
      "metadata": {
        "id": "1HSofkcmjboh"
      },
      "source": [
        "!mkdir build"
      ],
      "execution_count": null,
      "outputs": []
    },
    {
      "cell_type": "code",
      "metadata": {
        "id": "TBTGAuONjdgh"
      },
      "source": [
        "%cd build"
      ],
      "execution_count": null,
      "outputs": []
    },
    {
      "cell_type": "code",
      "metadata": {
        "id": "pFedjaWyje4c"
      },
      "source": [
        "!cmake .."
      ],
      "execution_count": null,
      "outputs": []
    },
    {
      "cell_type": "code",
      "metadata": {
        "id": "lrSxcNHajgXT"
      },
      "source": [
        "!make"
      ],
      "execution_count": null,
      "outputs": []
    },
    {
      "cell_type": "code",
      "metadata": {
        "id": "ch9zlPv6jhuR"
      },
      "source": [
        "!make install"
      ],
      "execution_count": null,
      "outputs": []
    },
    {
      "cell_type": "code",
      "metadata": {
        "id": "Nc0MIPm5jjnc"
      },
      "source": [
        "!pip install python/bigartm*.whl"
      ],
      "execution_count": null,
      "outputs": []
    },
    {
      "cell_type": "code",
      "metadata": {
        "id": "tthz5JCvjmsg"
      },
      "source": [
        "import artm"
      ],
      "execution_count": null,
      "outputs": []
    },
    {
      "cell_type": "code",
      "metadata": {
        "colab": {
          "base_uri": "https://localhost:8080/",
          "height": 35
        },
        "id": "HJZLj4Hkncg9",
        "outputId": "f29b13ba-4056-4884-b112-4c163e6bd1b0"
      },
      "source": [
        "artm.version()"
      ],
      "execution_count": null,
      "outputs": [
        {
          "output_type": "execute_result",
          "data": {
            "application/vnd.google.colaboratory.intrinsic+json": {
              "type": "string"
            },
            "text/plain": [
              "'0.10.0'"
            ]
          },
          "metadata": {
            "tags": []
          },
          "execution_count": 26
        }
      ]
    },
    {
      "cell_type": "markdown",
      "metadata": {
        "id": "guFUZuJD1red"
      },
      "source": [
        "Добавим к текстам авторов и попробуем подобрать оптимальный вес для этого тега. Помимо этого, добавим сглаживание для авторов и декорреляцию на темы. "
      ]
    },
    {
      "cell_type": "code",
      "metadata": {
        "id": "zVFDXsYNs2UM"
      },
      "source": [
        "def convert_to_vw_authors(row, index): \n",
        "    return 'text{} {} |author {}'.format(index, row.Text, row.Author)"
      ],
      "execution_count": null,
      "outputs": []
    },
    {
      "cell_type": "code",
      "metadata": {
        "id": "S6E6_mYQ2RRn"
      },
      "source": [
        "with open('diaries_authors_wv.wv', 'w') as f:\n",
        "    # for index, row in df[pd.to_datetime(df['Date']).dt.date > dt.date(year=1917, month=2, day=15)].iterrows():\n",
        "    for index, row in df.iterrows():\n",
        "        vw_string = convert_to_vw_authors(row, index)\n",
        "        f.write(vw_string)\n",
        "        f.write('\\n')"
      ],
      "execution_count": null,
      "outputs": []
    },
    {
      "cell_type": "code",
      "metadata": {
        "colab": {
          "base_uri": "https://localhost:8080/"
        },
        "id": "_AgVmmNZ2U4G",
        "outputId": "afb0d312-b44f-433e-e083-1c972e50e945"
      },
      "source": [
        "batch_vectorizer_authors = artm.BatchVectorizer(data_path='diaries_authors_wv.wv', \n",
        "                                        data_format='vowpal_wabbit',\n",
        "                                        target_folder='diaries_batches')\n",
        "\n",
        "batch_vectorizer_authors.dictionary.filter(min_tf=10, max_df_rate=0.9)"
      ],
      "execution_count": null,
      "outputs": [
        {
          "output_type": "execute_result",
          "data": {
            "text/plain": [
              "artm.Dictionary(name=5ac8751b-69ff-44a7-8f0a-8e4b131b3626, num_entries=9178)"
            ]
          },
          "metadata": {
            "tags": []
          },
          "execution_count": 61
        }
      ]
    },
    {
      "cell_type": "code",
      "metadata": {
        "id": "O8rbl37bNPPg"
      },
      "source": [
        "batch_vectorizer_authors.dictionary.save_text('diaries_batches/my_dictionary.txt')"
      ],
      "execution_count": null,
      "outputs": []
    },
    {
      "cell_type": "code",
      "metadata": {
        "colab": {
          "base_uri": "https://localhost:8080/"
        },
        "id": "fGbntrvKpUzo",
        "outputId": "59d26173-f5a0-4353-ec11-0227134ac285"
      },
      "source": [
        "model = artm.ARTM(num_topics=20, \n",
        "                      class_ids={'@default_class': 1.0, 'author': 7.0}, \n",
        "                      dictionary = batch_vectorizer_authors.dictionary, \n",
        "                      num_document_passes=7)\n",
        "\n",
        "model.scores.add(artm.TopTokensScore(name='TopTokensScore', num_tokens=7))\n",
        "model.scores.add(artm.PerplexityScore(name='perplexity', dictionary=batch_vectorizer_authors.dictionary))\n",
        "model.scores.add(artm.SparsityPhiScore(name='SparsityPhiScore'))\n",
        "\n",
        "model.regularizers.add(artm.SmoothSparsePhiRegularizer(name='sparse_phi_def', tau=-0.4, class_ids=['@default_class']))    \n",
        "model.regularizers.add(artm.DecorrelatorPhiRegularizer(name='decorrelator_phi_def', \n",
        "                                                       class_ids=['@default_class'], tau=0.5))\n",
        "\n",
        "model.regularizers.add(artm.SmoothSparsePhiRegularizer(name='smooth_phi_author', \n",
        "                                                       class_ids=['author'], tau=0.3))\n",
        "\n",
        "model.fit_offline(batch_vectorizer=batch_vectorizer_authors, \n",
        "                                    num_collection_passes=100)\n",
        "                        \n",
        "perplexity = model.score_tracker['perplexity'].last_value\n",
        "phi_sparsity = model.score_tracker['SparsityPhiScore'].last_value\n",
        "\n",
        "print('Last perplexity: {}'.format(perplexity))\n",
        "print('Sparsity Phi {}'.format(phi_sparsity))\n",
        "\n",
        "for topic in model.topic_names: \n",
        "    print(topic + ': ', model.score_tracker['TopTokensScore'].last_tokens[topic])"
      ],
      "execution_count": null,
      "outputs": [
        {
          "output_type": "stream",
          "text": [
            "Last perplexity: 392.8286437988281\n",
            "Sparsity Phi 0.8437492847442627\n",
            "topic_0:  ['солдат', 'улица', 'толпа', 'дом', 'несколько', 'автомобиль', 'вагон']\n",
            "topic_1:  ['фронт', 'солдат', 'армия', 'офицер', 'генерал', 'войско', 'военный']\n",
            "topic_2:  ['министр', 'дума', 'распутин', 'министерство', 'государь', 'царь', 'заседание']\n",
            "topic_3:  ['человек', 'красный', 'церковь', 'святой', 'глаз', 'ваш', 'собор']\n",
            "topic_4:  ['вопрос', 'должный', 'дело', 'время', 'иметь', 'положение', 'всякий']\n",
            "topic_5:  ['война', 'россия', 'мир', 'немец', 'германия', 'правительство', 'русский']\n",
            "topic_6:  ['время', 'день', 'человек', 'говорить', 'дело', 'совершенно', 'новый']\n",
            "topic_7:  ['украинский', 'рада', 'украина', 'центральный', 'республика', 'генеральный', 'киев']\n",
            "topic_8:  ['день', 'час', 'вечером', 'ночь', 'вечер', 'утром', 'утро']\n",
            "topic_9:  ['театр', 'искусство', 'публика', 'большой', 'художник', 'ильич', 'новый']\n",
            "topic_10:  ['правительство', 'керенский', 'совет', 'временной', 'комитет', 'большевик', 'комиссар']\n",
            "topic_11:  ['человек', 'знать', 'говорить', 'сказать', 'друг', 'спросить', 'стать']\n",
            "topic_12:  ['хлеб', 'рубль', 'мука', 'комната', 'купить', 'цена', 'вещь']\n",
            "topic_13:  ['русский', 'народ', 'россия', 'революция', 'свобода', 'человек', 'страна']\n",
            "topic_14:  ['рабочий', 'собрание', 'партия', 'революция', 'учредительный', 'революционный', 'совет']\n",
            "topic_15:  ['письмо', 'писать', 'твой', 'хороший', 'ребёнок', 'дорогой', 'мама']\n",
            "topic_16:  ['царский', 'великий', 'поезд', 'ехать', 'князь', 'приехать', 'петроград']\n",
            "topic_17:  ['душа', 'знать', 'жизнь', 'небо', 'смерть', 'твой', 'любовь']\n",
            "topic_18:  ['петроград', 'время', 'городской', 'население', 'банк', 'также', 'москва']\n",
            "topic_19:  ['говорить', 'человек', 'газета', 'сказать', 'сегодня', 'день', 'нибыть']\n"
          ],
          "name": "stdout"
        }
      ]
    },
    {
      "cell_type": "code",
      "metadata": {
        "colab": {
          "base_uri": "https://localhost:8080/"
        },
        "id": "sA6amLa54B2X",
        "outputId": "d5b7d37b-d0fd-458d-f857-5209c7bb52a7"
      },
      "source": [
        "topics = ['topic_2', 'topic_7', 'topic_10', 'topic_13', 'topic_14', 'topic_16']\n",
        "key_words = set()\n",
        "for topic in model.topic_names: \n",
        "    if topic in topics: \n",
        "        for word in model.score_tracker['TopTokensScore'].last_tokens[topic][:5]: \n",
        "            key_words.add(word)\n",
        "\n",
        "for word in key_words: \n",
        "    print(word, sep=', ')"
      ],
      "execution_count": null,
      "outputs": [
        {
          "output_type": "stream",
          "text": [
            "украина\n",
            "революция\n",
            "министр\n",
            "учредительный\n",
            "комитет\n",
            "дума\n",
            "царский\n",
            "республика\n",
            "центральный\n",
            "князь\n",
            "ехать\n",
            "русский\n",
            "народ\n",
            "украинский\n",
            "поезд\n",
            "совет\n",
            "распутин\n",
            "временной\n",
            "государь\n",
            "россия\n",
            "собрание\n",
            "правительство\n",
            "рабочий\n",
            "министерство\n",
            "керенский\n",
            "великий\n",
            "партия\n",
            "свобода\n",
            "рада\n"
          ],
          "name": "stdout"
        }
      ]
    },
    {
      "cell_type": "code",
      "metadata": {
        "id": "96ymUB-z4jrg"
      },
      "source": [
        "def check_text(row): \n",
        "    for word in row['Text'].split(): \n",
        "        if word in key_words: \n",
        "            return True\n",
        "    \n",
        "    return False \n",
        "\n",
        "\n",
        "mask = []\n",
        "for index, row in df.iterrows(): \n",
        "    mask.append(check_text(row))\n",
        "\n",
        "df_revolution = df_unprocessed[mask]"
      ],
      "execution_count": null,
      "outputs": []
    },
    {
      "cell_type": "code",
      "metadata": {
        "id": "f21XrONB8sEZ"
      },
      "source": [
        "df_revolution.to_csv('diaries_revolution.csv', index=False)"
      ],
      "execution_count": null,
      "outputs": []
    },
    {
      "cell_type": "code",
      "metadata": {
        "id": "J4tJ2SWj9FIl",
        "colab": {
          "base_uri": "https://localhost:8080/"
        },
        "outputId": "c00794ca-cc39-4b2a-8e30-646b4be55c18"
      },
      "source": [
        "df_revolution.shape"
      ],
      "execution_count": null,
      "outputs": [
        {
          "output_type": "execute_result",
          "data": {
            "text/plain": [
              "(7734, 3)"
            ]
          },
          "metadata": {
            "tags": []
          },
          "execution_count": 86
        }
      ]
    },
    {
      "cell_type": "code",
      "metadata": {
        "colab": {
          "base_uri": "https://localhost:8080/",
          "height": 33
        },
        "id": "75i97RVO82Of",
        "outputId": "2769a5aa-e2b5-424d-eb10-630a3ae29593"
      },
      "source": [
        "from google.colab import files \n",
        "\n",
        "files.download('diaries_revolution.csv')"
      ],
      "execution_count": null,
      "outputs": [
        {
          "output_type": "display_data",
          "data": {
            "application/javascript": [
              "\n",
              "    async function download(id, filename, size) {\n",
              "      if (!google.colab.kernel.accessAllowed) {\n",
              "        return;\n",
              "      }\n",
              "      const div = document.createElement('div');\n",
              "      const label = document.createElement('label');\n",
              "      label.textContent = `Downloading \"${filename}\": `;\n",
              "      div.appendChild(label);\n",
              "      const progress = document.createElement('progress');\n",
              "      progress.max = size;\n",
              "      div.appendChild(progress);\n",
              "      document.body.appendChild(div);\n",
              "\n",
              "      const buffers = [];\n",
              "      let downloaded = 0;\n",
              "\n",
              "      const channel = await google.colab.kernel.comms.open(id);\n",
              "      // Send a message to notify the kernel that we're ready.\n",
              "      channel.send({})\n",
              "\n",
              "      for await (const message of channel.messages) {\n",
              "        // Send a message to notify the kernel that we're ready.\n",
              "        channel.send({})\n",
              "        if (message.buffers) {\n",
              "          for (const buffer of message.buffers) {\n",
              "            buffers.push(buffer);\n",
              "            downloaded += buffer.byteLength;\n",
              "            progress.value = downloaded;\n",
              "          }\n",
              "        }\n",
              "      }\n",
              "      const blob = new Blob(buffers, {type: 'application/binary'});\n",
              "      const a = document.createElement('a');\n",
              "      a.href = window.URL.createObjectURL(blob);\n",
              "      a.download = filename;\n",
              "      div.appendChild(a);\n",
              "      a.click();\n",
              "      div.remove();\n",
              "    }\n",
              "  "
            ],
            "text/plain": [
              "<IPython.core.display.Javascript object>"
            ]
          },
          "metadata": {
            "tags": []
          }
        },
        {
          "output_type": "display_data",
          "data": {
            "application/javascript": [
              "download(\"download_4b159d05-8c5d-4092-b88d-17968d119df5\", \"diaries_revolution.csv\", 11062131)"
            ],
            "text/plain": [
              "<IPython.core.display.Javascript object>"
            ]
          },
          "metadata": {
            "tags": []
          }
        }
      ]
    },
    {
      "cell_type": "markdown",
      "metadata": {
        "id": "z8btKIq-tb_s"
      },
      "source": [
        "Теперь вместо авторов добавим даты"
      ]
    },
    {
      "cell_type": "code",
      "metadata": {
        "id": "nSOT3eiyoVcb"
      },
      "source": [
        "df['Month'] = pd.to_datetime(df['Date']).dt.month.astype(str)"
      ],
      "execution_count": null,
      "outputs": []
    },
    {
      "cell_type": "code",
      "metadata": {
        "id": "a6ol8k1_teVW"
      },
      "source": [
        "def convert_to_vw_dates(row, index): \n",
        "    return 'text{} {} |date {} |author {}'.format(index, row.Text, row.Month, row.Author)"
      ],
      "execution_count": null,
      "outputs": []
    },
    {
      "cell_type": "code",
      "metadata": {
        "id": "w1ReQBAstt43"
      },
      "source": [
        "with open('diaries_dates_authors_wv.wv', 'w') as f:\n",
        "    for index, row in df[pd.to_datetime(df['Date']).dt.date > dt.date(year=1917, month=2, day=1)].iterrows():\n",
        "        vw_string = convert_to_vw_dates(row, index)\n",
        "        f.write(vw_string)\n",
        "        f.write('\\n')"
      ],
      "execution_count": null,
      "outputs": []
    },
    {
      "cell_type": "code",
      "metadata": {
        "colab": {
          "base_uri": "https://localhost:8080/"
        },
        "id": "nSJyaYacx9s4",
        "outputId": "c82b0c52-ff51-46b4-b665-2116cace2453"
      },
      "source": [
        "batch_vectorizer_dates_authors = artm.BatchVectorizer(data_path='diaries_dates_authors_wv.wv', \n",
        "                                        data_format='vowpal_wabbit',\n",
        "                                        target_folder='diaries_dates_batch')\n",
        "\n",
        "batch_vectorizer_dates_authors.dictionary.filter(min_tf=10, max_tf=2800)"
      ],
      "execution_count": null,
      "outputs": [
        {
          "output_type": "execute_result",
          "data": {
            "text/plain": [
              "artm.Dictionary(name=c7c44d08-40b9-4f5b-9d92-713d96646333, num_entries=8405)"
            ]
          },
          "metadata": {
            "tags": []
          },
          "execution_count": 80
        }
      ]
    },
    {
      "cell_type": "code",
      "metadata": {
        "colab": {
          "base_uri": "https://localhost:8080/"
        },
        "id": "tgfWQldwzYEp",
        "outputId": "be751c80-d2e4-4bdf-fb34-e93daccfa006"
      },
      "source": [
        "model = artm.ARTM(num_topics=20, \n",
        "                      class_ids={'@default_class': 1.0, 'author': 5.0, 'date': 3.0}, \n",
        "                      dictionary = batch_vectorizer_dates_authors.dictionary, \n",
        "                      num_document_passes=5)\n",
        "\n",
        "model.scores.add(artm.TopTokensScore(name='TopTokensScore', num_tokens=7))\n",
        "model.scores.add(artm.PerplexityScore(name='perplexity', dictionary=batch_vectorizer_dates_authors.dictionary))\n",
        "model.scores.add(artm.SparsityPhiScore(name='SparsityPhiScore'))\n",
        "\n",
        "model.regularizers.add(artm.SmoothSparsePhiRegularizer(name='sparse_phi_def', tau=-0.1, class_ids=['@default_class']))    \n",
        "model.regularizers.add(artm.DecorrelatorPhiRegularizer(name='decorrelator_phi_def', \n",
        "                                                       class_ids=['@default_class'], tau=0.3))\n",
        "\n",
        "model.regularizers.add(artm.SmoothSparsePhiRegularizer(name='smooth_phi_author', \n",
        "                                                       class_ids=['author'], tau=0.6))\n",
        "model.regularizers.add(artm.SmoothSparsePhiRegularizer(name='smooth_phi_date', \n",
        "                                                       class_ids=['date'], tau=0.3))\n",
        "\n",
        "\n",
        "# model.regularizers['decorrelator_phi_def'].tau = tau_decor \n",
        "# model.regularizers['sparse_phi_def'].tau = tau_sparse\n",
        "\n",
        "model.fit_offline(batch_vectorizer=batch_vectorizer_dates_authors, \n",
        "            num_collection_passes=100)\n",
        "\n",
        "print(model.score_tracker['perplexity'].last_value)\n",
        "\n",
        "for topic in model.topic_names: \n",
        "    print(topic + ': ', model.score_tracker['TopTokensScore'].last_tokens[topic])"
      ],
      "execution_count": null,
      "outputs": [
        {
          "output_type": "stream",
          "text": [
            "314.1188659667969\n",
            "topic_0:  ['солдат', 'улица', 'толпа', 'дом', 'человек', 'вагон', 'несколько']\n",
            "topic_1:  ['солдат', 'фронт', 'офицер', 'армия', 'войско', 'часть', 'полка']\n",
            "topic_2:  ['война', 'мир', 'россия', 'русский', 'немец', 'германия', 'царь']\n",
            "topic_3:  ['красный', 'церковь', 'собор', 'святой', 'земля', 'поле', 'владимир']\n",
            "topic_4:  ['правительство', 'вопрос', 'временной', 'власть', 'положение', 'должный', 'решение']\n",
            "topic_5:  ['украинский', 'правительство', 'рада', 'украина', 'народный', 'центральный', 'республика']\n",
            "topic_6:  ['человек', 'дело', 'ещё', 'время', 'совершенно', 'жизнь', 'чувствовать']\n",
            "topic_7:  ['керенский', 'министр', 'корнилов', 'правительство', 'генерал', 'министерство', 'дело']\n",
            "topic_8:  ['час', 'утром', 'вечером', 'вечер', 'утро', 'читать', 'обед']\n",
            "topic_9:  ['театр', 'искусство', 'большой', 'публика', 'художник', 'новый', 'речь']\n",
            "topic_10:  ['комитет', 'большевик', 'совет', 'дворец', 'петроград', 'петроградский', 'дума']\n",
            "topic_11:  ['говорить', 'человек', 'знать', 'сказать', 'ещё', 'стать', 'друг']\n",
            "topic_12:  ['хлеб', 'рубль', 'деньга', 'руб', '000', 'цена', 'город']\n",
            "topic_13:  ['россия', 'народ', 'русский', 'революция', 'свобода', 'страна', 'человек']\n",
            "topic_14:  ['рабочий', 'ленин', 'собрание', 'партия', 'совет', 'большевик', 'депутат']\n",
            "topic_15:  ['ваш', 'письмо', 'ребёнок', 'хороший', 'семья', 'дорога', 'время']\n",
            "topic_16:  ['сказать', 'ехать', 'приехать', 'поезд', 'поехать', 'узнать', 'царский']\n",
            "topic_17:  ['душа', 'человек', 'глаз', 'твой', 'знать', 'любить', 'жизнь']\n",
            "topic_18:  ['комиссар', 'арестовать', 'бывший', 'суд', 'тюрьма', 'получить', 'крепость']\n",
            "topic_19:  ['газета', 'писать', 'москва', 'ещё', 'сегодня', 'время', 'горький']\n"
          ],
          "name": "stdout"
        }
      ]
    },
    {
      "cell_type": "code",
      "metadata": {
        "colab": {
          "base_uri": "https://localhost:8080/"
        },
        "id": "kFrhUyAczjKM",
        "outputId": "4827e093-6b36-44b2-efaa-beca1df54be5"
      },
      "source": [
        "topics = []\n",
        "for topic in model.topic_names: \n",
        "    topics.append(model.score_tracker['TopTokensScore'].last_tokens[topic])\n",
        "\n",
        "\n",
        "coherence(df['Text'].apply(lambda x: x.split()), topics)"
      ],
      "execution_count": null,
      "outputs": [
        {
          "output_type": "stream",
          "text": [
            "/usr/local/lib/python3.7/dist-packages/ipykernel_launcher.py:50: VisibleDeprecationWarning: Creating an ndarray from ragged nested sequences (which is a list-or-tuple of lists-or-tuples-or ndarrays with different lengths or shapes) is deprecated. If you meant to do this, you must specify 'dtype=object' when creating the ndarray\n"
          ],
          "name": "stderr"
        },
        {
          "output_type": "execute_result",
          "data": {
            "text/plain": [
              "0.6325598409057964"
            ]
          },
          "metadata": {
            "tags": []
          },
          "execution_count": 82
        }
      ]
    },
    {
      "cell_type": "code",
      "metadata": {
        "colab": {
          "base_uri": "https://localhost:8080/"
        },
        "id": "JRd8eWP11A5P",
        "outputId": "1d6bea84-a539-4447-f2f8-9cf75cdf002a"
      },
      "source": [
        "topics = ['topic_7', 'topic_10', 'topic_14', 'topic_18']\n",
        "key_words = set()\n",
        "for topic in model.topic_names: \n",
        "    if topic in topics: \n",
        "        for word in model.score_tracker['TopTokensScore'].last_tokens[topic][:5]: \n",
        "            key_words.add(word)\n",
        "\n",
        "for word in key_words: \n",
        "    print(word, sep=', ')"
      ],
      "execution_count": null,
      "outputs": [
        {
          "output_type": "stream",
          "text": [
            "министерство\n",
            "корнилов\n",
            "совет\n",
            "комитет\n",
            "дворец\n",
            "военный\n",
            "петроградский\n",
            "рабочий\n",
            "находиться\n",
            "собрание\n",
            "керенский\n",
            "министр\n",
            "партия\n",
            "ленин\n",
            "большевик\n",
            "петроград\n",
            "правительство\n",
            "комиссар\n"
          ],
          "name": "stdout"
        }
      ]
    },
    {
      "cell_type": "code",
      "metadata": {
        "id": "68Ee0wBR1A5e"
      },
      "source": [
        "def check_text(row): \n",
        "    for word in row['Text'].split(): \n",
        "        if word in key_words: \n",
        "            return True\n",
        "    \n",
        "    return False \n",
        "\n",
        "\n",
        "mask = []\n",
        "for index, row in df.iterrows(): \n",
        "    mask.append(check_text(row))\n",
        "\n",
        "df_revolution_dates = df_unprocessed[mask]"
      ],
      "execution_count": null,
      "outputs": []
    },
    {
      "cell_type": "code",
      "metadata": {
        "colab": {
          "base_uri": "https://localhost:8080/"
        },
        "id": "Or_LoDke1A5f",
        "outputId": "5d9bf825-daee-4d04-d7b7-86b220b1e497"
      },
      "source": [
        "dates_cnt_dates = df_revolution_dates.groupby('Date').count()['Author']\n",
        "dates_cnt_dates"
      ],
      "execution_count": null,
      "outputs": [
        {
          "output_type": "execute_result",
          "data": {
            "text/plain": [
              "Date\n",
              "1916-11-01    14\n",
              "1916-11-02    10\n",
              "1916-11-03     7\n",
              "1916-11-04    12\n",
              "1916-11-05    12\n",
              "              ..\n",
              "1918-01-01     9\n",
              "1918-01-02    16\n",
              "1918-01-03    14\n",
              "1918-01-04    15\n",
              "1918-01-05    21\n",
              "Name: Author, Length: 431, dtype: int64"
            ]
          },
          "metadata": {
            "tags": []
          },
          "execution_count": 46
        }
      ]
    },
    {
      "cell_type": "code",
      "metadata": {
        "colab": {
          "base_uri": "https://localhost:8080/"
        },
        "id": "gHn7Epu6fy5c",
        "outputId": "241e26cb-d733-4096-a526-769e38949951"
      },
      "source": [
        "print(df_revolution.shape, df_revolution_dates.shape)"
      ],
      "execution_count": null,
      "outputs": [
        {
          "output_type": "stream",
          "text": [
            "(7910, 3) (6102, 3)\n"
          ],
          "name": "stdout"
        }
      ]
    },
    {
      "cell_type": "code",
      "metadata": {
        "colab": {
          "base_uri": "https://localhost:8080/",
          "height": 542
        },
        "id": "lizoLsRz1A5f",
        "outputId": "f978f34c-6c67-45e5-851e-1b96a824425e"
      },
      "source": [
        "import plotly.express as px \n",
        "import plotly.graph_objs as go\n",
        "\n",
        "fig = px.line(dates_cnt, x=dates_cnt.index, y='Author', title='Diaries Entries about Revolution')\n",
        "fig.add_scatter(y = dates_cnt_dates.values, x=dates_cnt_dates.index)\n",
        "fig.update_xaxes(rangeslider_visible=True)"
      ],
      "execution_count": null,
      "outputs": [
        {
          "output_type": "display_data",
          "data": {
            "text/html": [
              "<html>\n",
              "<head><meta charset=\"utf-8\" /></head>\n",
              "<body>\n",
              "    <div>\n",
              "            <script src=\"https://cdnjs.cloudflare.com/ajax/libs/mathjax/2.7.5/MathJax.js?config=TeX-AMS-MML_SVG\"></script><script type=\"text/javascript\">if (window.MathJax) {MathJax.Hub.Config({SVG: {font: \"STIX-Web\"}});}</script>\n",
              "                <script type=\"text/javascript\">window.PlotlyConfig = {MathJaxConfig: 'local'};</script>\n",
              "        <script src=\"https://cdn.plot.ly/plotly-latest.min.js\"></script>    \n",
              "            <div id=\"11f1b962-3591-430a-a0cc-5cb5275a4efb\" class=\"plotly-graph-div\" style=\"height:525px; width:100%;\"></div>\n",
              "            <script type=\"text/javascript\">\n",
              "                \n",
              "                    window.PLOTLYENV=window.PLOTLYENV || {};\n",
              "                    \n",
              "                if (document.getElementById(\"11f1b962-3591-430a-a0cc-5cb5275a4efb\")) {\n",
              "                    Plotly.newPlot(\n",
              "                        '11f1b962-3591-430a-a0cc-5cb5275a4efb',\n",
              "                        [{\"hoverlabel\": {\"namelength\": 0}, \"hovertemplate\": \"x=%{x}<br>Author=%{y}\", \"legendgroup\": \"\", \"line\": {\"color\": \"#636efa\", \"dash\": \"solid\"}, \"mode\": \"lines\", \"name\": \"\", \"showlegend\": false, \"type\": \"scatter\", \"x\": [\"1916-11-01\", \"1916-11-02\", \"1916-11-03\", \"1916-11-04\", \"1916-11-05\", \"1916-11-06\", \"1916-11-07\", \"1916-11-08\", \"1916-11-09\", \"1916-11-10\", \"1916-11-11\", \"1916-11-12\", \"1916-11-13\", \"1916-11-14\", \"1916-11-15\", \"1916-11-16\", \"1916-11-17\", \"1916-11-18\", \"1916-11-19\", \"1916-11-20\", \"1916-11-21\", \"1916-11-22\", \"1916-11-23\", \"1916-11-24\", \"1916-11-25\", \"1916-11-26\", \"1916-11-27\", \"1916-11-28\", \"1916-11-29\", \"1916-11-30\", \"1916-12-01\", \"1916-12-02\", \"1916-12-03\", \"1916-12-04\", \"1916-12-05\", \"1916-12-06\", \"1916-12-07\", \"1916-12-08\", \"1916-12-09\", \"1916-12-10\", \"1916-12-11\", \"1916-12-12\", \"1916-12-13\", \"1916-12-14\", \"1916-12-15\", \"1916-12-16\", \"1916-12-17\", \"1916-12-18\", \"1916-12-19\", \"1916-12-20\", \"1916-12-21\", \"1916-12-22\", \"1916-12-23\", \"1916-12-24\", \"1916-12-25\", \"1916-12-26\", \"1916-12-27\", \"1916-12-28\", \"1916-12-29\", \"1916-12-30\", \"1916-12-31\", \"1917-01-01\", \"1917-01-02\", \"1917-01-03\", \"1917-01-04\", \"1917-01-05\", \"1917-01-06\", \"1917-01-07\", \"1917-01-08\", \"1917-01-09\", \"1917-01-10\", \"1917-01-11\", \"1917-01-12\", \"1917-01-13\", \"1917-01-14\", \"1917-01-15\", \"1917-01-16\", \"1917-01-17\", \"1917-01-18\", \"1917-01-19\", \"1917-01-20\", \"1917-01-21\", \"1917-01-22\", \"1917-01-23\", \"1917-01-24\", \"1917-01-25\", \"1917-01-26\", \"1917-01-27\", \"1917-01-28\", \"1917-01-29\", \"1917-01-30\", \"1917-01-31\", \"1917-02-01\", \"1917-02-02\", \"1917-02-03\", \"1917-02-04\", \"1917-02-05\", \"1917-02-06\", \"1917-02-07\", \"1917-02-08\", \"1917-02-09\", \"1917-02-10\", \"1917-02-11\", \"1917-02-12\", \"1917-02-13\", \"1917-02-14\", \"1917-02-15\", \"1917-02-16\", \"1917-02-17\", \"1917-02-18\", \"1917-02-19\", \"1917-02-20\", \"1917-02-21\", \"1917-02-22\", \"1917-02-23\", \"1917-02-24\", \"1917-02-25\", \"1917-02-26\", \"1917-02-27\", \"1917-02-28\", \"1917-03-01\", \"1917-03-02\", \"1917-03-03\", \"1917-03-04\", \"1917-03-05\", \"1917-03-06\", \"1917-03-07\", \"1917-03-08\", \"1917-03-09\", \"1917-03-10\", \"1917-03-11\", \"1917-03-12\", \"1917-03-13\", \"1917-03-14\", \"1917-03-15\", \"1917-03-16\", \"1917-03-17\", \"1917-03-18\", \"1917-03-19\", \"1917-03-20\", \"1917-03-21\", \"1917-03-22\", \"1917-03-23\", \"1917-03-24\", \"1917-03-25\", \"1917-03-26\", \"1917-03-27\", \"1917-03-28\", \"1917-03-29\", \"1917-03-30\", \"1917-03-31\", \"1917-04-01\", \"1917-04-02\", \"1917-04-03\", \"1917-04-04\", \"1917-04-05\", \"1917-04-06\", \"1917-04-07\", \"1917-04-08\", \"1917-04-09\", \"1917-04-10\", \"1917-04-11\", \"1917-04-12\", \"1917-04-13\", \"1917-04-14\", \"1917-04-15\", \"1917-04-16\", \"1917-04-17\", \"1917-04-18\", \"1917-04-19\", \"1917-04-20\", \"1917-04-21\", \"1917-04-22\", \"1917-04-23\", \"1917-04-24\", \"1917-04-25\", \"1917-04-26\", \"1917-04-27\", \"1917-04-28\", \"1917-04-29\", \"1917-04-30\", \"1917-05-01\", \"1917-05-02\", \"1917-05-03\", \"1917-05-04\", \"1917-05-05\", \"1917-05-06\", \"1917-05-07\", \"1917-05-08\", \"1917-05-09\", \"1917-05-10\", \"1917-05-11\", \"1917-05-12\", \"1917-05-13\", \"1917-05-14\", \"1917-05-15\", \"1917-05-16\", \"1917-05-17\", \"1917-05-18\", \"1917-05-19\", \"1917-05-20\", \"1917-05-21\", \"1917-05-22\", \"1917-05-23\", \"1917-05-24\", \"1917-05-25\", \"1917-05-26\", \"1917-05-27\", \"1917-05-28\", \"1917-05-29\", \"1917-05-30\", \"1917-05-31\", \"1917-06-01\", \"1917-06-02\", \"1917-06-03\", \"1917-06-04\", \"1917-06-05\", \"1917-06-06\", \"1917-06-07\", \"1917-06-08\", \"1917-06-09\", \"1917-06-10\", \"1917-06-11\", \"1917-06-12\", \"1917-06-13\", \"1917-06-14\", \"1917-06-15\", \"1917-06-16\", \"1917-06-17\", \"1917-06-18\", \"1917-06-19\", \"1917-06-20\", \"1917-06-21\", \"1917-06-22\", \"1917-06-23\", \"1917-06-24\", \"1917-06-25\", \"1917-06-26\", \"1917-06-27\", \"1917-06-28\", \"1917-06-29\", \"1917-06-30\", \"1917-07-01\", \"1917-07-02\", \"1917-07-03\", \"1917-07-04\", \"1917-07-05\", \"1917-07-06\", \"1917-07-07\", \"1917-07-08\", \"1917-07-09\", \"1917-07-10\", \"1917-07-11\", \"1917-07-12\", \"1917-07-13\", \"1917-07-14\", \"1917-07-15\", \"1917-07-16\", \"1917-07-17\", \"1917-07-18\", \"1917-07-19\", \"1917-07-20\", \"1917-07-21\", \"1917-07-22\", \"1917-07-23\", \"1917-07-24\", \"1917-07-25\", \"1917-07-26\", \"1917-07-27\", \"1917-07-28\", \"1917-07-29\", \"1917-07-30\", \"1917-07-31\", \"1917-08-01\", \"1917-08-02\", \"1917-08-03\", \"1917-08-04\", \"1917-08-05\", \"1917-08-06\", \"1917-08-07\", \"1917-08-08\", \"1917-08-09\", \"1917-08-10\", \"1917-08-11\", \"1917-08-12\", \"1917-08-13\", \"1917-08-14\", \"1917-08-15\", \"1917-08-16\", \"1917-08-17\", \"1917-08-18\", \"1917-08-19\", \"1917-08-20\", \"1917-08-21\", \"1917-08-22\", \"1917-08-23\", \"1917-08-24\", \"1917-08-25\", \"1917-08-26\", \"1917-08-27\", \"1917-08-28\", \"1917-08-29\", \"1917-08-30\", \"1917-08-31\", \"1917-09-01\", \"1917-09-02\", \"1917-09-03\", \"1917-09-04\", \"1917-09-05\", \"1917-09-06\", \"1917-09-07\", \"1917-09-08\", \"1917-09-09\", \"1917-09-10\", \"1917-09-11\", \"1917-09-12\", \"1917-09-13\", \"1917-09-14\", \"1917-09-15\", \"1917-09-16\", \"1917-09-17\", \"1917-09-18\", \"1917-09-19\", \"1917-09-20\", \"1917-09-21\", \"1917-09-22\", \"1917-09-23\", \"1917-09-24\", \"1917-09-25\", \"1917-09-26\", \"1917-09-27\", \"1917-09-28\", \"1917-09-29\", \"1917-09-30\", \"1917-10-01\", \"1917-10-02\", \"1917-10-03\", \"1917-10-04\", \"1917-10-05\", \"1917-10-06\", \"1917-10-07\", \"1917-10-08\", \"1917-10-09\", \"1917-10-10\", \"1917-10-11\", \"1917-10-12\", \"1917-10-13\", \"1917-10-14\", \"1917-10-15\", \"1917-10-16\", \"1917-10-17\", \"1917-10-18\", \"1917-10-19\", \"1917-10-20\", \"1917-10-21\", \"1917-10-22\", \"1917-10-23\", \"1917-10-24\", \"1917-10-25\", \"1917-10-26\", \"1917-10-27\", \"1917-10-28\", \"1917-10-29\", \"1917-10-30\", \"1917-10-31\", \"1917-11-01\", \"1917-11-02\", \"1917-11-03\", \"1917-11-04\", \"1917-11-05\", \"1917-11-06\", \"1917-11-07\", \"1917-11-08\", \"1917-11-09\", \"1917-11-10\", \"1917-11-11\", \"1917-11-12\", \"1917-11-13\", \"1917-11-14\", \"1917-11-15\", \"1917-11-16\", \"1917-11-17\", \"1917-11-18\", \"1917-11-19\", \"1917-11-20\", \"1917-11-21\", \"1917-11-22\", \"1917-11-23\", \"1917-11-24\", \"1917-11-25\", \"1917-11-26\", \"1917-11-27\", \"1917-11-28\", \"1917-11-29\", \"1917-11-30\", \"1917-12-01\", \"1917-12-02\", \"1917-12-03\", \"1917-12-04\", \"1917-12-05\", \"1917-12-06\", \"1917-12-07\", \"1917-12-08\", \"1917-12-09\", \"1917-12-10\", \"1917-12-11\", \"1917-12-12\", \"1917-12-13\", \"1917-12-14\", \"1917-12-15\", \"1917-12-16\", \"1917-12-17\", \"1917-12-18\", \"1917-12-19\", \"1917-12-20\", \"1917-12-21\", \"1917-12-22\", \"1917-12-23\", \"1917-12-24\", \"1917-12-25\", \"1917-12-26\", \"1917-12-27\", \"1917-12-28\", \"1917-12-29\", \"1917-12-30\", \"1917-12-31\", \"1918-01-01\", \"1918-01-02\", \"1918-01-03\", \"1918-01-04\", \"1918-01-05\"], \"xaxis\": \"x\", \"y\": [17, 21, 15, 16, 18, 10, 11, 5, 8, 12, 13, 7, 10, 13, 13, 16, 13, 12, 11, 13, 8, 10, 12, 10, 12, 12, 12, 16, 14, 12, 8, 11, 17, 11, 10, 11, 10, 11, 11, 16, 11, 12, 12, 6, 9, 9, 17, 15, 12, 10, 12, 7, 5, 7, 12, 10, 11, 13, 11, 7, 10, 10, 9, 10, 8, 10, 13, 7, 10, 13, 9, 13, 7, 8, 5, 8, 11, 10, 11, 10, 5, 14, 11, 12, 11, 14, 9, 11, 10, 5, 10, 17, 8, 11, 11, 10, 10, 12, 15, 12, 12, 14, 11, 13, 12, 11, 13, 12, 19, 10, 15, 12, 11, 13, 16, 21, 22, 26, 46, 51, 49, 49, 47, 33, 40, 39, 26, 25, 29, 19, 28, 26, 28, 29, 23, 24, 26, 21, 29, 23, 27, 23, 32, 31, 25, 26, 27, 31, 16, 27, 15, 11, 20, 26, 29, 25, 26, 26, 26, 19, 10, 19, 21, 18, 23, 24, 22, 27, 33, 28, 24, 24, 17, 18, 21, 20, 28, 25, 21, 15, 18, 14, 27, 21, 21, 22, 12, 21, 15, 18, 13, 15, 18, 18, 13, 14, 12, 11, 18, 16, 16, 17, 15, 18, 18, 17, 22, 17, 16, 16, 17, 20, 18, 23, 19, 20, 19, 12, 20, 14, 18, 22, 15, 17, 21, 16, 17, 16, 24, 31, 22, 24, 20, 17, 16, 16, 12, 13, 19, 14, 20, 17, 20, 24, 30, 34, 35, 40, 25, 31, 20, 29, 19, 20, 27, 23, 19, 21, 18, 12, 21, 13, 21, 15, 20, 19, 24, 24, 21, 23, 14, 19, 21, 21, 14, 20, 27, 8, 16, 18, 15, 20, 21, 10, 25, 19, 17, 23, 17, 17, 14, 12, 19, 17, 18, 14, 21, 19, 20, 25, 23, 25, 17, 22, 20, 22, 14, 20, 22, 15, 11, 13, 9, 21, 15, 12, 14, 22, 13, 13, 13, 14, 15, 17, 20, 16, 11, 13, 17, 15, 17, 16, 19, 15, 17, 21, 16, 16, 19, 21, 22, 20, 12, 19, 14, 18, 20, 18, 21, 13, 12, 20, 18, 26, 24, 17, 17, 52, 60, 26, 40, 40, 46, 39, 26, 33, 37, 23, 23, 30, 23, 32, 21, 20, 24, 25, 24, 20, 27, 22, 23, 26, 22, 19, 19, 21, 23, 18, 17, 19, 20, 22, 24, 23, 17, 14, 25, 26, 19, 23, 14, 18, 25, 23, 13, 14, 25, 16, 21, 23, 15, 14, 16, 14, 19, 11, 14, 16, 14, 15, 12, 14, 11, 10, 18, 11, 12, 19, 15, 15, 26], \"yaxis\": \"y\"}, {\"type\": \"scatter\", \"x\": [\"1916-11-01\", \"1916-11-02\", \"1916-11-03\", \"1916-11-04\", \"1916-11-05\", \"1916-11-06\", \"1916-11-07\", \"1916-11-08\", \"1916-11-09\", \"1916-11-10\", \"1916-11-11\", \"1916-11-12\", \"1916-11-13\", \"1916-11-14\", \"1916-11-15\", \"1916-11-16\", \"1916-11-17\", \"1916-11-18\", \"1916-11-19\", \"1916-11-20\", \"1916-11-21\", \"1916-11-22\", \"1916-11-23\", \"1916-11-24\", \"1916-11-25\", \"1916-11-26\", \"1916-11-27\", \"1916-11-28\", \"1916-11-29\", \"1916-11-30\", \"1916-12-01\", \"1916-12-02\", \"1916-12-03\", \"1916-12-04\", \"1916-12-05\", \"1916-12-06\", \"1916-12-07\", \"1916-12-08\", \"1916-12-09\", \"1916-12-10\", \"1916-12-11\", \"1916-12-12\", \"1916-12-13\", \"1916-12-14\", \"1916-12-15\", \"1916-12-16\", \"1916-12-17\", \"1916-12-18\", \"1916-12-19\", \"1916-12-20\", \"1916-12-21\", \"1916-12-22\", \"1916-12-23\", \"1916-12-24\", \"1916-12-25\", \"1916-12-26\", \"1916-12-27\", \"1916-12-28\", \"1916-12-29\", \"1916-12-30\", \"1916-12-31\", \"1917-01-01\", \"1917-01-02\", \"1917-01-03\", \"1917-01-04\", \"1917-01-05\", \"1917-01-06\", \"1917-01-07\", \"1917-01-08\", \"1917-01-09\", \"1917-01-10\", \"1917-01-11\", \"1917-01-12\", \"1917-01-13\", \"1917-01-14\", \"1917-01-15\", \"1917-01-16\", \"1917-01-17\", \"1917-01-18\", \"1917-01-19\", \"1917-01-20\", \"1917-01-21\", \"1917-01-22\", \"1917-01-23\", \"1917-01-24\", \"1917-01-25\", \"1917-01-26\", \"1917-01-27\", \"1917-01-28\", \"1917-01-29\", \"1917-01-30\", \"1917-01-31\", \"1917-02-01\", \"1917-02-02\", \"1917-02-03\", \"1917-02-04\", \"1917-02-05\", \"1917-02-06\", \"1917-02-07\", \"1917-02-08\", \"1917-02-09\", \"1917-02-10\", \"1917-02-11\", \"1917-02-12\", \"1917-02-13\", \"1917-02-14\", \"1917-02-15\", \"1917-02-16\", \"1917-02-17\", \"1917-02-18\", \"1917-02-19\", \"1917-02-20\", \"1917-02-21\", \"1917-02-22\", \"1917-02-23\", \"1917-02-24\", \"1917-02-25\", \"1917-02-26\", \"1917-02-27\", \"1917-02-28\", \"1917-03-01\", \"1917-03-02\", \"1917-03-03\", \"1917-03-04\", \"1917-03-05\", \"1917-03-06\", \"1917-03-07\", \"1917-03-08\", \"1917-03-09\", \"1917-03-10\", \"1917-03-11\", \"1917-03-12\", \"1917-03-13\", \"1917-03-14\", \"1917-03-15\", \"1917-03-16\", \"1917-03-17\", \"1917-03-18\", \"1917-03-19\", \"1917-03-20\", \"1917-03-21\", \"1917-03-22\", \"1917-03-23\", \"1917-03-24\", \"1917-03-25\", \"1917-03-26\", \"1917-03-27\", \"1917-03-28\", \"1917-03-29\", \"1917-03-30\", \"1917-03-31\", \"1917-04-01\", \"1917-04-02\", \"1917-04-03\", \"1917-04-04\", \"1917-04-05\", \"1917-04-06\", \"1917-04-07\", \"1917-04-08\", \"1917-04-09\", \"1917-04-10\", \"1917-04-11\", \"1917-04-12\", \"1917-04-13\", \"1917-04-14\", \"1917-04-15\", \"1917-04-16\", \"1917-04-17\", \"1917-04-18\", \"1917-04-19\", \"1917-04-20\", \"1917-04-21\", \"1917-04-22\", \"1917-04-23\", \"1917-04-24\", \"1917-04-25\", \"1917-04-26\", \"1917-04-27\", \"1917-04-28\", \"1917-04-29\", \"1917-04-30\", \"1917-05-01\", \"1917-05-02\", \"1917-05-03\", \"1917-05-04\", \"1917-05-05\", \"1917-05-06\", \"1917-05-07\", \"1917-05-08\", \"1917-05-09\", \"1917-05-10\", \"1917-05-11\", \"1917-05-12\", \"1917-05-13\", \"1917-05-14\", \"1917-05-15\", \"1917-05-16\", \"1917-05-17\", \"1917-05-18\", \"1917-05-19\", \"1917-05-20\", \"1917-05-21\", \"1917-05-22\", \"1917-05-23\", \"1917-05-24\", \"1917-05-25\", \"1917-05-26\", \"1917-05-27\", \"1917-05-28\", \"1917-05-29\", \"1917-05-30\", \"1917-05-31\", \"1917-06-01\", \"1917-06-02\", \"1917-06-03\", \"1917-06-04\", \"1917-06-05\", \"1917-06-06\", \"1917-06-07\", \"1917-06-08\", \"1917-06-09\", \"1917-06-10\", \"1917-06-11\", \"1917-06-12\", \"1917-06-13\", \"1917-06-14\", \"1917-06-15\", \"1917-06-16\", \"1917-06-17\", \"1917-06-18\", \"1917-06-19\", \"1917-06-20\", \"1917-06-21\", \"1917-06-22\", \"1917-06-23\", \"1917-06-24\", \"1917-06-25\", \"1917-06-26\", \"1917-06-27\", \"1917-06-28\", \"1917-06-29\", \"1917-06-30\", \"1917-07-01\", \"1917-07-02\", \"1917-07-03\", \"1917-07-04\", \"1917-07-05\", \"1917-07-06\", \"1917-07-07\", \"1917-07-08\", \"1917-07-09\", \"1917-07-10\", \"1917-07-11\", \"1917-07-12\", \"1917-07-13\", \"1917-07-14\", \"1917-07-15\", \"1917-07-16\", \"1917-07-17\", \"1917-07-18\", \"1917-07-19\", \"1917-07-20\", \"1917-07-21\", \"1917-07-22\", \"1917-07-23\", \"1917-07-24\", \"1917-07-25\", \"1917-07-26\", \"1917-07-27\", \"1917-07-28\", \"1917-07-29\", \"1917-07-30\", \"1917-07-31\", \"1917-08-01\", \"1917-08-02\", \"1917-08-03\", \"1917-08-04\", \"1917-08-05\", \"1917-08-06\", \"1917-08-07\", \"1917-08-08\", \"1917-08-09\", \"1917-08-10\", \"1917-08-11\", \"1917-08-12\", \"1917-08-13\", \"1917-08-14\", \"1917-08-15\", \"1917-08-16\", \"1917-08-17\", \"1917-08-18\", \"1917-08-19\", \"1917-08-20\", \"1917-08-21\", \"1917-08-22\", \"1917-08-23\", \"1917-08-24\", \"1917-08-25\", \"1917-08-26\", \"1917-08-27\", \"1917-08-28\", \"1917-08-29\", \"1917-08-30\", \"1917-08-31\", \"1917-09-01\", \"1917-09-02\", \"1917-09-03\", \"1917-09-04\", \"1917-09-05\", \"1917-09-06\", \"1917-09-07\", \"1917-09-08\", \"1917-09-09\", \"1917-09-10\", \"1917-09-11\", \"1917-09-12\", \"1917-09-13\", \"1917-09-14\", \"1917-09-15\", \"1917-09-16\", \"1917-09-17\", \"1917-09-18\", \"1917-09-19\", \"1917-09-20\", \"1917-09-21\", \"1917-09-22\", \"1917-09-23\", \"1917-09-24\", \"1917-09-25\", \"1917-09-26\", \"1917-09-27\", \"1917-09-28\", \"1917-09-29\", \"1917-09-30\", \"1917-10-01\", \"1917-10-02\", \"1917-10-03\", \"1917-10-04\", \"1917-10-05\", \"1917-10-06\", \"1917-10-07\", \"1917-10-08\", \"1917-10-09\", \"1917-10-10\", \"1917-10-11\", \"1917-10-12\", \"1917-10-13\", \"1917-10-14\", \"1917-10-15\", \"1917-10-16\", \"1917-10-17\", \"1917-10-18\", \"1917-10-19\", \"1917-10-20\", \"1917-10-21\", \"1917-10-22\", \"1917-10-23\", \"1917-10-24\", \"1917-10-25\", \"1917-10-26\", \"1917-10-27\", \"1917-10-28\", \"1917-10-29\", \"1917-10-30\", \"1917-10-31\", \"1917-11-01\", \"1917-11-02\", \"1917-11-03\", \"1917-11-04\", \"1917-11-05\", \"1917-11-06\", \"1917-11-07\", \"1917-11-08\", \"1917-11-09\", \"1917-11-10\", \"1917-11-11\", \"1917-11-12\", \"1917-11-13\", \"1917-11-14\", \"1917-11-15\", \"1917-11-16\", \"1917-11-17\", \"1917-11-18\", \"1917-11-19\", \"1917-11-20\", \"1917-11-21\", \"1917-11-22\", \"1917-11-23\", \"1917-11-24\", \"1917-11-25\", \"1917-11-26\", \"1917-11-27\", \"1917-11-28\", \"1917-11-29\", \"1917-11-30\", \"1917-12-01\", \"1917-12-02\", \"1917-12-03\", \"1917-12-04\", \"1917-12-05\", \"1917-12-06\", \"1917-12-07\", \"1917-12-08\", \"1917-12-09\", \"1917-12-10\", \"1917-12-11\", \"1917-12-12\", \"1917-12-13\", \"1917-12-14\", \"1917-12-15\", \"1917-12-16\", \"1917-12-17\", \"1917-12-18\", \"1917-12-19\", \"1917-12-20\", \"1917-12-21\", \"1917-12-22\", \"1917-12-23\", \"1917-12-24\", \"1917-12-25\", \"1917-12-26\", \"1917-12-27\", \"1917-12-28\", \"1917-12-29\", \"1917-12-30\", \"1917-12-31\", \"1918-01-01\", \"1918-01-02\", \"1918-01-03\", \"1918-01-04\", \"1918-01-05\"], \"y\": [14, 10, 7, 12, 12, 6, 9, 2, 4, 10, 9, 6, 9, 8, 9, 8, 10, 7, 7, 9, 3, 6, 5, 10, 9, 8, 7, 10, 9, 11, 8, 8, 10, 6, 3, 7, 6, 5, 8, 12, 5, 7, 5, 3, 3, 5, 17, 11, 6, 7, 8, 4, 3, 5, 5, 8, 9, 7, 6, 6, 6, 4, 6, 6, 4, 6, 11, 6, 7, 9, 6, 6, 7, 5, 2, 4, 6, 5, 12, 7, 1, 8, 6, 6, 9, 10, 8, 8, 11, 4, 6, 9, 7, 8, 11, 9, 5, 9, 11, 10, 9, 11, 9, 7, 9, 8, 7, 7, 14, 4, 8, 7, 5, 9, 12, 18, 16, 18, 39, 38, 39, 34, 35, 25, 24, 25, 18, 22, 19, 12, 22, 18, 20, 20, 18, 18, 21, 15, 22, 17, 21, 17, 19, 26, 21, 17, 18, 20, 14, 19, 10, 9, 9, 26, 16, 19, 21, 22, 18, 16, 10, 16, 16, 15, 18, 20, 17, 20, 20, 19, 21, 19, 14, 17, 17, 13, 18, 19, 14, 10, 12, 11, 21, 16, 19, 16, 13, 16, 9, 14, 10, 12, 14, 14, 9, 12, 8, 8, 11, 9, 13, 14, 11, 12, 14, 10, 15, 14, 14, 9, 12, 14, 10, 12, 16, 11, 12, 10, 16, 11, 17, 16, 12, 12, 17, 10, 13, 13, 19, 25, 17, 19, 16, 15, 10, 10, 9, 11, 16, 12, 13, 13, 16, 22, 24, 33, 33, 34, 24, 28, 17, 24, 15, 13, 22, 17, 18, 17, 15, 11, 11, 10, 16, 11, 11, 19, 18, 17, 18, 18, 11, 14, 16, 15, 11, 17, 19, 6, 16, 13, 9, 12, 18, 10, 22, 14, 12, 15, 17, 12, 11, 8, 16, 13, 16, 15, 19, 18, 19, 21, 18, 25, 15, 21, 18, 20, 11, 17, 14, 14, 10, 9, 6, 20, 9, 10, 10, 16, 9, 11, 12, 10, 14, 13, 17, 12, 13, 10, 13, 14, 13, 13, 16, 14, 14, 20, 12, 13, 15, 17, 22, 17, 10, 19, 12, 13, 18, 11, 12, 12, 11, 16, 14, 24, 21, 12, 16, 51, 61, 26, 36, 37, 41, 35, 25, 27, 31, 18, 18, 22, 16, 26, 19, 20, 22, 19, 24, 17, 21, 18, 19, 17, 20, 17, 17, 17, 21, 18, 15, 14, 16, 18, 21, 21, 13, 9, 20, 18, 16, 22, 12, 15, 20, 17, 13, 10, 17, 14, 16, 17, 12, 11, 9, 13, 16, 10, 12, 10, 11, 10, 9, 11, 6, 8, 14, 11, 9, 16, 14, 15, 21]}],\n",
              "                        {\"legend\": {\"tracegroupgap\": 0}, \"template\": {\"data\": {\"bar\": [{\"error_x\": {\"color\": \"#2a3f5f\"}, \"error_y\": {\"color\": \"#2a3f5f\"}, \"marker\": {\"line\": {\"color\": \"#E5ECF6\", \"width\": 0.5}}, \"type\": \"bar\"}], \"barpolar\": [{\"marker\": {\"line\": {\"color\": \"#E5ECF6\", \"width\": 0.5}}, \"type\": \"barpolar\"}], \"carpet\": [{\"aaxis\": {\"endlinecolor\": \"#2a3f5f\", \"gridcolor\": \"white\", \"linecolor\": \"white\", \"minorgridcolor\": \"white\", \"startlinecolor\": \"#2a3f5f\"}, \"baxis\": {\"endlinecolor\": \"#2a3f5f\", \"gridcolor\": \"white\", \"linecolor\": \"white\", \"minorgridcolor\": \"white\", \"startlinecolor\": \"#2a3f5f\"}, \"type\": \"carpet\"}], \"choropleth\": [{\"colorbar\": {\"outlinewidth\": 0, \"ticks\": \"\"}, \"type\": \"choropleth\"}], \"contour\": [{\"colorbar\": {\"outlinewidth\": 0, \"ticks\": \"\"}, \"colorscale\": [[0.0, \"#0d0887\"], [0.1111111111111111, \"#46039f\"], [0.2222222222222222, \"#7201a8\"], [0.3333333333333333, \"#9c179e\"], [0.4444444444444444, \"#bd3786\"], [0.5555555555555556, \"#d8576b\"], [0.6666666666666666, \"#ed7953\"], [0.7777777777777778, \"#fb9f3a\"], [0.8888888888888888, \"#fdca26\"], [1.0, \"#f0f921\"]], \"type\": \"contour\"}], \"contourcarpet\": [{\"colorbar\": {\"outlinewidth\": 0, \"ticks\": \"\"}, \"type\": \"contourcarpet\"}], \"heatmap\": [{\"colorbar\": {\"outlinewidth\": 0, \"ticks\": \"\"}, \"colorscale\": [[0.0, \"#0d0887\"], [0.1111111111111111, \"#46039f\"], [0.2222222222222222, \"#7201a8\"], [0.3333333333333333, \"#9c179e\"], [0.4444444444444444, \"#bd3786\"], [0.5555555555555556, \"#d8576b\"], [0.6666666666666666, \"#ed7953\"], [0.7777777777777778, \"#fb9f3a\"], [0.8888888888888888, \"#fdca26\"], [1.0, \"#f0f921\"]], \"type\": \"heatmap\"}], \"heatmapgl\": [{\"colorbar\": {\"outlinewidth\": 0, \"ticks\": \"\"}, \"colorscale\": [[0.0, \"#0d0887\"], [0.1111111111111111, \"#46039f\"], [0.2222222222222222, \"#7201a8\"], [0.3333333333333333, \"#9c179e\"], [0.4444444444444444, \"#bd3786\"], [0.5555555555555556, \"#d8576b\"], [0.6666666666666666, \"#ed7953\"], [0.7777777777777778, \"#fb9f3a\"], [0.8888888888888888, \"#fdca26\"], [1.0, \"#f0f921\"]], \"type\": \"heatmapgl\"}], \"histogram\": [{\"marker\": {\"colorbar\": {\"outlinewidth\": 0, \"ticks\": \"\"}}, \"type\": \"histogram\"}], \"histogram2d\": [{\"colorbar\": {\"outlinewidth\": 0, \"ticks\": \"\"}, \"colorscale\": [[0.0, \"#0d0887\"], [0.1111111111111111, \"#46039f\"], [0.2222222222222222, \"#7201a8\"], [0.3333333333333333, \"#9c179e\"], [0.4444444444444444, \"#bd3786\"], [0.5555555555555556, \"#d8576b\"], [0.6666666666666666, \"#ed7953\"], [0.7777777777777778, \"#fb9f3a\"], [0.8888888888888888, \"#fdca26\"], [1.0, \"#f0f921\"]], \"type\": \"histogram2d\"}], \"histogram2dcontour\": [{\"colorbar\": {\"outlinewidth\": 0, \"ticks\": \"\"}, \"colorscale\": [[0.0, \"#0d0887\"], [0.1111111111111111, \"#46039f\"], [0.2222222222222222, \"#7201a8\"], [0.3333333333333333, \"#9c179e\"], [0.4444444444444444, \"#bd3786\"], [0.5555555555555556, \"#d8576b\"], [0.6666666666666666, \"#ed7953\"], [0.7777777777777778, \"#fb9f3a\"], [0.8888888888888888, \"#fdca26\"], [1.0, \"#f0f921\"]], \"type\": \"histogram2dcontour\"}], \"mesh3d\": [{\"colorbar\": {\"outlinewidth\": 0, \"ticks\": \"\"}, \"type\": \"mesh3d\"}], \"parcoords\": [{\"line\": {\"colorbar\": {\"outlinewidth\": 0, \"ticks\": \"\"}}, \"type\": \"parcoords\"}], \"pie\": [{\"automargin\": true, \"type\": \"pie\"}], \"scatter\": [{\"marker\": {\"colorbar\": {\"outlinewidth\": 0, \"ticks\": \"\"}}, \"type\": \"scatter\"}], \"scatter3d\": [{\"line\": {\"colorbar\": {\"outlinewidth\": 0, \"ticks\": \"\"}}, \"marker\": {\"colorbar\": {\"outlinewidth\": 0, \"ticks\": \"\"}}, \"type\": \"scatter3d\"}], \"scattercarpet\": [{\"marker\": {\"colorbar\": {\"outlinewidth\": 0, \"ticks\": \"\"}}, \"type\": \"scattercarpet\"}], \"scattergeo\": [{\"marker\": {\"colorbar\": {\"outlinewidth\": 0, \"ticks\": \"\"}}, \"type\": \"scattergeo\"}], \"scattergl\": [{\"marker\": {\"colorbar\": {\"outlinewidth\": 0, \"ticks\": \"\"}}, \"type\": \"scattergl\"}], \"scattermapbox\": [{\"marker\": {\"colorbar\": {\"outlinewidth\": 0, \"ticks\": \"\"}}, \"type\": \"scattermapbox\"}], \"scatterpolar\": [{\"marker\": {\"colorbar\": {\"outlinewidth\": 0, \"ticks\": \"\"}}, \"type\": \"scatterpolar\"}], \"scatterpolargl\": [{\"marker\": {\"colorbar\": {\"outlinewidth\": 0, \"ticks\": \"\"}}, \"type\": \"scatterpolargl\"}], \"scatterternary\": [{\"marker\": {\"colorbar\": {\"outlinewidth\": 0, \"ticks\": \"\"}}, \"type\": \"scatterternary\"}], \"surface\": [{\"colorbar\": {\"outlinewidth\": 0, \"ticks\": \"\"}, \"colorscale\": [[0.0, \"#0d0887\"], [0.1111111111111111, \"#46039f\"], [0.2222222222222222, \"#7201a8\"], [0.3333333333333333, \"#9c179e\"], [0.4444444444444444, \"#bd3786\"], [0.5555555555555556, \"#d8576b\"], [0.6666666666666666, \"#ed7953\"], [0.7777777777777778, \"#fb9f3a\"], [0.8888888888888888, \"#fdca26\"], [1.0, \"#f0f921\"]], \"type\": \"surface\"}], \"table\": [{\"cells\": {\"fill\": {\"color\": \"#EBF0F8\"}, \"line\": {\"color\": \"white\"}}, \"header\": {\"fill\": {\"color\": \"#C8D4E3\"}, \"line\": {\"color\": \"white\"}}, \"type\": \"table\"}]}, \"layout\": {\"annotationdefaults\": {\"arrowcolor\": \"#2a3f5f\", \"arrowhead\": 0, \"arrowwidth\": 1}, \"coloraxis\": {\"colorbar\": {\"outlinewidth\": 0, \"ticks\": \"\"}}, \"colorscale\": {\"diverging\": [[0, \"#8e0152\"], [0.1, \"#c51b7d\"], [0.2, \"#de77ae\"], [0.3, \"#f1b6da\"], [0.4, \"#fde0ef\"], [0.5, \"#f7f7f7\"], [0.6, \"#e6f5d0\"], [0.7, \"#b8e186\"], [0.8, \"#7fbc41\"], [0.9, \"#4d9221\"], [1, \"#276419\"]], \"sequential\": [[0.0, \"#0d0887\"], [0.1111111111111111, \"#46039f\"], [0.2222222222222222, \"#7201a8\"], [0.3333333333333333, \"#9c179e\"], [0.4444444444444444, \"#bd3786\"], [0.5555555555555556, \"#d8576b\"], [0.6666666666666666, \"#ed7953\"], [0.7777777777777778, \"#fb9f3a\"], [0.8888888888888888, \"#fdca26\"], [1.0, \"#f0f921\"]], \"sequentialminus\": [[0.0, \"#0d0887\"], [0.1111111111111111, \"#46039f\"], [0.2222222222222222, \"#7201a8\"], [0.3333333333333333, \"#9c179e\"], [0.4444444444444444, \"#bd3786\"], [0.5555555555555556, \"#d8576b\"], [0.6666666666666666, \"#ed7953\"], [0.7777777777777778, \"#fb9f3a\"], [0.8888888888888888, \"#fdca26\"], [1.0, \"#f0f921\"]]}, \"colorway\": [\"#636efa\", \"#EF553B\", \"#00cc96\", \"#ab63fa\", \"#FFA15A\", \"#19d3f3\", \"#FF6692\", \"#B6E880\", \"#FF97FF\", \"#FECB52\"], \"font\": {\"color\": \"#2a3f5f\"}, \"geo\": {\"bgcolor\": \"white\", \"lakecolor\": \"white\", \"landcolor\": \"#E5ECF6\", \"showlakes\": true, \"showland\": true, \"subunitcolor\": \"white\"}, \"hoverlabel\": {\"align\": \"left\"}, \"hovermode\": \"closest\", \"mapbox\": {\"style\": \"light\"}, \"paper_bgcolor\": \"white\", \"plot_bgcolor\": \"#E5ECF6\", \"polar\": {\"angularaxis\": {\"gridcolor\": \"white\", \"linecolor\": \"white\", \"ticks\": \"\"}, \"bgcolor\": \"#E5ECF6\", \"radialaxis\": {\"gridcolor\": \"white\", \"linecolor\": \"white\", \"ticks\": \"\"}}, \"scene\": {\"xaxis\": {\"backgroundcolor\": \"#E5ECF6\", \"gridcolor\": \"white\", \"gridwidth\": 2, \"linecolor\": \"white\", \"showbackground\": true, \"ticks\": \"\", \"zerolinecolor\": \"white\"}, \"yaxis\": {\"backgroundcolor\": \"#E5ECF6\", \"gridcolor\": \"white\", \"gridwidth\": 2, \"linecolor\": \"white\", \"showbackground\": true, \"ticks\": \"\", \"zerolinecolor\": \"white\"}, \"zaxis\": {\"backgroundcolor\": \"#E5ECF6\", \"gridcolor\": \"white\", \"gridwidth\": 2, \"linecolor\": \"white\", \"showbackground\": true, \"ticks\": \"\", \"zerolinecolor\": \"white\"}}, \"shapedefaults\": {\"line\": {\"color\": \"#2a3f5f\"}}, \"ternary\": {\"aaxis\": {\"gridcolor\": \"white\", \"linecolor\": \"white\", \"ticks\": \"\"}, \"baxis\": {\"gridcolor\": \"white\", \"linecolor\": \"white\", \"ticks\": \"\"}, \"bgcolor\": \"#E5ECF6\", \"caxis\": {\"gridcolor\": \"white\", \"linecolor\": \"white\", \"ticks\": \"\"}}, \"title\": {\"x\": 0.05}, \"xaxis\": {\"automargin\": true, \"gridcolor\": \"white\", \"linecolor\": \"white\", \"ticks\": \"\", \"title\": {\"standoff\": 15}, \"zerolinecolor\": \"white\", \"zerolinewidth\": 2}, \"yaxis\": {\"automargin\": true, \"gridcolor\": \"white\", \"linecolor\": \"white\", \"ticks\": \"\", \"title\": {\"standoff\": 15}, \"zerolinecolor\": \"white\", \"zerolinewidth\": 2}}}, \"title\": {\"text\": \"Diaries Entries about Revolution\"}, \"xaxis\": {\"anchor\": \"y\", \"domain\": [0.0, 1.0], \"rangeslider\": {\"visible\": true}, \"title\": {\"text\": \"x\"}}, \"yaxis\": {\"anchor\": \"x\", \"domain\": [0.0, 1.0], \"title\": {\"text\": \"Author\"}}},\n",
              "                        {\"responsive\": true}\n",
              "                    ).then(function(){\n",
              "                            \n",
              "var gd = document.getElementById('11f1b962-3591-430a-a0cc-5cb5275a4efb');\n",
              "var x = new MutationObserver(function (mutations, observer) {{\n",
              "        var display = window.getComputedStyle(gd).display;\n",
              "        if (!display || display === 'none') {{\n",
              "            console.log([gd, 'removed!']);\n",
              "            Plotly.purge(gd);\n",
              "            observer.disconnect();\n",
              "        }}\n",
              "}});\n",
              "\n",
              "// Listen for the removal of the full notebook cells\n",
              "var notebookContainer = gd.closest('#notebook-container');\n",
              "if (notebookContainer) {{\n",
              "    x.observe(notebookContainer, {childList: true});\n",
              "}}\n",
              "\n",
              "// Listen for the clearing of the current output cell\n",
              "var outputEl = gd.closest('.output');\n",
              "if (outputEl) {{\n",
              "    x.observe(outputEl, {childList: true});\n",
              "}}\n",
              "\n",
              "                        })\n",
              "                };\n",
              "                \n",
              "            </script>\n",
              "        </div>\n",
              "</body>\n",
              "</html>"
            ]
          },
          "metadata": {
            "tags": []
          }
        }
      ]
    },
    {
      "cell_type": "code",
      "metadata": {
        "colab": {
          "base_uri": "https://localhost:8080/",
          "height": 17
        },
        "id": "wQ1IU2yFkQrk",
        "outputId": "d0339974-c511-412e-fc7e-f254cf4767c0"
      },
      "source": [
        "from google.colab import files \n",
        "\n",
        "df_revolution.to_csv('diaries_revolution.csv', index=False)\n",
        "\n",
        "files.download('diaries_revolution.csv')"
      ],
      "execution_count": null,
      "outputs": [
        {
          "output_type": "display_data",
          "data": {
            "application/javascript": [
              "\n",
              "    async function download(id, filename, size) {\n",
              "      if (!google.colab.kernel.accessAllowed) {\n",
              "        return;\n",
              "      }\n",
              "      const div = document.createElement('div');\n",
              "      const label = document.createElement('label');\n",
              "      label.textContent = `Downloading \"${filename}\": `;\n",
              "      div.appendChild(label);\n",
              "      const progress = document.createElement('progress');\n",
              "      progress.max = size;\n",
              "      div.appendChild(progress);\n",
              "      document.body.appendChild(div);\n",
              "\n",
              "      const buffers = [];\n",
              "      let downloaded = 0;\n",
              "\n",
              "      const channel = await google.colab.kernel.comms.open(id);\n",
              "      // Send a message to notify the kernel that we're ready.\n",
              "      channel.send({})\n",
              "\n",
              "      for await (const message of channel.messages) {\n",
              "        // Send a message to notify the kernel that we're ready.\n",
              "        channel.send({})\n",
              "        if (message.buffers) {\n",
              "          for (const buffer of message.buffers) {\n",
              "            buffers.push(buffer);\n",
              "            downloaded += buffer.byteLength;\n",
              "            progress.value = downloaded;\n",
              "          }\n",
              "        }\n",
              "      }\n",
              "      const blob = new Blob(buffers, {type: 'application/binary'});\n",
              "      const a = document.createElement('a');\n",
              "      a.href = window.URL.createObjectURL(blob);\n",
              "      a.download = filename;\n",
              "      div.appendChild(a);\n",
              "      a.click();\n",
              "      div.remove();\n",
              "    }\n",
              "  "
            ],
            "text/plain": [
              "<IPython.core.display.Javascript object>"
            ]
          },
          "metadata": {
            "tags": []
          }
        },
        {
          "output_type": "display_data",
          "data": {
            "application/javascript": [
              "download(\"download_a8e62830-f1e7-4b69-9623-bf1d3a5d6cf2\", \"diaries_revolution.csv\", 11201954)"
            ],
            "text/plain": [
              "<IPython.core.display.Javascript object>"
            ]
          },
          "metadata": {
            "tags": []
          }
        }
      ]
    },
    {
      "cell_type": "markdown",
      "metadata": {
        "id": "-gl0O1gNqJlU"
      },
      "source": [
        "# LDA "
      ]
    },
    {
      "cell_type": "code",
      "metadata": {
        "id": "Whwq6vSfq69V"
      },
      "source": [
        "texts = df['Text'].apply(lambda x: x.split()).values"
      ],
      "execution_count": null,
      "outputs": []
    },
    {
      "cell_type": "code",
      "metadata": {
        "id": "AATLWq0xRRlj"
      },
      "source": [
        "class Topic: \n",
        "    def __init__(self): \n",
        "        self.topics = []\n",
        "        self.passes = 0  \n",
        "        self.num_topics = 0\n",
        "        self.coherence = 0 \n",
        "\n",
        "results = []"
      ],
      "execution_count": null,
      "outputs": []
    },
    {
      "cell_type": "code",
      "metadata": {
        "id": "5O55ETY0U2ZQ"
      },
      "source": [
        "import gensim\n",
        "from gensim.corpora.dictionary import Dictionary\n",
        "from gensim.models import LdaModel\n",
        "\n",
        "\n",
        "dictionary = Dictionary(texts)\n",
        "dictionary.filter_extremes(no_below = 10, no_above = 0.9, keep_n=None)\n",
        "corpus = [dictionary.doc2bow(text) for text in texts]"
      ],
      "execution_count": null,
      "outputs": []
    },
    {
      "cell_type": "code",
      "metadata": {
        "colab": {
          "base_uri": "https://localhost:8080/"
        },
        "id": "7Lq7h7y90PEk",
        "outputId": "12758fe2-3cac-491f-8e47-d16abb369ba0"
      },
      "source": [
        "lda = LdaModel(corpus, num_topics=10, id2word = dictionary, chunksize=1000, passes=20, iterations=1)\n",
        "lda.show_topics(10)"
      ],
      "execution_count": null,
      "outputs": [
        {
          "output_type": "execute_result",
          "data": {
            "text/plain": [
              "[(0,\n",
              "  '0.038*\"весь\" + 0.038*\"русский\" + 0.035*\"россия\" + 0.029*\"народ\" + 0.028*\"революция\" + 0.019*\"свой\" + 0.018*\"должный\" + 0.017*\"который\" + 0.016*\"народный\" + 0.013*\"сила\"'),\n",
              " (1,\n",
              "  '0.017*\"знать\" + 0.015*\"друг\" + 0.010*\"рука\" + 0.009*\"видеть\" + 0.009*\"душа\" + 0.009*\"глаз\" + 0.008*\"слово\" + 0.007*\"твой\" + 0.007*\"голова\" + 0.007*\"сердце\"'),\n",
              " (2,\n",
              "  '0.025*\"время\" + 0.014*\"первый\" + 0.014*\"каждый\" + 0.014*\"последний\" + 0.013*\"больший\" + 0.011*\"стать\" + 0.010*\"москва\" + 0.009*\"деньга\" + 0.009*\"месяц\" + 0.009*\"рубль\"'),\n",
              " (3,\n",
              "  '0.020*\"который\" + 0.016*\"фронт\" + 0.016*\"армия\" + 0.015*\"министр\" + 0.014*\"военный\" + 0.012*\"часть\" + 0.011*\"комиссар\" + 0.010*\"немец\" + 0.010*\"положение\" + 0.010*\"случай\"'),\n",
              " (4,\n",
              "  '0.029*\"солдат\" + 0.015*\"час\" + 0.014*\"офицер\" + 0.014*\"улица\" + 0.013*\"дом\" + 0.012*\"город\" + 0.010*\"дворец\" + 0.009*\"толпа\" + 0.009*\"несколько\" + 0.008*\"около\"'),\n",
              " (5,\n",
              "  '0.040*\"человек\" + 0.032*\"свой\" + 0.032*\"новый\" + 0.031*\"наш\" + 0.022*\"жизнь\" + 0.022*\"который\" + 0.016*\"самый\" + 0.011*\"большой\" + 0.010*\"театр\" + 0.009*\"год\"'),\n",
              " (6,\n",
              "  '0.035*\"день\" + 0.019*\"хороший\" + 0.018*\"сегодня\" + 0.016*\"весь\" + 0.013*\"думать\" + 0.012*\"дорога\" + 0.012*\"писать\" + 0.011*\"работать\" + 0.010*\"письмо\" + 0.009*\"газета\"'),\n",
              " (7,\n",
              "  '0.020*\"сказать\" + 0.019*\"который\" + 0.015*\"генерал\" + 0.011*\"свой\" + 0.011*\"получить\" + 0.011*\"петроград\" + 0.010*\"арестовать\" + 0.009*\"просить\" + 0.009*\"говорить\" + 0.008*\"находиться\"'),\n",
              " (8,\n",
              "  '0.030*\"большевик\" + 0.028*\"совет\" + 0.019*\"рабочий\" + 0.017*\"комитет\" + 0.011*\"собрание\" + 0.010*\"член\" + 0.010*\"петроград\" + 0.008*\"также\" + 0.008*\"заседание\" + 0.008*\"петроградский\"'),\n",
              " (9,\n",
              "  '0.037*\"правительство\" + 0.024*\"власть\" + 0.023*\"война\" + 0.019*\"керенский\" + 0.016*\"против\" + 0.015*\"учредительный\" + 0.013*\"временной\" + 0.011*\"ленин\" + 0.010*\"собрание\" + 0.010*\"который\"')]"
            ]
          },
          "metadata": {
            "tags": []
          },
          "execution_count": 90
        }
      ]
    },
    {
      "cell_type": "code",
      "metadata": {
        "id": "7YcROxJP33Ry"
      },
      "source": [
        "topics = []\n",
        "for i in range(10): \n",
        "    topic_terms = []\n",
        "    for _ in lda.get_topic_terms(i):\n",
        "        id, proba = _ \n",
        "        topic_terms.append(dictionary[id])\n",
        "    topics.append(topic_terms)"
      ],
      "execution_count": null,
      "outputs": []
    },
    {
      "cell_type": "code",
      "metadata": {
        "colab": {
          "base_uri": "https://localhost:8080/"
        },
        "id": "GyKvIeHX4zk-",
        "outputId": "765483b6-cc1a-407a-944a-bafbac4500f5"
      },
      "source": [
        "cm = gensim.models.coherencemodel.CoherenceModel(model=lda, corpus=corpus, texts=texts, dictionary=dictionary, coherence='c_uci', topn=10)\n",
        "cm.get_coherence()"
      ],
      "execution_count": null,
      "outputs": [
        {
          "output_type": "execute_result",
          "data": {
            "text/plain": [
              "0.3208056412491743"
            ]
          },
          "metadata": {
            "tags": []
          },
          "execution_count": 101
        }
      ]
    },
    {
      "cell_type": "code",
      "metadata": {
        "colab": {
          "base_uri": "https://localhost:8080/"
        },
        "id": "6dM3Fk2sp36k",
        "outputId": "d37bb148-be28-4b8d-fac7-ad46eb8a76fb"
      },
      "source": [
        "cm.get_coherence_per_topic()"
      ],
      "execution_count": null,
      "outputs": [
        {
          "output_type": "execute_result",
          "data": {
            "text/plain": [
              "[0.2584845178455829,\n",
              " 0.3535266372262423,\n",
              " 0.19568296206947952,\n",
              " 0.2697247912336203,\n",
              " 0.5057610689188875,\n",
              " 0.04594708978511773,\n",
              " 0.3290806074668376,\n",
              " 0.022738298915035454,\n",
              " 0.810000095141986,\n",
              " 0.41711034388895446]"
            ]
          },
          "metadata": {
            "tags": []
          },
          "execution_count": 100
        }
      ]
    },
    {
      "cell_type": "markdown",
      "metadata": {
        "id": "phWneDy-VI_y"
      },
      "source": [
        "# Top2Vec"
      ]
    },
    {
      "cell_type": "code",
      "metadata": {
        "id": "jRTkoEN--gi4"
      },
      "source": [
        "!pip install top2vec \n",
        "!pip install top2vec[sentence_transformers]\n",
        "!pip install top2vec[sentence_encoders]"
      ],
      "execution_count": null,
      "outputs": []
    },
    {
      "cell_type": "code",
      "metadata": {
        "id": "lHi-5sJFNKAY"
      },
      "source": [
        "df = df[df['Date'] >= dt.date(year=1917, month=2, day=1)]"
      ],
      "execution_count": null,
      "outputs": []
    },
    {
      "cell_type": "code",
      "metadata": {
        "id": "E7tIeJ4Q_IhZ"
      },
      "source": [
        "texts = []\n",
        "for text in df['Text']: \n",
        "    texts.append(text)\n",
        "\n",
        "texts"
      ],
      "execution_count": null,
      "outputs": []
    },
    {
      "cell_type": "code",
      "metadata": {
        "colab": {
          "base_uri": "https://localhost:8080/"
        },
        "id": "QXDcK-Lb_-XR",
        "outputId": "eb40cd16-2b2d-409d-ddc5-8eee8b03b461"
      },
      "source": [
        "from top2vec import Top2Vec \n",
        "\n",
        "model = Top2Vec(texts, embedding_model='universal-sentence-encoder-multilingual', min_count=10, use_embedding_model_tokenizer=True)"
      ],
      "execution_count": null,
      "outputs": [
        {
          "output_type": "stream",
          "text": [
            "2021-04-07 21:51:42,972 - top2vec - INFO - Pre-processing documents for training\n",
            "2021-04-07 21:51:46,407 - top2vec - INFO - Downloading universal-sentence-encoder-multilingual model\n",
            "INFO:absl:Using /tmp/tfhub_modules to cache modules.\n",
            "2021-04-07 21:51:50,285 - top2vec - INFO - Creating joint document/word embedding\n",
            "INFO:top2vec:Creating joint document/word embedding\n",
            "2021-04-07 21:54:00,914 - top2vec - INFO - Creating lower dimension embedding of documents\n",
            "INFO:top2vec:Creating lower dimension embedding of documents\n",
            "2021-04-07 21:54:38,069 - top2vec - INFO - Finding dense areas of documents\n",
            "INFO:top2vec:Finding dense areas of documents\n",
            "2021-04-07 21:54:38,635 - top2vec - INFO - Finding topics\n",
            "INFO:top2vec:Finding topics\n"
          ],
          "name": "stderr"
        }
      ]
    },
    {
      "cell_type": "code",
      "metadata": {
        "colab": {
          "base_uri": "https://localhost:8080/"
        },
        "id": "wRIHngdNE5qe",
        "outputId": "24d45be0-4e06-4e37-8592-77f79262079b"
      },
      "source": [
        "model.get_num_topics()"
      ],
      "execution_count": null,
      "outputs": [
        {
          "output_type": "execute_result",
          "data": {
            "text/plain": [
              "44"
            ]
          },
          "metadata": {
            "tags": []
          },
          "execution_count": 17
        }
      ]
    },
    {
      "cell_type": "code",
      "metadata": {
        "colab": {
          "base_uri": "https://localhost:8080/"
        },
        "id": "iuQhLn9fAAUA",
        "outputId": "fab3c45b-ca55-4b04-ea78-a71205aa19f0"
      },
      "source": [
        "topic_sizes, topic_nums = model.get_topic_sizes() \n",
        "topic_sizes"
      ],
      "execution_count": null,
      "outputs": [
        {
          "output_type": "execute_result",
          "data": {
            "text/plain": [
              "array([714, 692, 672, 648, 433, 422, 422, 388, 387, 351, 348, 344, 302,\n",
              "       284, 276, 253, 245, 234, 227, 225, 209, 201, 199, 190, 179, 175,\n",
              "       171, 168, 153, 137, 131, 116, 113, 111, 109, 100,  96,  89,  85,\n",
              "        79,  79,  71,  65,  53])"
            ]
          },
          "metadata": {
            "tags": []
          },
          "execution_count": 18
        }
      ]
    },
    {
      "cell_type": "code",
      "metadata": {
        "colab": {
          "base_uri": "https://localhost:8080/"
        },
        "id": "lNWT_eVtFh58",
        "outputId": "08304666-7862-4e00-f931-86cd6294c529"
      },
      "source": [
        "key_words = []\n",
        "probas = []\n",
        "indexes = []\n",
        "\n",
        "for key_words_topic in model.get_topics()[0]: \n",
        "    key_words.append(key_words_topic[:10])\n",
        "\n",
        "for proba_topic in model.get_topics()[1]: \n",
        "    probas.append(proba_topic[:10])\n",
        "\n",
        "for index_topic in model.get_topics()[2]: \n",
        "    indexes.append(index_topic)\n",
        "\n",
        "for key_words_topic, index_topic in zip(key_words, indexes): \n",
        "    print('{}).'.format(index_topic), key_words_topic)\n",
        "    print('\\n\\n')"
      ],
      "execution_count": null,
      "outputs": [
        {
          "output_type": "stream",
          "text": [
            "0). ['поэт' 'стихнуть' 'поэзия' 'стихотворение' 'стих' 'чаяние' 'трагическии'\n",
            " 'поэма' 'могила' 'душевно']\n",
            "\n",
            "\n",
            "\n",
            "1). ['большевицкии' 'монархист' 'революция' 'революционер' 'петрович'\n",
            " 'арестовывать' 'казацкии' 'водворить' 'анархия' 'троцкии']\n",
            "\n",
            "\n",
            "\n",
            "2). ['расстреливать' 'расстрелять' 'расстрел' 'обстреливать' 'застрелить'\n",
            " 'стрелять' 'обстрел' 'армия' 'перестрелка' 'разгромить']\n",
            "\n",
            "\n",
            "\n",
            "3). ['погодить' 'утро' 'погода' 'день' 'полдень' 'дождь' 'погулять' 'полуночь'\n",
            " 'холодно' 'холодное']\n",
            "\n",
            "\n",
            "\n",
            "4). ['воевать' 'германец' 'германия' 'разгром' 'союзник' 'империализм'\n",
            " 'национализм' 'немец' 'немецкии' 'национализация']\n",
            "\n",
            "\n",
            "\n",
            "5). ['командир' 'офицер' 'генерал' 'офицерство' 'армия' 'военнослужащии'\n",
            " 'офицерскии' 'солдат' 'солдатик' 'приказ']\n",
            "\n",
            "\n",
            "\n",
            "6). ['революция' 'революционер' 'революционныи' 'революционно'\n",
            " 'дореволюционныи' 'восстание' 'монархист' 'монархия' 'контрреволюция'\n",
            " 'монархическии']\n",
            "\n",
            "\n",
            "\n",
            "7). ['душевно' 'отчаяние' 'трагическии' 'печальныи' 'отчаянно' 'отчаяться'\n",
            " 'порабощение' 'сожалеть' 'мучительныи' 'воодушевление']\n",
            "\n",
            "\n",
            "\n",
            "8). ['революция' 'революционер' 'монархист' 'революционныи' 'революционно'\n",
            " 'монархия' 'оппозиция' 'коммунизм' 'анархия' 'капиталист']\n",
            "\n",
            "\n",
            "\n",
            "9). ['воевать' 'армия' 'солдат' 'немец' 'разгром' 'солдатик' 'разгромить'\n",
            " 'гвардия' 'немецкии' 'германец']\n",
            "\n",
            "\n",
            "\n",
            "10). ['торопиться' 'спешить' 'ожидать' 'ожидаться' 'нуждаться' 'щадить'\n",
            " 'предупредить' 'нетерпение' 'поспешить' 'терпение']\n",
            "\n",
            "\n",
            "\n",
            "11). ['чаяние' 'полюбить' 'любить' 'молитва' 'трагическии' 'возлюбить'\n",
            " 'отчаяние' 'любовь' 'милосердие' 'скорбныи']\n",
            "\n",
            "\n",
            "\n",
            "12). ['хлеб' 'хлебныи' 'жадность' 'хлебников' 'голодать' 'голод'\n",
            " 'продовольствие' 'выпекать' 'булочная' 'бродить']\n",
            "\n",
            "\n",
            "\n",
            "13). ['монархист' 'монархия' 'царь' 'монарх' 'монархическии' 'император'\n",
            " 'король' 'царствовать' 'царизм' 'князь']\n",
            "\n",
            "\n",
            "\n",
            "14). ['газета' 'газетныи' 'газетчик' 'журналист' 'бумажка' 'бумага' 'новость'\n",
            " 'пресса' 'пропаганда' 'публика']\n",
            "\n",
            "\n",
            "\n",
            "15). ['письмо' 'спешить' 'пожелать' 'спешно' 'поздороваться' 'поспешить'\n",
            " 'писать' 'спешныи' 'желать' 'поспешно']\n",
            "\n",
            "\n",
            "\n",
            "16). ['поезд' 'вокзал' 'железнодорожник' 'вагон' 'ехать' 'проезд' 'выехать'\n",
            " 'уехать' 'переезд' 'заехать']\n",
            "\n",
            "\n",
            "\n",
            "17). ['комитет' 'комиссариат' 'комитетчик' 'комиссар' 'анархист' 'комиссия'\n",
            " 'анархия' 'командир' 'бюрократия' 'монархист']\n",
            "\n",
            "\n",
            "\n",
            "18). ['командир' 'офицер' 'армия' 'батальон' 'гвардия' 'приказ' 'офицерство'\n",
            " 'офицерскии' 'военнослужащии' 'полковник']\n",
            "\n",
            "\n",
            "\n",
            "19). ['театр' 'театральныи' 'спектакль' 'пьеса' 'драматическии' 'сценическии'\n",
            " 'драма' 'концерт' 'выступать' 'артист']\n",
            "\n",
            "\n",
            "\n",
            "20). ['солдат' 'батальон' 'солдатик' 'солдатскии' 'пехотныи' 'армия'\n",
            " 'военнослужащии' 'артиллерия' 'командир' 'офицер']\n",
            "\n",
            "\n",
            "\n",
            "21). ['правительство' 'государственныи' 'парламент' 'республиканец' 'монархия'\n",
            " 'монархическии' 'государыня' 'монархист' 'республика' 'министр']\n",
            "\n",
            "\n",
            "\n",
            "22). ['церковь' 'священник' 'соборныи' 'церковныи' 'священныи' 'патриарх'\n",
            " 'собор' 'православныи' 'католическии' 'вероисповедание']\n",
            "\n",
            "\n",
            "\n",
            "23). ['пахать' 'прибегнуть' 'иссякнуть' 'освобождаться' 'завалить' 'свалиться'\n",
            " 'застрять' 'опуститься' 'запоздалыи' 'свалить']\n",
            "\n",
            "\n",
            "\n",
            "24). ['украинскии' 'украинство' 'украинец' 'украинизация' 'украина'\n",
            " 'всеукраинскии' 'большевицкии' 'республиканец' 'казацкии' 'окраина']\n",
            "\n",
            "\n",
            "\n",
            "25). ['арестовывать' 'тюрьма' 'арест' 'арестовать' 'арестант' 'тюремныи'\n",
            " 'преступник' 'преступность' 'преступно' 'казнь']\n",
            "\n",
            "\n",
            "\n",
            "26). ['министр' 'министерство' 'губернатор' 'секретарь' 'правитель'\n",
            " 'правительство' 'монархист' 'губернаторскии' 'секретарство' 'департамент']\n",
            "\n",
            "\n",
            "\n",
            "27). ['интеллигенция' 'интеллигент' 'интеллигентныи' 'интеллигентскии'\n",
            " 'анархизм' 'революционныи' 'революционно' 'революция' 'либерализм'\n",
            " 'большевизм']\n",
            "\n",
            "\n",
            "\n",
            "28). ['социализм' 'социалист' 'социализация' 'демократическии' 'либерализм'\n",
            " 'демократизация' 'социала' 'коммунизм' 'демократия' 'монархист']\n",
            "\n",
            "\n",
            "\n",
            "29). ['поэт' 'поэзия' 'стихотворение' 'стих' 'поэма' 'стихнуть' 'литературныи'\n",
            " 'литературно' 'литература' 'писатель']\n",
            "\n",
            "\n",
            "\n",
            "30). ['искусство' 'художество' 'художник' 'художественныи' 'живопись' 'артист'\n",
            " 'живописныи' 'артистическии' 'нарисовать' 'творчество']\n",
            "\n",
            "\n",
            "\n",
            "31). ['дворец' 'дворцовыи' 'двор' 'монархист' 'император' 'царь' 'монархия'\n",
            " 'монарх' 'дворник' 'парламент']\n",
            "\n",
            "\n",
            "\n",
            "32). ['казачество' 'казак' 'казацкии' 'казачии' 'казарма' 'гвардия'\n",
            " 'большевицкии' 'батальон' 'солдатик' 'республиканец']\n",
            "\n",
            "\n",
            "\n",
            "33). ['могила' 'могилев' 'похороны' 'похоронить' 'кладбище' 'гробовои'\n",
            " 'похоронныи' 'гроб' 'мертвыи' 'погребение']\n",
            "\n",
            "\n",
            "\n",
            "34). ['банк' 'банковскии' 'банкротство' 'банкир' 'ликвидация' 'ликвидировать'\n",
            " 'сбережение' 'кредит' 'арестовывать' 'арест']\n",
            "\n",
            "\n",
            "\n",
            "35). ['выборы' 'избиратель' 'избирательныи' 'голосовать' 'голосование'\n",
            " 'либерал' 'либеральныи' 'либер' 'кандидат' 'кандидатура']\n",
            "\n",
            "\n",
            "\n",
            "36). ['флаг' 'революционно' 'революция' 'революционныи' 'революционер'\n",
            " 'красногвардеец' 'марш' 'восстание' 'республиканец' 'царизм']\n",
            "\n",
            "\n",
            "\n",
            "37). ['алкоголь' 'вина' 'пьянство' 'вино' 'алкогольныи' 'опьянить' 'опьянение'\n",
            " 'винить' 'спиртнои' 'спирт']\n",
            "\n",
            "\n",
            "\n",
            "38). ['дипломат' 'посольство' 'дипломатическии' 'посол' 'консульство' 'консул'\n",
            " 'послать' 'монархист' 'иностранныи' 'эмигрант']\n",
            "\n",
            "\n",
            "\n",
            "39). ['свобода' 'свободныи' 'свободно' 'освободиться' 'освобождение'\n",
            " 'освободить' 'бесплатныи' 'независимость' 'либерализм' 'бесплатно']\n",
            "\n",
            "\n",
            "\n",
            "40). ['флот' 'адмиралтеиство' 'адмирал' 'моряк' 'подлодка' 'корабль' 'море'\n",
            " 'судно' 'флотскии' 'плыть']\n",
            "\n",
            "\n",
            "\n",
            "41). ['балет' 'балетныи' 'танцовщица' 'танцевать' 'балерина' 'танец'\n",
            " 'спектакль' 'феодосия' 'театр' 'станиславскии']\n",
            "\n",
            "\n",
            "\n",
            "42). ['солдатскии' 'солдатик' 'солдат' 'военнопленныи' 'военнослужащии'\n",
            " 'американскии' 'десант' 'американец' 'англичанин' 'пехотныи']\n",
            "\n",
            "\n",
            "\n",
            "43). ['евреика' 'евреи' 'евреискии' 'национализм' 'национальность' 'жидов'\n",
            " 'россиянин' 'жадность' 'нация' 'русскии']\n",
            "\n",
            "\n",
            "\n"
          ],
          "name": "stdout"
        }
      ]
    },
    {
      "cell_type": "code",
      "metadata": {
        "colab": {
          "base_uri": "https://localhost:8080/"
        },
        "id": "TGcpxsMzPZUR",
        "outputId": "b858576e-2230-4eaa-9784-e4cfac32e4fa"
      },
      "source": [
        "indexes = [1, 2, 6, 8, 12, 13, 21, 25, 26, 28, 31, 35, 39] \n",
        "key_words_revolution = set()\n",
        "\n",
        "for index_topic in indexes:\n",
        "    for word in key_words[index_topic]: \n",
        "        key_words_revolution.add(word)\n",
        "\n",
        "key_words_revolution"
      ],
      "execution_count": null,
      "outputs": [
        {
          "output_type": "execute_result",
          "data": {
            "text/plain": [
              "{'анархия',\n",
              " 'арест',\n",
              " 'арестант',\n",
              " 'арестовать',\n",
              " 'арестовывать',\n",
              " 'армия',\n",
              " 'бесплатно',\n",
              " 'бесплатныи',\n",
              " 'большевицкии',\n",
              " 'бродить',\n",
              " 'булочная',\n",
              " 'водворить',\n",
              " 'восстание',\n",
              " 'выборы',\n",
              " 'выпекать',\n",
              " 'голод',\n",
              " 'голодать',\n",
              " 'голосование',\n",
              " 'голосовать',\n",
              " 'государственныи',\n",
              " 'государыня',\n",
              " 'губернатор',\n",
              " 'губернаторскии',\n",
              " 'двор',\n",
              " 'дворец',\n",
              " 'дворник',\n",
              " 'дворцовыи',\n",
              " 'демократизация',\n",
              " 'демократическии',\n",
              " 'демократия',\n",
              " 'департамент',\n",
              " 'дореволюционныи',\n",
              " 'жадность',\n",
              " 'застрелить',\n",
              " 'избиратель',\n",
              " 'избирательныи',\n",
              " 'император',\n",
              " 'казацкии',\n",
              " 'казнь',\n",
              " 'кандидат',\n",
              " 'кандидатура',\n",
              " 'капиталист',\n",
              " 'князь',\n",
              " 'коммунизм',\n",
              " 'контрреволюция',\n",
              " 'король',\n",
              " 'либер',\n",
              " 'либерал',\n",
              " 'либерализм',\n",
              " 'либеральныи',\n",
              " 'министерство',\n",
              " 'министр',\n",
              " 'монарх',\n",
              " 'монархист',\n",
              " 'монархическии',\n",
              " 'монархия',\n",
              " 'независимость',\n",
              " 'обстрел',\n",
              " 'обстреливать',\n",
              " 'оппозиция',\n",
              " 'освободить',\n",
              " 'освободиться',\n",
              " 'освобождение',\n",
              " 'парламент',\n",
              " 'перестрелка',\n",
              " 'петрович',\n",
              " 'правитель',\n",
              " 'правительство',\n",
              " 'преступник',\n",
              " 'преступно',\n",
              " 'преступность',\n",
              " 'продовольствие',\n",
              " 'разгромить',\n",
              " 'расстрел',\n",
              " 'расстреливать',\n",
              " 'расстрелять',\n",
              " 'революционер',\n",
              " 'революционно',\n",
              " 'революционныи',\n",
              " 'революция',\n",
              " 'республика',\n",
              " 'республиканец',\n",
              " 'свобода',\n",
              " 'свободно',\n",
              " 'свободныи',\n",
              " 'секретарство',\n",
              " 'секретарь',\n",
              " 'социала',\n",
              " 'социализация',\n",
              " 'социализм',\n",
              " 'социалист',\n",
              " 'стрелять',\n",
              " 'троцкии',\n",
              " 'тюремныи',\n",
              " 'тюрьма',\n",
              " 'хлеб',\n",
              " 'хлебников',\n",
              " 'хлебныи',\n",
              " 'царизм',\n",
              " 'царствовать',\n",
              " 'царь'}"
            ]
          },
          "metadata": {
            "tags": []
          },
          "execution_count": 21
        }
      ]
    },
    {
      "cell_type": "code",
      "metadata": {
        "colab": {
          "base_uri": "https://localhost:8080/"
        },
        "id": "9YhhIxCtP8lL",
        "outputId": "35ab60aa-c37b-48e4-d346-17c873053023"
      },
      "source": [
        "texts = []\n",
        "dates = []\n",
        "\n",
        "for index, row in df.iterrows(): \n",
        "    for word in row['Text'].split(): \n",
        "        if word in key_words_revolution: \n",
        "            texts.append(row['Text'])\n",
        "            dates.append(row['Date'])\n",
        "            break\n",
        "            \n",
        "len(texts)"
      ],
      "execution_count": null,
      "outputs": [
        {
          "output_type": "execute_result",
          "data": {
            "text/plain": [
              "5657"
            ]
          },
          "metadata": {
            "tags": []
          },
          "execution_count": 28
        }
      ]
    },
    {
      "cell_type": "code",
      "metadata": {
        "id": "OqZWENFvBDIB"
      },
      "source": [
        "from collections import Counter \n",
        "\n",
        "counter = Counter(dates)\n",
        "counter"
      ],
      "execution_count": null,
      "outputs": []
    },
    {
      "cell_type": "code",
      "metadata": {
        "colab": {
          "base_uri": "https://localhost:8080/",
          "height": 407
        },
        "id": "rNs1qXH8Xxz9",
        "outputId": "9f5abca4-14e6-4e76-ca32-10fcad7c5bc6"
      },
      "source": [
        "dates_dist = pd.DataFrame(counter.items(), columns=['Date', 'Counter'])\n",
        "dates_dist"
      ],
      "execution_count": null,
      "outputs": [
        {
          "output_type": "execute_result",
          "data": {
            "text/html": [
              "<div>\n",
              "<style scoped>\n",
              "    .dataframe tbody tr th:only-of-type {\n",
              "        vertical-align: middle;\n",
              "    }\n",
              "\n",
              "    .dataframe tbody tr th {\n",
              "        vertical-align: top;\n",
              "    }\n",
              "\n",
              "    .dataframe thead th {\n",
              "        text-align: right;\n",
              "    }\n",
              "</style>\n",
              "<table border=\"1\" class=\"dataframe\">\n",
              "  <thead>\n",
              "    <tr style=\"text-align: right;\">\n",
              "      <th></th>\n",
              "      <th>Date</th>\n",
              "      <th>Counter</th>\n",
              "    </tr>\n",
              "  </thead>\n",
              "  <tbody>\n",
              "    <tr>\n",
              "      <th>0</th>\n",
              "      <td>1917-02-01</td>\n",
              "      <td>7</td>\n",
              "    </tr>\n",
              "    <tr>\n",
              "      <th>1</th>\n",
              "      <td>1917-02-02</td>\n",
              "      <td>6</td>\n",
              "    </tr>\n",
              "    <tr>\n",
              "      <th>2</th>\n",
              "      <td>1917-02-03</td>\n",
              "      <td>5</td>\n",
              "    </tr>\n",
              "    <tr>\n",
              "      <th>3</th>\n",
              "      <td>1917-02-04</td>\n",
              "      <td>10</td>\n",
              "    </tr>\n",
              "    <tr>\n",
              "      <th>4</th>\n",
              "      <td>1917-02-05</td>\n",
              "      <td>10</td>\n",
              "    </tr>\n",
              "    <tr>\n",
              "      <th>...</th>\n",
              "      <td>...</td>\n",
              "      <td>...</td>\n",
              "    </tr>\n",
              "    <tr>\n",
              "      <th>334</th>\n",
              "      <td>1918-01-01</td>\n",
              "      <td>10</td>\n",
              "    </tr>\n",
              "    <tr>\n",
              "      <th>335</th>\n",
              "      <td>1918-01-02</td>\n",
              "      <td>12</td>\n",
              "    </tr>\n",
              "    <tr>\n",
              "      <th>336</th>\n",
              "      <td>1918-01-03</td>\n",
              "      <td>14</td>\n",
              "    </tr>\n",
              "    <tr>\n",
              "      <th>337</th>\n",
              "      <td>1918-01-04</td>\n",
              "      <td>11</td>\n",
              "    </tr>\n",
              "    <tr>\n",
              "      <th>338</th>\n",
              "      <td>1918-01-05</td>\n",
              "      <td>22</td>\n",
              "    </tr>\n",
              "  </tbody>\n",
              "</table>\n",
              "<p>339 rows × 2 columns</p>\n",
              "</div>"
            ],
            "text/plain": [
              "           Date  Counter\n",
              "0    1917-02-01        7\n",
              "1    1917-02-02        6\n",
              "2    1917-02-03        5\n",
              "3    1917-02-04       10\n",
              "4    1917-02-05       10\n",
              "..          ...      ...\n",
              "334  1918-01-01       10\n",
              "335  1918-01-02       12\n",
              "336  1918-01-03       14\n",
              "337  1918-01-04       11\n",
              "338  1918-01-05       22\n",
              "\n",
              "[339 rows x 2 columns]"
            ]
          },
          "metadata": {
            "tags": []
          },
          "execution_count": 49
        }
      ]
    },
    {
      "cell_type": "code",
      "metadata": {
        "colab": {
          "base_uri": "https://localhost:8080/",
          "height": 542
        },
        "id": "afvODS4xYixj",
        "outputId": "02fa874c-760a-46dc-9b53-37f23d130bae"
      },
      "source": [
        "import plotly.express as px \n",
        "import plotly.graph_objs as go\n",
        "\n",
        "fig = px.line(dates_dist, x='Date', y='Counter', title='Diaries Entries about Revolution')\n",
        "fig.update_xaxes(rangeslider_visible=True)"
      ],
      "execution_count": null,
      "outputs": [
        {
          "output_type": "display_data",
          "data": {
            "text/html": [
              "<html>\n",
              "<head><meta charset=\"utf-8\" /></head>\n",
              "<body>\n",
              "    <div>\n",
              "            <script src=\"https://cdnjs.cloudflare.com/ajax/libs/mathjax/2.7.5/MathJax.js?config=TeX-AMS-MML_SVG\"></script><script type=\"text/javascript\">if (window.MathJax) {MathJax.Hub.Config({SVG: {font: \"STIX-Web\"}});}</script>\n",
              "                <script type=\"text/javascript\">window.PlotlyConfig = {MathJaxConfig: 'local'};</script>\n",
              "        <script src=\"https://cdn.plot.ly/plotly-latest.min.js\"></script>    \n",
              "            <div id=\"f10c66db-7a0c-45dc-8aca-fd5d5afa7530\" class=\"plotly-graph-div\" style=\"height:525px; width:100%;\"></div>\n",
              "            <script type=\"text/javascript\">\n",
              "                \n",
              "                    window.PLOTLYENV=window.PLOTLYENV || {};\n",
              "                    \n",
              "                if (document.getElementById(\"f10c66db-7a0c-45dc-8aca-fd5d5afa7530\")) {\n",
              "                    Plotly.newPlot(\n",
              "                        'f10c66db-7a0c-45dc-8aca-fd5d5afa7530',\n",
              "                        [{\"hoverlabel\": {\"namelength\": 0}, \"hovertemplate\": \"Date=%{x}<br>Counter=%{y}\", \"legendgroup\": \"\", \"line\": {\"color\": \"#636efa\", \"dash\": \"solid\"}, \"mode\": \"lines\", \"name\": \"\", \"showlegend\": false, \"type\": \"scatter\", \"x\": [\"1917-02-01\", \"1917-02-02\", \"1917-02-03\", \"1917-02-04\", \"1917-02-05\", \"1917-02-06\", \"1917-02-07\", \"1917-02-08\", \"1917-02-09\", \"1917-02-10\", \"1917-02-11\", \"1917-02-12\", \"1917-02-13\", \"1917-02-14\", \"1917-02-15\", \"1917-02-16\", \"1917-02-17\", \"1917-02-18\", \"1917-02-19\", \"1917-02-20\", \"1917-02-21\", \"1917-02-22\", \"1917-02-23\", \"1917-02-24\", \"1917-02-25\", \"1917-02-26\", \"1917-02-27\", \"1917-02-28\", \"1917-03-01\", \"1917-03-02\", \"1917-03-03\", \"1917-03-04\", \"1917-03-05\", \"1917-03-06\", \"1917-03-07\", \"1917-03-08\", \"1917-03-09\", \"1917-03-10\", \"1917-03-11\", \"1917-03-12\", \"1917-03-13\", \"1917-03-14\", \"1917-03-15\", \"1917-03-16\", \"1917-03-17\", \"1917-03-18\", \"1917-03-19\", \"1917-03-20\", \"1917-03-21\", \"1917-03-22\", \"1917-03-23\", \"1917-03-24\", \"1917-03-25\", \"1917-03-26\", \"1917-03-27\", \"1917-03-28\", \"1917-03-29\", \"1917-03-30\", \"1917-03-31\", \"1917-04-01\", \"1917-04-02\", \"1917-04-03\", \"1917-04-04\", \"1917-04-05\", \"1917-04-06\", \"1917-04-07\", \"1917-04-08\", \"1917-04-09\", \"1917-04-10\", \"1917-04-11\", \"1917-04-12\", \"1917-04-13\", \"1917-04-14\", \"1917-04-15\", \"1917-04-16\", \"1917-04-17\", \"1917-04-18\", \"1917-04-19\", \"1917-04-20\", \"1917-04-21\", \"1917-04-22\", \"1917-04-23\", \"1917-04-24\", \"1917-04-25\", \"1917-04-26\", \"1917-04-27\", \"1917-04-28\", \"1917-04-29\", \"1917-04-30\", \"1917-05-01\", \"1917-05-02\", \"1917-05-03\", \"1917-05-04\", \"1917-05-05\", \"1917-05-06\", \"1917-05-07\", \"1917-05-08\", \"1917-05-09\", \"1917-05-10\", \"1917-05-11\", \"1917-05-12\", \"1917-05-13\", \"1917-05-14\", \"1917-05-15\", \"1917-05-16\", \"1917-05-17\", \"1917-05-18\", \"1917-05-19\", \"1917-05-20\", \"1917-05-21\", \"1917-05-22\", \"1917-05-23\", \"1917-05-24\", \"1917-05-25\", \"1917-05-26\", \"1917-05-27\", \"1917-05-28\", \"1917-05-29\", \"1917-05-30\", \"1917-05-31\", \"1917-06-01\", \"1917-06-02\", \"1917-06-03\", \"1917-06-04\", \"1917-06-05\", \"1917-06-06\", \"1917-06-07\", \"1917-06-08\", \"1917-06-09\", \"1917-06-10\", \"1917-06-11\", \"1917-06-12\", \"1917-06-13\", \"1917-06-14\", \"1917-06-15\", \"1917-06-16\", \"1917-06-17\", \"1917-06-18\", \"1917-06-19\", \"1917-06-20\", \"1917-06-21\", \"1917-06-22\", \"1917-06-23\", \"1917-06-24\", \"1917-06-25\", \"1917-06-26\", \"1917-06-27\", \"1917-06-28\", \"1917-06-29\", \"1917-06-30\", \"1917-07-01\", \"1917-07-02\", \"1917-07-03\", \"1917-07-04\", \"1917-07-05\", \"1917-07-06\", \"1917-07-07\", \"1917-07-08\", \"1917-07-09\", \"1917-07-10\", \"1917-07-11\", \"1917-07-12\", \"1917-07-13\", \"1917-07-14\", \"1917-07-15\", \"1917-07-16\", \"1917-07-17\", \"1917-07-18\", \"1917-07-19\", \"1917-07-20\", \"1917-07-21\", \"1917-07-22\", \"1917-07-23\", \"1917-07-24\", \"1917-07-25\", \"1917-07-26\", \"1917-07-27\", \"1917-07-28\", \"1917-07-29\", \"1917-07-30\", \"1917-07-31\", \"1917-08-01\", \"1917-08-02\", \"1917-08-03\", \"1917-08-04\", \"1917-08-05\", \"1917-08-06\", \"1917-08-07\", \"1917-08-08\", \"1917-08-09\", \"1917-08-10\", \"1917-08-11\", \"1917-08-12\", \"1917-08-13\", \"1917-08-14\", \"1917-08-15\", \"1917-08-16\", \"1917-08-17\", \"1917-08-18\", \"1917-08-19\", \"1917-08-20\", \"1917-08-21\", \"1917-08-22\", \"1917-08-23\", \"1917-08-24\", \"1917-08-25\", \"1917-08-26\", \"1917-08-27\", \"1917-08-28\", \"1917-08-29\", \"1917-08-30\", \"1917-08-31\", \"1917-09-01\", \"1917-09-02\", \"1917-09-03\", \"1917-09-04\", \"1917-09-05\", \"1917-09-06\", \"1917-09-07\", \"1917-09-08\", \"1917-09-09\", \"1917-09-10\", \"1917-09-11\", \"1917-09-12\", \"1917-09-13\", \"1917-09-14\", \"1917-09-15\", \"1917-09-16\", \"1917-09-17\", \"1917-09-18\", \"1917-09-19\", \"1917-09-20\", \"1917-09-21\", \"1917-09-22\", \"1917-09-23\", \"1917-09-24\", \"1917-09-25\", \"1917-09-26\", \"1917-09-27\", \"1917-09-28\", \"1917-09-29\", \"1917-09-30\", \"1917-10-01\", \"1917-10-02\", \"1917-10-03\", \"1917-10-04\", \"1917-10-05\", \"1917-10-06\", \"1917-10-07\", \"1917-10-08\", \"1917-10-09\", \"1917-10-10\", \"1917-10-11\", \"1917-10-12\", \"1917-10-13\", \"1917-10-14\", \"1917-10-15\", \"1917-10-16\", \"1917-10-17\", \"1917-10-18\", \"1917-10-19\", \"1917-10-20\", \"1917-10-21\", \"1917-10-22\", \"1917-10-23\", \"1917-10-24\", \"1917-10-25\", \"1917-10-26\", \"1917-10-27\", \"1917-10-28\", \"1917-10-29\", \"1917-10-30\", \"1917-10-31\", \"1917-11-01\", \"1917-11-02\", \"1917-11-03\", \"1917-11-04\", \"1917-11-05\", \"1917-11-06\", \"1917-11-07\", \"1917-11-08\", \"1917-11-09\", \"1917-11-10\", \"1917-11-11\", \"1917-11-12\", \"1917-11-13\", \"1917-11-14\", \"1917-11-15\", \"1917-11-16\", \"1917-11-17\", \"1917-11-18\", \"1917-11-19\", \"1917-11-20\", \"1917-11-21\", \"1917-11-22\", \"1917-11-23\", \"1917-11-24\", \"1917-11-25\", \"1917-11-26\", \"1917-11-27\", \"1917-11-28\", \"1917-11-29\", \"1917-11-30\", \"1917-12-01\", \"1917-12-02\", \"1917-12-03\", \"1917-12-04\", \"1917-12-05\", \"1917-12-06\", \"1917-12-07\", \"1917-12-08\", \"1917-12-09\", \"1917-12-10\", \"1917-12-11\", \"1917-12-12\", \"1917-12-13\", \"1917-12-14\", \"1917-12-15\", \"1917-12-16\", \"1917-12-17\", \"1917-12-18\", \"1917-12-19\", \"1917-12-20\", \"1917-12-21\", \"1917-12-22\", \"1917-12-23\", \"1917-12-24\", \"1917-12-25\", \"1917-12-26\", \"1917-12-27\", \"1917-12-28\", \"1917-12-29\", \"1917-12-30\", \"1917-12-31\", \"1918-01-01\", \"1918-01-02\", \"1918-01-03\", \"1918-01-04\", \"1918-01-05\"], \"xaxis\": \"x\", \"y\": [7, 6, 5, 10, 10, 4, 12, 4, 12, 12, 8, 7, 9, 10, 13, 9, 11, 7, 5, 11, 6, 8, 13, 16, 25, 14, 40, 46, 48, 49, 49, 34, 36, 49, 21, 27, 31, 24, 25, 28, 24, 29, 18, 21, 22, 16, 23, 20, 25, 18, 25, 25, 25, 18, 19, 25, 11, 21, 13, 12, 21, 24, 28, 23, 21, 21, 18, 16, 11, 18, 19, 13, 20, 18, 16, 19, 19, 17, 22, 20, 13, 15, 22, 13, 20, 19, 12, 11, 17, 10, 25, 23, 15, 12, 11, 16, 11, 15, 10, 14, 15, 17, 9, 11, 13, 9, 13, 14, 16, 11, 12, 12, 15, 14, 16, 17, 15, 14, 15, 12, 17, 24, 11, 16, 17, 13, 15, 9, 14, 13, 10, 11, 18, 14, 14, 16, 17, 22, 16, 17, 18, 12, 13, 10, 14, 10, 20, 8, 14, 14, 14, 19, 28, 32, 34, 29, 27, 28, 20, 28, 17, 17, 25, 19, 20, 18, 18, 7, 18, 12, 17, 12, 15, 17, 14, 15, 19, 18, 9, 14, 14, 14, 11, 18, 17, 8, 18, 14, 13, 16, 21, 9, 19, 11, 13, 17, 21, 16, 10, 11, 16, 12, 14, 15, 16, 14, 15, 17, 16, 24, 13, 18, 18, 20, 11, 15, 15, 13, 10, 11, 11, 21, 8, 10, 14, 15, 9, 13, 14, 12, 14, 11, 18, 11, 6, 11, 14, 9, 13, 13, 14, 16, 11, 20, 13, 12, 13, 15, 17, 18, 11, 17, 16, 16, 17, 14, 22, 10, 12, 18, 17, 18, 17, 11, 16, 32, 53, 21, 33, 30, 41, 29, 18, 33, 34, 20, 15, 21, 18, 28, 21, 19, 22, 17, 24, 13, 18, 14, 11, 18, 16, 17, 15, 15, 19, 11, 15, 18, 15, 13, 20, 17, 14, 15, 22, 18, 16, 24, 13, 14, 18, 19, 11, 8, 19, 10, 19, 14, 13, 14, 11, 10, 14, 9, 14, 11, 8, 13, 7, 11, 10, 10, 9, 8, 10, 12, 14, 11, 22], \"yaxis\": \"y\"}],\n",
              "                        {\"legend\": {\"tracegroupgap\": 0}, \"template\": {\"data\": {\"bar\": [{\"error_x\": {\"color\": \"#2a3f5f\"}, \"error_y\": {\"color\": \"#2a3f5f\"}, \"marker\": {\"line\": {\"color\": \"#E5ECF6\", \"width\": 0.5}}, \"type\": \"bar\"}], \"barpolar\": [{\"marker\": {\"line\": {\"color\": \"#E5ECF6\", \"width\": 0.5}}, \"type\": \"barpolar\"}], \"carpet\": [{\"aaxis\": {\"endlinecolor\": \"#2a3f5f\", \"gridcolor\": \"white\", \"linecolor\": \"white\", \"minorgridcolor\": \"white\", \"startlinecolor\": \"#2a3f5f\"}, \"baxis\": {\"endlinecolor\": \"#2a3f5f\", \"gridcolor\": \"white\", \"linecolor\": \"white\", \"minorgridcolor\": \"white\", \"startlinecolor\": \"#2a3f5f\"}, \"type\": \"carpet\"}], \"choropleth\": [{\"colorbar\": {\"outlinewidth\": 0, \"ticks\": \"\"}, \"type\": \"choropleth\"}], \"contour\": [{\"colorbar\": {\"outlinewidth\": 0, \"ticks\": \"\"}, \"colorscale\": [[0.0, \"#0d0887\"], [0.1111111111111111, \"#46039f\"], [0.2222222222222222, \"#7201a8\"], [0.3333333333333333, \"#9c179e\"], [0.4444444444444444, \"#bd3786\"], [0.5555555555555556, \"#d8576b\"], [0.6666666666666666, \"#ed7953\"], [0.7777777777777778, \"#fb9f3a\"], [0.8888888888888888, \"#fdca26\"], [1.0, \"#f0f921\"]], \"type\": \"contour\"}], \"contourcarpet\": [{\"colorbar\": {\"outlinewidth\": 0, \"ticks\": \"\"}, \"type\": \"contourcarpet\"}], \"heatmap\": [{\"colorbar\": {\"outlinewidth\": 0, \"ticks\": \"\"}, \"colorscale\": [[0.0, \"#0d0887\"], [0.1111111111111111, \"#46039f\"], [0.2222222222222222, \"#7201a8\"], [0.3333333333333333, \"#9c179e\"], [0.4444444444444444, \"#bd3786\"], [0.5555555555555556, \"#d8576b\"], [0.6666666666666666, \"#ed7953\"], [0.7777777777777778, \"#fb9f3a\"], [0.8888888888888888, \"#fdca26\"], [1.0, \"#f0f921\"]], \"type\": \"heatmap\"}], \"heatmapgl\": [{\"colorbar\": {\"outlinewidth\": 0, \"ticks\": \"\"}, \"colorscale\": [[0.0, \"#0d0887\"], [0.1111111111111111, \"#46039f\"], [0.2222222222222222, \"#7201a8\"], [0.3333333333333333, \"#9c179e\"], [0.4444444444444444, \"#bd3786\"], [0.5555555555555556, \"#d8576b\"], [0.6666666666666666, \"#ed7953\"], [0.7777777777777778, \"#fb9f3a\"], [0.8888888888888888, \"#fdca26\"], [1.0, \"#f0f921\"]], \"type\": \"heatmapgl\"}], \"histogram\": [{\"marker\": {\"colorbar\": {\"outlinewidth\": 0, \"ticks\": \"\"}}, \"type\": \"histogram\"}], \"histogram2d\": [{\"colorbar\": {\"outlinewidth\": 0, \"ticks\": \"\"}, \"colorscale\": [[0.0, \"#0d0887\"], [0.1111111111111111, \"#46039f\"], [0.2222222222222222, \"#7201a8\"], [0.3333333333333333, \"#9c179e\"], [0.4444444444444444, \"#bd3786\"], [0.5555555555555556, \"#d8576b\"], [0.6666666666666666, \"#ed7953\"], [0.7777777777777778, \"#fb9f3a\"], [0.8888888888888888, \"#fdca26\"], [1.0, \"#f0f921\"]], \"type\": \"histogram2d\"}], \"histogram2dcontour\": [{\"colorbar\": {\"outlinewidth\": 0, \"ticks\": \"\"}, \"colorscale\": [[0.0, \"#0d0887\"], [0.1111111111111111, \"#46039f\"], [0.2222222222222222, \"#7201a8\"], [0.3333333333333333, \"#9c179e\"], [0.4444444444444444, \"#bd3786\"], [0.5555555555555556, \"#d8576b\"], [0.6666666666666666, \"#ed7953\"], [0.7777777777777778, \"#fb9f3a\"], [0.8888888888888888, \"#fdca26\"], [1.0, \"#f0f921\"]], \"type\": \"histogram2dcontour\"}], \"mesh3d\": [{\"colorbar\": {\"outlinewidth\": 0, \"ticks\": \"\"}, \"type\": \"mesh3d\"}], \"parcoords\": [{\"line\": {\"colorbar\": {\"outlinewidth\": 0, \"ticks\": \"\"}}, \"type\": \"parcoords\"}], \"pie\": [{\"automargin\": true, \"type\": \"pie\"}], \"scatter\": [{\"marker\": {\"colorbar\": {\"outlinewidth\": 0, \"ticks\": \"\"}}, \"type\": \"scatter\"}], \"scatter3d\": [{\"line\": {\"colorbar\": {\"outlinewidth\": 0, \"ticks\": \"\"}}, \"marker\": {\"colorbar\": {\"outlinewidth\": 0, \"ticks\": \"\"}}, \"type\": \"scatter3d\"}], \"scattercarpet\": [{\"marker\": {\"colorbar\": {\"outlinewidth\": 0, \"ticks\": \"\"}}, \"type\": \"scattercarpet\"}], \"scattergeo\": [{\"marker\": {\"colorbar\": {\"outlinewidth\": 0, \"ticks\": \"\"}}, \"type\": \"scattergeo\"}], \"scattergl\": [{\"marker\": {\"colorbar\": {\"outlinewidth\": 0, \"ticks\": \"\"}}, \"type\": \"scattergl\"}], \"scattermapbox\": [{\"marker\": {\"colorbar\": {\"outlinewidth\": 0, \"ticks\": \"\"}}, \"type\": \"scattermapbox\"}], \"scatterpolar\": [{\"marker\": {\"colorbar\": {\"outlinewidth\": 0, \"ticks\": \"\"}}, \"type\": \"scatterpolar\"}], \"scatterpolargl\": [{\"marker\": {\"colorbar\": {\"outlinewidth\": 0, \"ticks\": \"\"}}, \"type\": \"scatterpolargl\"}], \"scatterternary\": [{\"marker\": {\"colorbar\": {\"outlinewidth\": 0, \"ticks\": \"\"}}, \"type\": \"scatterternary\"}], \"surface\": [{\"colorbar\": {\"outlinewidth\": 0, \"ticks\": \"\"}, \"colorscale\": [[0.0, \"#0d0887\"], [0.1111111111111111, \"#46039f\"], [0.2222222222222222, \"#7201a8\"], [0.3333333333333333, \"#9c179e\"], [0.4444444444444444, \"#bd3786\"], [0.5555555555555556, \"#d8576b\"], [0.6666666666666666, \"#ed7953\"], [0.7777777777777778, \"#fb9f3a\"], [0.8888888888888888, \"#fdca26\"], [1.0, \"#f0f921\"]], \"type\": \"surface\"}], \"table\": [{\"cells\": {\"fill\": {\"color\": \"#EBF0F8\"}, \"line\": {\"color\": \"white\"}}, \"header\": {\"fill\": {\"color\": \"#C8D4E3\"}, \"line\": {\"color\": \"white\"}}, \"type\": \"table\"}]}, \"layout\": {\"annotationdefaults\": {\"arrowcolor\": \"#2a3f5f\", \"arrowhead\": 0, \"arrowwidth\": 1}, \"coloraxis\": {\"colorbar\": {\"outlinewidth\": 0, \"ticks\": \"\"}}, \"colorscale\": {\"diverging\": [[0, \"#8e0152\"], [0.1, \"#c51b7d\"], [0.2, \"#de77ae\"], [0.3, \"#f1b6da\"], [0.4, \"#fde0ef\"], [0.5, \"#f7f7f7\"], [0.6, \"#e6f5d0\"], [0.7, \"#b8e186\"], [0.8, \"#7fbc41\"], [0.9, \"#4d9221\"], [1, \"#276419\"]], \"sequential\": [[0.0, \"#0d0887\"], [0.1111111111111111, \"#46039f\"], [0.2222222222222222, \"#7201a8\"], [0.3333333333333333, \"#9c179e\"], [0.4444444444444444, \"#bd3786\"], [0.5555555555555556, \"#d8576b\"], [0.6666666666666666, \"#ed7953\"], [0.7777777777777778, \"#fb9f3a\"], [0.8888888888888888, \"#fdca26\"], [1.0, \"#f0f921\"]], \"sequentialminus\": [[0.0, \"#0d0887\"], [0.1111111111111111, \"#46039f\"], [0.2222222222222222, \"#7201a8\"], [0.3333333333333333, \"#9c179e\"], [0.4444444444444444, \"#bd3786\"], [0.5555555555555556, \"#d8576b\"], [0.6666666666666666, \"#ed7953\"], [0.7777777777777778, \"#fb9f3a\"], [0.8888888888888888, \"#fdca26\"], [1.0, \"#f0f921\"]]}, \"colorway\": [\"#636efa\", \"#EF553B\", \"#00cc96\", \"#ab63fa\", \"#FFA15A\", \"#19d3f3\", \"#FF6692\", \"#B6E880\", \"#FF97FF\", \"#FECB52\"], \"font\": {\"color\": \"#2a3f5f\"}, \"geo\": {\"bgcolor\": \"white\", \"lakecolor\": \"white\", \"landcolor\": \"#E5ECF6\", \"showlakes\": true, \"showland\": true, \"subunitcolor\": \"white\"}, \"hoverlabel\": {\"align\": \"left\"}, \"hovermode\": \"closest\", \"mapbox\": {\"style\": \"light\"}, \"paper_bgcolor\": \"white\", \"plot_bgcolor\": \"#E5ECF6\", \"polar\": {\"angularaxis\": {\"gridcolor\": \"white\", \"linecolor\": \"white\", \"ticks\": \"\"}, \"bgcolor\": \"#E5ECF6\", \"radialaxis\": {\"gridcolor\": \"white\", \"linecolor\": \"white\", \"ticks\": \"\"}}, \"scene\": {\"xaxis\": {\"backgroundcolor\": \"#E5ECF6\", \"gridcolor\": \"white\", \"gridwidth\": 2, \"linecolor\": \"white\", \"showbackground\": true, \"ticks\": \"\", \"zerolinecolor\": \"white\"}, \"yaxis\": {\"backgroundcolor\": \"#E5ECF6\", \"gridcolor\": \"white\", \"gridwidth\": 2, \"linecolor\": \"white\", \"showbackground\": true, \"ticks\": \"\", \"zerolinecolor\": \"white\"}, \"zaxis\": {\"backgroundcolor\": \"#E5ECF6\", \"gridcolor\": \"white\", \"gridwidth\": 2, \"linecolor\": \"white\", \"showbackground\": true, \"ticks\": \"\", \"zerolinecolor\": \"white\"}}, \"shapedefaults\": {\"line\": {\"color\": \"#2a3f5f\"}}, \"ternary\": {\"aaxis\": {\"gridcolor\": \"white\", \"linecolor\": \"white\", \"ticks\": \"\"}, \"baxis\": {\"gridcolor\": \"white\", \"linecolor\": \"white\", \"ticks\": \"\"}, \"bgcolor\": \"#E5ECF6\", \"caxis\": {\"gridcolor\": \"white\", \"linecolor\": \"white\", \"ticks\": \"\"}}, \"title\": {\"x\": 0.05}, \"xaxis\": {\"automargin\": true, \"gridcolor\": \"white\", \"linecolor\": \"white\", \"ticks\": \"\", \"title\": {\"standoff\": 15}, \"zerolinecolor\": \"white\", \"zerolinewidth\": 2}, \"yaxis\": {\"automargin\": true, \"gridcolor\": \"white\", \"linecolor\": \"white\", \"ticks\": \"\", \"title\": {\"standoff\": 15}, \"zerolinecolor\": \"white\", \"zerolinewidth\": 2}}}, \"title\": {\"text\": \"Diaries Entries about Revolution\"}, \"xaxis\": {\"anchor\": \"y\", \"domain\": [0.0, 1.0], \"rangeslider\": {\"visible\": true}, \"title\": {\"text\": \"Date\"}}, \"yaxis\": {\"anchor\": \"x\", \"domain\": [0.0, 1.0], \"title\": {\"text\": \"Counter\"}}},\n",
              "                        {\"responsive\": true}\n",
              "                    ).then(function(){\n",
              "                            \n",
              "var gd = document.getElementById('f10c66db-7a0c-45dc-8aca-fd5d5afa7530');\n",
              "var x = new MutationObserver(function (mutations, observer) {{\n",
              "        var display = window.getComputedStyle(gd).display;\n",
              "        if (!display || display === 'none') {{\n",
              "            console.log([gd, 'removed!']);\n",
              "            Plotly.purge(gd);\n",
              "            observer.disconnect();\n",
              "        }}\n",
              "}});\n",
              "\n",
              "// Listen for the removal of the full notebook cells\n",
              "var notebookContainer = gd.closest('#notebook-container');\n",
              "if (notebookContainer) {{\n",
              "    x.observe(notebookContainer, {childList: true});\n",
              "}}\n",
              "\n",
              "// Listen for the clearing of the current output cell\n",
              "var outputEl = gd.closest('.output');\n",
              "if (outputEl) {{\n",
              "    x.observe(outputEl, {childList: true});\n",
              "}}\n",
              "\n",
              "                        })\n",
              "                };\n",
              "                \n",
              "            </script>\n",
              "        </div>\n",
              "</body>\n",
              "</html>"
            ]
          },
          "metadata": {
            "tags": []
          }
        }
      ]
    }
  ]
}