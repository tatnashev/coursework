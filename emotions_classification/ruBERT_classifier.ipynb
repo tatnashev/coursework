{
  "nbformat": 4,
  "nbformat_minor": 0,
  "metadata": {
    "colab": {
      "name": "rusBERT_classifier.ipynb",
      "provenance": [],
      "collapsed_sections": [],
      "toc_visible": true
    },
    "kernelspec": {
      "name": "python3",
      "display_name": "Python 3"
    },
    "language_info": {
      "name": "python"
    },
    "accelerator": "GPU"
  },
  "cells": [
    {
      "cell_type": "code",
      "metadata": {
        "colab": {
          "base_uri": "https://localhost:8080/"
        },
        "id": "ywkVwUTOn2d2",
        "outputId": "24a7a9a1-37bf-4e14-d6fb-7ecfebfded46"
      },
      "source": [
        "!wget https://www.dropbox.com/s/mwpt967ncsjp42a/diaries_revolution_labeled_ver1.csv?dl=0 -O diaries.csv "
      ],
      "execution_count": 1,
      "outputs": [
        {
          "output_type": "stream",
          "text": [
            "--2021-04-28 14:36:32--  https://www.dropbox.com/s/mwpt967ncsjp42a/diaries_revolution_labeled_ver1.csv?dl=0\n",
            "Resolving www.dropbox.com (www.dropbox.com)... 162.125.1.18, 2620:100:6017:18::a27d:212\n",
            "Connecting to www.dropbox.com (www.dropbox.com)|162.125.1.18|:443... connected.\n",
            "HTTP request sent, awaiting response... 301 Moved Permanently\n",
            "Location: /s/raw/mwpt967ncsjp42a/diaries_revolution_labeled_ver1.csv [following]\n",
            "--2021-04-28 14:36:32--  https://www.dropbox.com/s/raw/mwpt967ncsjp42a/diaries_revolution_labeled_ver1.csv\n",
            "Reusing existing connection to www.dropbox.com:443.\n",
            "HTTP request sent, awaiting response... 302 Found\n",
            "Location: https://uc9a5da2f2556eea51f423e5c885.dl.dropboxusercontent.com/cd/0/inline/BNdZI2Ij9ZFgkNRA-B6Nux0f4lhabdEOhTxAjvNYBTm6m14WFQB4KSDgNaFiv8304Qs7gCz8XGZgDKVefWhaj0LdxMwaI-qDwoQJcpuzmR-iRPkUcR1mN8AsU3UjfjoT9wDi3osUaAyCRIIg88gkGHl7/file# [following]\n",
            "--2021-04-28 14:36:32--  https://uc9a5da2f2556eea51f423e5c885.dl.dropboxusercontent.com/cd/0/inline/BNdZI2Ij9ZFgkNRA-B6Nux0f4lhabdEOhTxAjvNYBTm6m14WFQB4KSDgNaFiv8304Qs7gCz8XGZgDKVefWhaj0LdxMwaI-qDwoQJcpuzmR-iRPkUcR1mN8AsU3UjfjoT9wDi3osUaAyCRIIg88gkGHl7/file\n",
            "Resolving uc9a5da2f2556eea51f423e5c885.dl.dropboxusercontent.com (uc9a5da2f2556eea51f423e5c885.dl.dropboxusercontent.com)... 162.125.1.15, 2620:100:601a:15::a27d:70f\n",
            "Connecting to uc9a5da2f2556eea51f423e5c885.dl.dropboxusercontent.com (uc9a5da2f2556eea51f423e5c885.dl.dropboxusercontent.com)|162.125.1.15|:443... connected.\n",
            "HTTP request sent, awaiting response... 200 OK\n",
            "Length: 11110669 (11M) [text/plain]\n",
            "Saving to: ‘diaries.csv’\n",
            "\n",
            "diaries.csv         100%[===================>]  10.60M  50.4MB/s    in 0.2s    \n",
            "\n",
            "2021-04-28 14:36:33 (50.4 MB/s) - ‘diaries.csv’ saved [11110669/11110669]\n",
            "\n"
          ],
          "name": "stdout"
        }
      ]
    },
    {
      "cell_type": "code",
      "metadata": {
        "id": "ZEsPUmhp1jvA"
      },
      "source": [
        "import pandas as pd \n",
        "import numpy as np \n",
        "import seaborn as sns \n",
        "sns.set()"
      ],
      "execution_count": 2,
      "outputs": []
    },
    {
      "cell_type": "code",
      "metadata": {
        "colab": {
          "base_uri": "https://localhost:8080/",
          "height": 281
        },
        "id": "2UXSOynm1iFW",
        "outputId": "58f162ec-1c0a-45b3-c0a8-4ba382360fa3"
      },
      "source": [
        "df = pd.read_csv('diaries.csv')\n",
        "df.head()"
      ],
      "execution_count": 3,
      "outputs": [
        {
          "output_type": "execute_result",
          "data": {
            "text/html": [
              "<div>\n",
              "<style scoped>\n",
              "    .dataframe tbody tr th:only-of-type {\n",
              "        vertical-align: middle;\n",
              "    }\n",
              "\n",
              "    .dataframe tbody tr th {\n",
              "        vertical-align: top;\n",
              "    }\n",
              "\n",
              "    .dataframe thead th {\n",
              "        text-align: right;\n",
              "    }\n",
              "</style>\n",
              "<table border=\"1\" class=\"dataframe\">\n",
              "  <thead>\n",
              "    <tr style=\"text-align: right;\">\n",
              "      <th></th>\n",
              "      <th>Author</th>\n",
              "      <th>Date</th>\n",
              "      <th>Text</th>\n",
              "      <th>Позитив</th>\n",
              "      <th>Негатив</th>\n",
              "      <th>Беспокойство</th>\n",
              "      <th>Гнев</th>\n",
              "      <th>Грусть</th>\n",
              "      <th>Уверенность</th>\n",
              "      <th>Согласие</th>\n",
              "    </tr>\n",
              "  </thead>\n",
              "  <tbody>\n",
              "    <tr>\n",
              "      <th>0</th>\n",
              "      <td>Михаил Богословский</td>\n",
              "      <td>1916-11-01</td>\n",
              "      <td>Был в факультетском заседании, на котором Груш...</td>\n",
              "      <td>0.0</td>\n",
              "      <td>1.0</td>\n",
              "      <td>0.0</td>\n",
              "      <td>1.0</td>\n",
              "      <td>1.0</td>\n",
              "      <td>1.0</td>\n",
              "      <td>1.0</td>\n",
              "    </tr>\n",
              "    <tr>\n",
              "      <th>1</th>\n",
              "      <td>Лев Троцкий</td>\n",
              "      <td>1916-11-01</td>\n",
              "      <td>Утром со шпиком ходил на почту. После того пос...</td>\n",
              "      <td>1.0</td>\n",
              "      <td>1.0</td>\n",
              "      <td>1.0</td>\n",
              "      <td>0.0</td>\n",
              "      <td>1.0</td>\n",
              "      <td>1.0</td>\n",
              "      <td>1.0</td>\n",
              "    </tr>\n",
              "    <tr>\n",
              "      <th>2</th>\n",
              "      <td>Анатолий Савенко</td>\n",
              "      <td>1916-11-01</td>\n",
              "      <td>Как жаль, что страна не узнает речи Милюкова. ...</td>\n",
              "      <td>0.0</td>\n",
              "      <td>1.0</td>\n",
              "      <td>1.0</td>\n",
              "      <td>0.0</td>\n",
              "      <td>1.0</td>\n",
              "      <td>0.0</td>\n",
              "      <td>0.0</td>\n",
              "    </tr>\n",
              "    <tr>\n",
              "      <th>3</th>\n",
              "      <td>Великий князь Николай Михайлович</td>\n",
              "      <td>1916-11-01</td>\n",
              "      <td>Я долго колебался открыть тебе истину, но посл...</td>\n",
              "      <td>1.0</td>\n",
              "      <td>1.0</td>\n",
              "      <td>0.0</td>\n",
              "      <td>1.0</td>\n",
              "      <td>0.0</td>\n",
              "      <td>1.0</td>\n",
              "      <td>0.0</td>\n",
              "    </tr>\n",
              "    <tr>\n",
              "      <th>4</th>\n",
              "      <td>Императрица Александра Федоровна</td>\n",
              "      <td>1916-11-01</td>\n",
              "      <td>Мой любимый, дорогой! Я очень огорчена тем, чт...</td>\n",
              "      <td>1.0</td>\n",
              "      <td>1.0</td>\n",
              "      <td>1.0</td>\n",
              "      <td>0.0</td>\n",
              "      <td>1.0</td>\n",
              "      <td>1.0</td>\n",
              "      <td>1.0</td>\n",
              "    </tr>\n",
              "  </tbody>\n",
              "</table>\n",
              "</div>"
            ],
            "text/plain": [
              "                             Author        Date  ... Уверенность  Согласие\n",
              "0               Михаил Богословский  1916-11-01  ...         1.0       1.0\n",
              "1                       Лев Троцкий  1916-11-01  ...         1.0       1.0\n",
              "2                  Анатолий Савенко  1916-11-01  ...         0.0       0.0\n",
              "3  Великий князь Николай Михайлович  1916-11-01  ...         1.0       0.0\n",
              "4  Императрица Александра Федоровна  1916-11-01  ...         1.0       1.0\n",
              "\n",
              "[5 rows x 10 columns]"
            ]
          },
          "metadata": {
            "tags": []
          },
          "execution_count": 3
        }
      ]
    },
    {
      "cell_type": "code",
      "metadata": {
        "id": "hPvAfJUuUEAg"
      },
      "source": [
        "emotions = ['Позитив', 'Негатив', 'Беспокойство', 'Гнев', 'Грусть', 'Уверенность', 'Согласие']"
      ],
      "execution_count": 4,
      "outputs": []
    },
    {
      "cell_type": "markdown",
      "metadata": {
        "id": "q6Oj8XJs154D"
      },
      "source": [
        "# Препроцессинг"
      ]
    },
    {
      "cell_type": "code",
      "metadata": {
        "colab": {
          "base_uri": "https://localhost:8080/"
        },
        "id": "oqIUxCbV1rAA",
        "outputId": "bb40647f-05d7-40f2-d7d4-7e2f23daac40"
      },
      "source": [
        "!pip install transformers"
      ],
      "execution_count": 5,
      "outputs": [
        {
          "output_type": "stream",
          "text": [
            "Requirement already satisfied: transformers in /usr/local/lib/python3.7/dist-packages (4.5.1)\n",
            "Requirement already satisfied: packaging in /usr/local/lib/python3.7/dist-packages (from transformers) (20.9)\n",
            "Requirement already satisfied: requests in /usr/local/lib/python3.7/dist-packages (from transformers) (2.23.0)\n",
            "Requirement already satisfied: filelock in /usr/local/lib/python3.7/dist-packages (from transformers) (3.0.12)\n",
            "Requirement already satisfied: numpy>=1.17 in /usr/local/lib/python3.7/dist-packages (from transformers) (1.19.5)\n",
            "Requirement already satisfied: regex!=2019.12.17 in /usr/local/lib/python3.7/dist-packages (from transformers) (2019.12.20)\n",
            "Requirement already satisfied: tqdm>=4.27 in /usr/local/lib/python3.7/dist-packages (from transformers) (4.41.1)\n",
            "Requirement already satisfied: tokenizers<0.11,>=0.10.1 in /usr/local/lib/python3.7/dist-packages (from transformers) (0.10.2)\n",
            "Requirement already satisfied: importlib-metadata; python_version < \"3.8\" in /usr/local/lib/python3.7/dist-packages (from transformers) (3.10.1)\n",
            "Requirement already satisfied: sacremoses in /usr/local/lib/python3.7/dist-packages (from transformers) (0.0.45)\n",
            "Requirement already satisfied: pyparsing>=2.0.2 in /usr/local/lib/python3.7/dist-packages (from packaging->transformers) (2.4.7)\n",
            "Requirement already satisfied: chardet<4,>=3.0.2 in /usr/local/lib/python3.7/dist-packages (from requests->transformers) (3.0.4)\n",
            "Requirement already satisfied: urllib3!=1.25.0,!=1.25.1,<1.26,>=1.21.1 in /usr/local/lib/python3.7/dist-packages (from requests->transformers) (1.24.3)\n",
            "Requirement already satisfied: idna<3,>=2.5 in /usr/local/lib/python3.7/dist-packages (from requests->transformers) (2.10)\n",
            "Requirement already satisfied: certifi>=2017.4.17 in /usr/local/lib/python3.7/dist-packages (from requests->transformers) (2020.12.5)\n",
            "Requirement already satisfied: typing-extensions>=3.6.4; python_version < \"3.8\" in /usr/local/lib/python3.7/dist-packages (from importlib-metadata; python_version < \"3.8\"->transformers) (3.7.4.3)\n",
            "Requirement already satisfied: zipp>=0.5 in /usr/local/lib/python3.7/dist-packages (from importlib-metadata; python_version < \"3.8\"->transformers) (3.4.1)\n",
            "Requirement already satisfied: six in /usr/local/lib/python3.7/dist-packages (from sacremoses->transformers) (1.15.0)\n",
            "Requirement already satisfied: click in /usr/local/lib/python3.7/dist-packages (from sacremoses->transformers) (7.1.2)\n",
            "Requirement already satisfied: joblib in /usr/local/lib/python3.7/dist-packages (from sacremoses->transformers) (1.0.1)\n"
          ],
          "name": "stdout"
        }
      ]
    },
    {
      "cell_type": "code",
      "metadata": {
        "id": "Ew_mDpEv3kcV"
      },
      "source": [
        "import torch \n",
        "from torch import nn \n",
        "from torch.utils.data import Dataset, DataLoader \n",
        "from torch.optim import AdamW\n",
        "from transformers import get_linear_schedule_with_warmup\n",
        "from sklearn.model_selection import train_test_split\n",
        "from sklearn.metrics import classification_report\n",
        "import torch.nn.functional as F"
      ],
      "execution_count": 8,
      "outputs": []
    },
    {
      "cell_type": "code",
      "metadata": {
        "id": "HrTJy2sZ1-4G"
      },
      "source": [
        "from transformers import AutoTokenizer, AutoModel\n",
        "  \n",
        "tokenizer = AutoTokenizer.from_pretrained(\"DeepPavlov/rubert-base-cased\")"
      ],
      "execution_count": 6,
      "outputs": []
    },
    {
      "cell_type": "code",
      "metadata": {
        "id": "mZvjFkOcTRpE"
      },
      "source": [
        "class DiariesDataset(Dataset): \n",
        "    def __init__(self, diaries, targets, tokenizer, max_len): \n",
        "        self.diaries = diaries \n",
        "        self.targets = targets \n",
        "        self.tokenizer = tokenizer \n",
        "        self.max_len = max_len \n",
        "\n",
        "    def __len__(self): \n",
        "        return len(self.diaries)\n",
        "\n",
        "    def __getitem__(self, idx): \n",
        "        record = str(self.diaries[idx])\n",
        "        target = self.targets[idx, :]\n",
        "\n",
        "        encoding = tokenizer.encode_plus( \n",
        "            record, \n",
        "            add_special_tokens=True, \n",
        "            max_length=self.max_len, \n",
        "            padding='max_length', \n",
        "            truncation=True, \n",
        "            return_token_type_ids=False, \n",
        "            return_attention_mask=True, \n",
        "            return_tensors='pt'\n",
        "        )\n",
        "\n",
        "        return {\n",
        "            'record_text': record, \n",
        "            'input_ids': encoding['input_ids'].flatten(), \n",
        "            'attention_mask': encoding['attention_mask'].flatten(), \n",
        "            'targets': torch.tensor(target, dtype=torch.long)\n",
        "        }"
      ],
      "execution_count": 9,
      "outputs": []
    },
    {
      "cell_type": "code",
      "metadata": {
        "id": "84D9yvPPVRRI"
      },
      "source": [
        "df_train, df_test = train_test_split(df, test_size=0.4, random_state=42)\n",
        "df_val, df_test = train_test_split(df_test, test_size=0.75, random_state=17)"
      ],
      "execution_count": 10,
      "outputs": []
    },
    {
      "cell_type": "code",
      "metadata": {
        "colab": {
          "base_uri": "https://localhost:8080/"
        },
        "id": "4LSov3TxVud0",
        "outputId": "86372cd7-2c3e-46d9-c7d9-c3257df88b1c"
      },
      "source": [
        "print(df_train.shape, df_test.shape, df_val.shape)"
      ],
      "execution_count": 11,
      "outputs": [
        {
          "output_type": "stream",
          "text": [
            "(4429, 10) (2215, 10) (738, 10)\n"
          ],
          "name": "stdout"
        }
      ]
    },
    {
      "cell_type": "code",
      "metadata": {
        "id": "kI0DbJszVyLL"
      },
      "source": [
        "def create_data_loader(df, tokenizer, batch_size, max_len): \n",
        "    data = DiariesDataset(\n",
        "        diaries=df['Text'].to_numpy(), \n",
        "        targets=df[emotions].to_numpy(), \n",
        "        tokenizer=tokenizer, \n",
        "        max_len = max_len \n",
        "    )\n",
        "\n",
        "    return DataLoader (\n",
        "        data, \n",
        "        batch_size=batch_size, \n",
        "        num_workers=2\n",
        "    )"
      ],
      "execution_count": 12,
      "outputs": []
    },
    {
      "cell_type": "code",
      "metadata": {
        "id": "k40q6FehWVrL"
      },
      "source": [
        "BATCH_SIZE = 8\n",
        "MAX_LEN = 512\n",
        "\n",
        "train_data_loader = create_data_loader(df_train, tokenizer, BATCH_SIZE, MAX_LEN)\n",
        "test_data_loader = create_data_loader(df_test, tokenizer, BATCH_SIZE, MAX_LEN)\n",
        "val_data_loader = create_data_loader(df_val, tokenizer, BATCH_SIZE, MAX_LEN)"
      ],
      "execution_count": 13,
      "outputs": []
    },
    {
      "cell_type": "markdown",
      "metadata": {
        "id": "tmGh_wybZFqc"
      },
      "source": [
        "# Обучение"
      ]
    },
    {
      "cell_type": "code",
      "metadata": {
        "id": "tmDvM4eFiPsy"
      },
      "source": [
        "class MultilabelSentimentClassifier(nn.Module): \n",
        "    def __init__(self, n_classes): \n",
        "        super(MultilabelSentimentClassifier, self).__init__()\n",
        "        self.bert = AutoModel.from_pretrained(\"DeepPavlov/rubert-base-cased\", return_dict=False)\n",
        "        self.drop = nn.Dropout(p=0.3)\n",
        "        self.out = nn.Linear(768, n_classes)\n",
        "\n",
        "    def forward(self, input_ids, attention_mask): \n",
        "        _, pooled_output = self.bert(\n",
        "            input_ids=input_ids, \n",
        "            attention_mask=attention_mask\n",
        "        )\n",
        "\n",
        "        output = self.drop(pooled_output)\n",
        "        return self.out(output)"
      ],
      "execution_count": 14,
      "outputs": []
    },
    {
      "cell_type": "code",
      "metadata": {
        "colab": {
          "base_uri": "https://localhost:8080/"
        },
        "id": "YoCxtXICkvL0",
        "outputId": "7979a5b8-2663-48ab-ea5d-f4babd4c9927"
      },
      "source": [
        "device = torch.device(\"cuda:0\" if torch.cuda.is_available() else \"cpu\")\n",
        "print(device)"
      ],
      "execution_count": 15,
      "outputs": [
        {
          "output_type": "stream",
          "text": [
            "cuda:0\n"
          ],
          "name": "stdout"
        }
      ]
    },
    {
      "cell_type": "code",
      "metadata": {
        "id": "KUmCAXjLkBXy"
      },
      "source": [
        "clf = MultilabelSentimentClassifier(n_classes=len(emotions))\n",
        "clf = clf.to(device)"
      ],
      "execution_count": 16,
      "outputs": []
    },
    {
      "cell_type": "code",
      "metadata": {
        "id": "CxKj61w6lSyO"
      },
      "source": [
        "EPOCHS = 4 \n",
        "\n",
        "weights = torch.tensor([1, 1, 2, 1, 2, 1, 3])\n",
        "weights = weights.to(device)\n",
        "\n",
        "optimizer = AdamW(clf.parameters(), lr=2e-5)\n",
        "loss_fn = nn.BCEWithLogitsLoss(weight=weights, reduction='mean')\n",
        "total_steps = len(train_data_loader) * EPOCHS \n",
        "\n",
        "scheduler = get_linear_schedule_with_warmup(\n",
        "  optimizer,\n",
        "  num_warmup_steps=0,\n",
        "  num_training_steps=total_steps\n",
        ")"
      ],
      "execution_count": 17,
      "outputs": []
    },
    {
      "cell_type": "code",
      "metadata": {
        "id": "oW4XUH7WU0gb"
      },
      "source": [
        "def train_epoch(\n",
        "    model, \n",
        "    data_loader, \n",
        "    loss_fn, \n",
        "    optimizer, \n",
        "    device, \n",
        "    scheduler\n",
        "): \n",
        "\n",
        "    model = model.train() \n",
        "\n",
        "    losses = []\n",
        "    correct_predictions = 0 \n",
        "\n",
        "    for data in data_loader: \n",
        "        input_ids = data['input_ids'].to(device)\n",
        "        attention_mask = data['attention_mask'].to(device)\n",
        "        targets = data['targets'].to(device)\n",
        "\n",
        "        output = model(\n",
        "            input_ids=input_ids, \n",
        "            attention_mask=attention_mask\n",
        "        )\n",
        "\n",
        "        targets=targets.type_as(output)\n",
        "\n",
        "        loss = loss_fn(output, targets)\n",
        "        losses.append(loss.item())\n",
        "\n",
        "        loss.backward()\n",
        "        nn.utils.clip_grad_norm(model.parameters(), max_norm=1.0)\n",
        "        optimizer.step()\n",
        "        scheduler.step()\n",
        "        optimizer.zero_grad()\n",
        "\n",
        "        output = torch.sigmoid(output)\n",
        "        output[output >= 0.5] = 1 \n",
        "        output[output < 0.5] = 0 \n",
        "\n",
        "        accuracy = ((output == targets).sum() / (targets.shape[0] * targets.shape[1]))\n",
        "    \n",
        "    return accuracy, np.mean(losses)"
      ],
      "execution_count": 18,
      "outputs": []
    },
    {
      "cell_type": "code",
      "metadata": {
        "id": "uH1E1LH0Wt54"
      },
      "source": [
        "def eval_model(\n",
        "    model, \n",
        "    data_loader, \n",
        "    loss_fn, \n",
        "    device\n",
        "): \n",
        "    model = model.eval() \n",
        "\n",
        "    losses = [] \n",
        "    with torch.no_grad(): \n",
        "        for data in data_loader: \n",
        "            input_ids = data['input_ids'].to(device)\n",
        "            attention_mask = data['attention_mask'].to(device)\n",
        "            targets = data['targets'].to(device)\n",
        "\n",
        "            output = model(\n",
        "                input_ids=input_ids, \n",
        "                attention_mask=attention_mask\n",
        "            )\n",
        "\n",
        "            targets=targets.type_as(output)\n",
        "\n",
        "            loss = loss_fn(output, targets)\n",
        "            losses.append(loss.item())\n",
        "\n",
        "            output = torch.sigmoid(output)\n",
        "            output[output >= 0.5] = 1 \n",
        "            output[output < 0.5] = 0 \n",
        "\n",
        "            accuracy = ((output == targets).sum() / (targets.shape[0] * targets.shape[1]))\n",
        "    \n",
        "    return accuracy, np.mean(losses)"
      ],
      "execution_count": 19,
      "outputs": []
    },
    {
      "cell_type": "code",
      "metadata": {
        "id": "jRR6UL0NXS7a"
      },
      "source": [
        "from collections import defaultdict "
      ],
      "execution_count": 20,
      "outputs": []
    },
    {
      "cell_type": "code",
      "metadata": {
        "colab": {
          "base_uri": "https://localhost:8080/"
        },
        "id": "9YJhROaNXeMs",
        "outputId": "227949ad-9bb3-4159-ae94-a2bb520bdcf1"
      },
      "source": [
        "history = defaultdict(list)\n",
        "\n",
        "for epoch in range(EPOCHS): \n",
        "    print(f'Epoch {epoch + 1}/{EPOCHS}')\n",
        "    print('-' * 10)\n",
        "\n",
        "    train_acc, train_loss = train_epoch(\n",
        "        clf, \n",
        "        train_data_loader, \n",
        "        loss_fn, \n",
        "        optimizer, \n",
        "        device, \n",
        "        scheduler \n",
        "    )\n",
        "\n",
        "    print('Train loss = {}, Train acc = {}'.format(train_loss, train_acc))\n",
        "\n",
        "    val_acc, val_loss = eval_model(\n",
        "        clf, \n",
        "        val_data_loader, \n",
        "        loss_fn, \n",
        "        device\n",
        "    )\n",
        "\n",
        "    print('Val loss = {}, Val acc = {}'.format(val_loss, val_acc), '\\n')\n",
        "\n",
        "    history['train_loss'].append(train_loss)\n",
        "    history['train_acc'].append(train_acc)\n",
        "    history['val_loss'].append(val_loss)\n",
        "    history['val_acc'].append(val_acc)\n",
        "\n",
        "    torch.save(clf, './model_w2_{}'.format(epoch + 1))"
      ],
      "execution_count": 21,
      "outputs": [
        {
          "output_type": "stream",
          "text": [
            "Epoch 1/4\n",
            "----------\n"
          ],
          "name": "stdout"
        },
        {
          "output_type": "stream",
          "text": [
            "/usr/local/lib/python3.7/dist-packages/ipykernel_launcher.py:31: UserWarning: torch.nn.utils.clip_grad_norm is now deprecated in favor of torch.nn.utils.clip_grad_norm_.\n"
          ],
          "name": "stderr"
        },
        {
          "output_type": "stream",
          "text": [
            "Train loss = 0.8120795297923932, Train acc = 0.7714285850524902\n",
            "Val loss = 0.6687710954937883, Val acc = 0.9285714626312256 \n",
            "\n",
            "Epoch 2/4\n",
            "----------\n",
            "Train loss = 0.5707176748380764, Train acc = 0.8285714387893677\n",
            "Val loss = 0.48873524608150604, Val acc = 0.9285714626312256 \n",
            "\n",
            "Epoch 3/4\n",
            "----------\n",
            "Train loss = 0.4185061195213011, Train acc = 0.9142857193946838\n",
            "Val loss = 0.4515269123097902, Val acc = 0.8571429252624512 \n",
            "\n",
            "Epoch 4/4\n",
            "----------\n",
            "Train loss = 0.3373583490129843, Train acc = 0.9142857193946838\n",
            "Val loss = 0.4214862504953979, Val acc = 0.8571429252624512 \n",
            "\n"
          ],
          "name": "stdout"
        }
      ]
    },
    {
      "cell_type": "code",
      "metadata": {
        "id": "Y42L2_1hl8BC",
        "colab": {
          "base_uri": "https://localhost:8080/",
          "height": 462
        },
        "outputId": "74b2ff4e-d989-4e6e-e5b3-2ac426a31ce6"
      },
      "source": [
        "import matplotlib.pyplot as plt\n",
        "import seaborn as sns \n",
        "sns.set()\n",
        "\n",
        "fig, (ax1, ax2) = plt.subplots(1, 2, figsize=(20, 7))\n",
        "x_val = np.arange(1, EPOCHS + 1)\n",
        "ax1.plot(x_val, history['train_acc'], label='train accuracy')\n",
        "ax1.plot(x_val, history['val_acc'], label='validation accuracy')\n",
        "ax2.plot(x_val, history['train_loss'], label='train loss')\n",
        "ax2.plot(x_val, history['val_loss'], label='validation loss')\n",
        "ax1.legend()\n",
        "ax2.legend()\n",
        "ax1.set(xlabel='epochs', ylabel='score', title='Accuracy')\n",
        "ax2.set(xlabel='epochs', ylabel='score', title='Loss')\n",
        "\n",
        "fig.show()"
      ],
      "execution_count": 22,
      "outputs": [
        {
          "output_type": "display_data",
          "data": {
            "image/png": "[encoded data removed]",
            "text/plain": [
              "<Figure size 1440x504 with 2 Axes>"
            ]
          },
          "metadata": {
            "tags": []
          }
        }
      ]
    },
    {
      "cell_type": "markdown",
      "metadata": {
        "id": "3mdIQmvRGl93"
      },
      "source": [
        "Считал все метрики у получившихся моделей в каждую эпоху, и, несмотря на такие графики, последняя получилась все же лучше остальных (особенно в плане F-score)."
      ]
    },
    {
      "cell_type": "code",
      "metadata": {
        "id": "C-h7fBm_uaY1",
        "colab": {
          "base_uri": "https://localhost:8080/"
        },
        "outputId": "82620b7e-a33c-4398-d510-8cc5fbd89826"
      },
      "source": [
        "test_acc, _ = eval_model(\n",
        "    clf,\n",
        "    test_data_loader, \n",
        "    loss_fn,\n",
        "    device\n",
        ")\n",
        "\n",
        "test_acc.item()"
      ],
      "execution_count": 29,
      "outputs": [
        {
          "output_type": "execute_result",
          "data": {
            "text/plain": [
              "0.8367346525192261"
            ]
          },
          "metadata": {
            "tags": []
          },
          "execution_count": 29
        }
      ]
    },
    {
      "cell_type": "code",
      "metadata": {
        "id": "bvMrYRhPvm-K"
      },
      "source": [
        "def get_predictions(model, data_loader): \n",
        "    model = model.eval()\n",
        "\n",
        "    records = []\n",
        "    predictions = []\n",
        "    real_values = []\n",
        "\n",
        "    with torch.no_grad(): \n",
        "        for data in data_loader: \n",
        "            texts = data['record_text']\n",
        "            input_ids = data['input_ids'].to(device)\n",
        "            attention_mask = data['attention_mask'].to(device)\n",
        "            targets = data['targets'].to(device)\n",
        "\n",
        "            output = model(\n",
        "                input_ids=input_ids, \n",
        "                attention_mask=attention_mask\n",
        "            )\n",
        "\n",
        "            output = torch.sigmoid(output)\n",
        "            output[output >= 0.5] = 1 \n",
        "            output[output < 0.5] = 0 \n",
        "\n",
        "            records.extend(texts)\n",
        "            predictions.extend(output)\n",
        "            real_values.extend(targets)\n",
        "\n",
        "    predictions = torch.stack(predictions).cpu()\n",
        "    real_values = torch.stack(real_values).cpu()\n",
        "\n",
        "    return records, predictions, real_values"
      ],
      "execution_count": 26,
      "outputs": []
    },
    {
      "cell_type": "code",
      "metadata": {
        "id": "LSK3adp_wwke",
        "colab": {
          "base_uri": "https://localhost:8080/"
        },
        "outputId": "9c63a6d8-6733-4f8e-dabe-c3e1fafc794d"
      },
      "source": [
        "print(classification_report(y_test, y_pred, target_names=emotions))"
      ],
      "execution_count": 28,
      "outputs": [
        {
          "output_type": "stream",
          "text": [
            "              precision    recall  f1-score   support\n",
            "\n",
            "     Позитив       0.85      0.97      0.91      1848\n",
            "     Негатив       0.91      0.95      0.93      1764\n",
            "Беспокойство       0.87      0.86      0.86       757\n",
            "        Гнев       0.86      0.92      0.89      1414\n",
            "      Грусть       0.78      0.79      0.79       865\n",
            " Уверенность       0.82      0.92      0.87      1583\n",
            "    Согласие       0.94      0.92      0.93       352\n",
            "\n",
            "   micro avg       0.85      0.92      0.89      8583\n",
            "   macro avg       0.86      0.91      0.88      8583\n",
            "weighted avg       0.86      0.92      0.89      8583\n",
            " samples avg       0.84      0.91      0.86      8583\n",
            "\n"
          ],
          "name": "stdout"
        },
        {
          "output_type": "stream",
          "text": [
            "/usr/local/lib/python3.7/dist-packages/sklearn/metrics/_classification.py:1272: UndefinedMetricWarning: Precision and F-score are ill-defined and being set to 0.0 in samples with no predicted labels. Use `zero_division` parameter to control this behavior.\n",
            "  _warn_prf(average, modifier, msg_start, len(result))\n"
          ],
          "name": "stderr"
        }
      ]
    },
    {
      "cell_type": "markdown",
      "metadata": {
        "id": "11iTD1I64niT"
      },
      "source": [
        "Получилось гораздо лучше, чем с RF. \n",
        "\n",
        "Особенно радует, что `recall` получился довольно большой (кроме грусти)"
      ]
    }
  ]
}